{
 "cells": [
  {
   "cell_type": "markdown",
   "id": "9db81444",
   "metadata": {},
   "source": [
    "# HW05 Encoding Qualitative Variables and Interations\n",
    "\n",
    "In this homework, we will explore how to encode qualitative variables and how to include interactions in regression models and see if they improve the model fit.\n",
    "As alwaysm we will start with loading the necessary libraries and the dataset."
   ]
  },
  {
   "cell_type": "markdown",
   "id": "8f0d915d",
   "metadata": {},
   "source": [
    "**Loading Libraries**\n"
   ]
  },
  {
   "cell_type": "code",
   "execution_count": 102,
   "id": "8bdf83b0",
   "metadata": {},
   "outputs": [],
   "source": [
    "import numpy as np\n",
    "import pandas as pd\n",
    "import matplotlib.pyplot as plt\n",
    "import statsmodels.api as sm\n",
    "import statsmodels\n",
    "import seaborn as sns\n",
    "plt.style.use('ggplot')\n",
    "# Set the number of rows to display\n",
    "pd.set_option('display.max_rows', 50)  # Change 20 to your desired number"
   ]
  },
  {
   "cell_type": "markdown",
   "id": "139e0fa3",
   "metadata": {},
   "source": [
    "**Loading dataset**"
   ]
  },
  {
   "cell_type": "code",
   "execution_count": 103,
   "id": "e5bc78d7",
   "metadata": {},
   "outputs": [
    {
     "name": "stdout",
     "output_type": "stream",
     "text": [
      "<class 'pandas.core.frame.DataFrame'>\n",
      "Index: 1387 entries, 1 to 1460\n",
      "Data columns (total 28 columns):\n",
      " #   Column                    Non-Null Count  Dtype  \n",
      "---  ------                    --------------  -----  \n",
      " 0   Dwelling Type             1387 non-null   object \n",
      " 1   Lot Frontage              1387 non-null   float64\n",
      " 2   Lot Area                  1387 non-null   int64  \n",
      " 3   Land Contour              1387 non-null   object \n",
      " 4   Neighborhood              1387 non-null   object \n",
      " 5   Location Condition        1387 non-null   object \n",
      " 6   Overall Quality           1387 non-null   int64  \n",
      " 7   Overall Cond              1387 non-null   int64  \n",
      " 8   Year Built                1387 non-null   int64  \n",
      " 9   Masonry/Veneer Area       1387 non-null   float64\n",
      " 10  Basement Finished Area    1387 non-null   int64  \n",
      " 11  Basement Unfinished Area  1387 non-null   int64  \n",
      " 12  1st Floor Area            1387 non-null   int64  \n",
      " 13  2nd Floor Area            1387 non-null   int64  \n",
      " 14  Bedrooms Above Grade      1387 non-null   int64  \n",
      " 15  Kitchen Qual              1387 non-null   object \n",
      " 16  Total Rooms Above Grade   1387 non-null   int64  \n",
      " 17  Fireplaces                1387 non-null   int64  \n",
      " 18  Garage Finish             1387 non-null   object \n",
      " 19  Garage Cars               1387 non-null   int64  \n",
      " 20  Sale Condition            1387 non-null   object \n",
      " 21  Sale Price                1387 non-null   int64  \n",
      " 22  Porch Area                1387 non-null   int64  \n",
      " 23  Full Bathrooms            1387 non-null   int64  \n",
      " 24  Half Bathrooms            1387 non-null   int64  \n",
      " 25  Pool                      1387 non-null   object \n",
      " 26  Extra Kitchens            1387 non-null   int64  \n",
      " 27  Baths per Bedroom         1387 non-null   float64\n",
      "dtypes: float64(3), int64(17), object(8)\n",
      "memory usage: 314.2+ KB\n"
     ]
    }
   ],
   "source": [
    "df_realstate = pd.read_csv('data/Real Estate Data - Week 5.csv',index_col=0,header=0)\n",
    "df_realstate.info()"
   ]
  },
  {
   "cell_type": "markdown",
   "id": "436b60e4",
   "metadata": {},
   "source": [
    "We need to encode those variable which are qualitative which is indicated by the `object` type in the dataset. And they are\n",
    "- Dwelling Type\n",
    "- Land Contour\n",
    "- Neighborhood\n",
    "- Location COndition\n",
    "- Kitchen Qual\n",
    "- Garage Finish\n",
    "- Sale Condition\n",
    "- Pool\n",
    "\n",
    "Most of the models require numeric unput. Categorical variables must be encoded to be used in modeling."
   ]
  },
  {
   "cell_type": "markdown",
   "id": "2a028392",
   "metadata": {},
   "source": [
    "## Create the initial model with Quantitative variables only\n",
    "\n",
    "### Section 5a : Create X and y\n",
    "\n",
    "Task in hand:\n",
    "Build a multiple regression model to predict house sale prices using the quantitative variables only.\n"
   ]
  },
  {
   "cell_type": "code",
   "execution_count": 104,
   "id": "efe44cac",
   "metadata": {},
   "outputs": [
    {
     "name": "stdout",
     "output_type": "stream",
     "text": [
      "                            OLS Regression Results                            \n",
      "==============================================================================\n",
      "Dep. Variable:             Sale Price   R-squared:                       0.857\n",
      "Model:                            OLS   Adj. R-squared:                  0.855\n",
      "Method:                 Least Squares   F-statistic:                     455.6\n",
      "Date:                Fri, 13 Jun 2025   Prob (F-statistic):               0.00\n",
      "Time:                        11:28:44   Log-Likelihood:                -16115.\n",
      "No. Observations:                1387   AIC:                         3.227e+04\n",
      "Df Residuals:                    1368   BIC:                         3.237e+04\n",
      "Df Model:                          18                                         \n",
      "Covariance Type:            nonrobust                                         \n",
      "============================================================================================\n",
      "                               coef    std err          t      P>|t|      [0.025      0.975]\n",
      "--------------------------------------------------------------------------------------------\n",
      "const                    -9.975e+04   7299.265    -13.666      0.000   -1.14e+05   -8.54e+04\n",
      "Lot Frontage                85.6777     22.383      3.828      0.000      41.770     129.585\n",
      "Lot Area                     0.5257      0.078      6.697      0.000       0.372       0.680\n",
      "Overall Quality           1.856e+04    879.786     21.101      0.000    1.68e+04    2.03e+04\n",
      "Overall Cond              3034.0501    702.252      4.320      0.000    1656.443    4411.657\n",
      "Masonry/Veneer Area         22.7251      4.745      4.789      0.000      13.417      32.033\n",
      "Basement Finished Area      34.1988      3.195     10.704      0.000      27.931      40.466\n",
      "Basement Unfinished Area    18.0606      2.935      6.153      0.000      12.303      23.819\n",
      "1st Floor Area              56.0644      4.263     13.150      0.000      47.701      64.428\n",
      "2nd Floor Area              43.8518      3.649     12.019      0.000      36.694      51.009\n",
      "Bedrooms Above Grade     -9601.9196   1762.110     -5.449      0.000   -1.31e+04   -6145.188\n",
      "Total Rooms Above Grade   2800.2162    989.502      2.830      0.005     859.111    4741.321\n",
      "Fireplaces                 615.9098   1374.671      0.448      0.654   -2080.783    3312.602\n",
      "Garage Cars               1.187e+04   1384.520      8.576      0.000    9157.516    1.46e+04\n",
      "Porch Area                  19.6883      5.198      3.787      0.000       9.491      29.886\n",
      "Full Bathrooms            8211.0878   2084.296      3.940      0.000    4122.326    1.23e+04\n",
      "Half Bathrooms            4233.6917   1686.593      2.510      0.012     925.104    7542.280\n",
      "Extra Kitchens           -3.023e+04   3907.663     -7.737      0.000   -3.79e+04   -2.26e+04\n",
      "Baths per Bedroom        -1416.6686   4099.113     -0.346      0.730   -9457.896    6624.559\n",
      "==============================================================================\n",
      "Omnibus:                      112.144   Durbin-Watson:                   2.017\n",
      "Prob(Omnibus):                  0.000   Jarque-Bera (JB):              402.851\n",
      "Skew:                           0.331   Prob(JB):                     3.33e-88\n",
      "Kurtosis:                       5.556   Cond. No.                     1.54e+05\n",
      "==============================================================================\n",
      "\n",
      "Notes:\n",
      "[1] Standard Errors assume that the covariance matrix of the errors is correctly specified.\n",
      "[2] The condition number is large, 1.54e+05. This might indicate that there are\n",
      "strong multicollinearity or other numerical problems.\n"
     ]
    }
   ],
   "source": [
    "\n",
    "\n",
    "# Define X and y\n",
    "X = df_realstate[['Lot Frontage', 'Lot Area', 'Overall Quality', 'Overall Cond', 'Masonry/Veneer Area',\n",
    "        'Basement Finished Area', 'Basement Unfinished Area', '1st Floor Area', '2nd Floor Area',\n",
    "        'Bedrooms Above Grade', 'Total Rooms Above Grade', 'Fireplaces', 'Garage Cars',\n",
    "        'Porch Area', 'Full Bathrooms', 'Half Bathrooms', 'Extra Kitchens', 'Baths per Bedroom']]\n",
    "y = df_realstate['Sale Price']\n",
    "\n",
    "# Add a constant to X\n",
    "X = sm.add_constant(X)\n",
    "\n",
    "# Fit the model\n",
    "reg = sm.OLS(y, X).fit()\n",
    "\n",
    "# Predict using the model\n",
    "pred = reg.predict(X)\n",
    "\n",
    "# Calculate residuals\n",
    "resid = y - pred\n",
    "\n",
    "# Show summary of results\n",
    "print(reg.summary())"
   ]
  },
  {
   "cell_type": "markdown",
   "id": "5244018a",
   "metadata": {},
   "source": [
    "## 6. Encode Qualitative variables using One-Hot and Label Encoder\n",
    "\n",
    "### Section 6a : One-hot encoding Land Contour\n",
    "1. **Analyze & Convert 'Land Contour'**  \n",
    "   - Use `groupby`/`value_counts` to check labels  \n",
    "   - Create dummy variables (`prefix='lc'`, `drop_first=False`, `dtype='int'`)  \n",
    "   - Verify with `dummies_lc.sample(15, random_state=42)`\n",
    "\n",
    "2. **Process All Qualitative Variables**  \n",
    "   - Repeat for each variable:  \n",
    "     ∙ Check labels via `groupby`/`value_counts`  \n",
    "     ∙ Generate dummies (variable-specific `prefix`, `drop_first=False`)  \n",
    "     ∙ Drop original column with highest count  \n",
    "\n",
    "3. **Final Validation**  \n",
    "   - Confirm dummy columns replace all original qualitative features  \n",
    "   - Check for remaining null values before modeling  "
   ]
  },
  {
   "cell_type": "code",
   "execution_count": 105,
   "id": "c1bf22ec",
   "metadata": {},
   "outputs": [
    {
     "name": "stdout",
     "output_type": "stream",
     "text": [
      "Land Contour\n",
      "Level         1248\n",
      "Banked          57\n",
      "Hillside        48\n",
      "Depression      34\n",
      "Name: Land Contour, dtype: int64\n"
     ]
    }
   ],
   "source": [
    "# Group by 'Land Contour' and count occurrences, then sort descending\n",
    "land_contour_counts = df_realstate.groupby('Land Contour')['Land Contour'].count().sort_values(ascending=False)\n",
    "print(land_contour_counts)\n",
    "\n",
    "# Alternatively, using value_counts:\n",
    "# print(df_realstate['Land"
   ]
  },
  {
   "cell_type": "code",
   "execution_count": 106,
   "id": "43788fa3",
   "metadata": {},
   "outputs": [],
   "source": [
    "# Create dummy variables for 'Land Contour'\n",
    "dummies_lc = pd.get_dummies(df_realstate['Land Contour'], prefix='lc', drop_first=False, dtype='int')\n"
   ]
  },
  {
   "cell_type": "code",
   "execution_count": 107,
   "id": "43d5ed89",
   "metadata": {},
   "outputs": [
    {
     "data": {
      "application/vnd.microsoft.datawrangler.viewer.v0+json": {
       "columns": [
        {
         "name": "Id",
         "rawType": "int64",
         "type": "integer"
        },
        {
         "name": "lc_Banked",
         "rawType": "int32",
         "type": "integer"
        },
        {
         "name": "lc_Depression",
         "rawType": "int32",
         "type": "integer"
        },
        {
         "name": "lc_Hillside",
         "rawType": "int32",
         "type": "integer"
        },
        {
         "name": "lc_Level",
         "rawType": "int32",
         "type": "integer"
        }
       ],
       "ref": "9bfe9db9-42be-4be5-a156-ab9dd0ece546",
       "rows": [
        [
         "685",
         "0",
         "0",
         "0",
         "1"
        ],
        [
         "219",
         "0",
         "0",
         "0",
         "1"
        ],
        [
         "996",
         "0",
         "0",
         "0",
         "1"
        ],
        [
         "716",
         "0",
         "0",
         "0",
         "1"
        ],
        [
         "846",
         "0",
         "0",
         "0",
         "1"
        ],
        [
         "251",
         "0",
         "0",
         "0",
         "1"
        ],
        [
         "909",
         "0",
         "1",
         "0",
         "0"
        ],
        [
         "555",
         "0",
         "0",
         "0",
         "1"
        ],
        [
         "761",
         "0",
         "0",
         "0",
         "1"
        ],
        [
         "806",
         "0",
         "0",
         "0",
         "1"
        ],
        [
         "369",
         "0",
         "0",
         "0",
         "1"
        ],
        [
         "1107",
         "0",
         "0",
         "0",
         "1"
        ],
        [
         "1002",
         "0",
         "0",
         "0",
         "1"
        ],
        [
         "81",
         "0",
         "0",
         "0",
         "1"
        ],
        [
         "1192",
         "0",
         "0",
         "0",
         "1"
        ]
       ],
       "shape": {
        "columns": 4,
        "rows": 15
       }
      },
      "text/html": [
       "<div>\n",
       "<style scoped>\n",
       "    .dataframe tbody tr th:only-of-type {\n",
       "        vertical-align: middle;\n",
       "    }\n",
       "\n",
       "    .dataframe tbody tr th {\n",
       "        vertical-align: top;\n",
       "    }\n",
       "\n",
       "    .dataframe thead th {\n",
       "        text-align: right;\n",
       "    }\n",
       "</style>\n",
       "<table border=\"1\" class=\"dataframe\">\n",
       "  <thead>\n",
       "    <tr style=\"text-align: right;\">\n",
       "      <th></th>\n",
       "      <th>lc_Banked</th>\n",
       "      <th>lc_Depression</th>\n",
       "      <th>lc_Hillside</th>\n",
       "      <th>lc_Level</th>\n",
       "    </tr>\n",
       "    <tr>\n",
       "      <th>Id</th>\n",
       "      <th></th>\n",
       "      <th></th>\n",
       "      <th></th>\n",
       "      <th></th>\n",
       "    </tr>\n",
       "  </thead>\n",
       "  <tbody>\n",
       "    <tr>\n",
       "      <th>685</th>\n",
       "      <td>0</td>\n",
       "      <td>0</td>\n",
       "      <td>0</td>\n",
       "      <td>1</td>\n",
       "    </tr>\n",
       "    <tr>\n",
       "      <th>219</th>\n",
       "      <td>0</td>\n",
       "      <td>0</td>\n",
       "      <td>0</td>\n",
       "      <td>1</td>\n",
       "    </tr>\n",
       "    <tr>\n",
       "      <th>996</th>\n",
       "      <td>0</td>\n",
       "      <td>0</td>\n",
       "      <td>0</td>\n",
       "      <td>1</td>\n",
       "    </tr>\n",
       "    <tr>\n",
       "      <th>716</th>\n",
       "      <td>0</td>\n",
       "      <td>0</td>\n",
       "      <td>0</td>\n",
       "      <td>1</td>\n",
       "    </tr>\n",
       "    <tr>\n",
       "      <th>846</th>\n",
       "      <td>0</td>\n",
       "      <td>0</td>\n",
       "      <td>0</td>\n",
       "      <td>1</td>\n",
       "    </tr>\n",
       "    <tr>\n",
       "      <th>251</th>\n",
       "      <td>0</td>\n",
       "      <td>0</td>\n",
       "      <td>0</td>\n",
       "      <td>1</td>\n",
       "    </tr>\n",
       "    <tr>\n",
       "      <th>909</th>\n",
       "      <td>0</td>\n",
       "      <td>1</td>\n",
       "      <td>0</td>\n",
       "      <td>0</td>\n",
       "    </tr>\n",
       "    <tr>\n",
       "      <th>555</th>\n",
       "      <td>0</td>\n",
       "      <td>0</td>\n",
       "      <td>0</td>\n",
       "      <td>1</td>\n",
       "    </tr>\n",
       "    <tr>\n",
       "      <th>761</th>\n",
       "      <td>0</td>\n",
       "      <td>0</td>\n",
       "      <td>0</td>\n",
       "      <td>1</td>\n",
       "    </tr>\n",
       "    <tr>\n",
       "      <th>806</th>\n",
       "      <td>0</td>\n",
       "      <td>0</td>\n",
       "      <td>0</td>\n",
       "      <td>1</td>\n",
       "    </tr>\n",
       "    <tr>\n",
       "      <th>369</th>\n",
       "      <td>0</td>\n",
       "      <td>0</td>\n",
       "      <td>0</td>\n",
       "      <td>1</td>\n",
       "    </tr>\n",
       "    <tr>\n",
       "      <th>1107</th>\n",
       "      <td>0</td>\n",
       "      <td>0</td>\n",
       "      <td>0</td>\n",
       "      <td>1</td>\n",
       "    </tr>\n",
       "    <tr>\n",
       "      <th>1002</th>\n",
       "      <td>0</td>\n",
       "      <td>0</td>\n",
       "      <td>0</td>\n",
       "      <td>1</td>\n",
       "    </tr>\n",
       "    <tr>\n",
       "      <th>81</th>\n",
       "      <td>0</td>\n",
       "      <td>0</td>\n",
       "      <td>0</td>\n",
       "      <td>1</td>\n",
       "    </tr>\n",
       "    <tr>\n",
       "      <th>1192</th>\n",
       "      <td>0</td>\n",
       "      <td>0</td>\n",
       "      <td>0</td>\n",
       "      <td>1</td>\n",
       "    </tr>\n",
       "  </tbody>\n",
       "</table>\n",
       "</div>"
      ],
      "text/plain": [
       "      lc_Banked  lc_Depression  lc_Hillside  lc_Level\n",
       "Id                                                   \n",
       "685           0              0            0         1\n",
       "219           0              0            0         1\n",
       "996           0              0            0         1\n",
       "716           0              0            0         1\n",
       "846           0              0            0         1\n",
       "251           0              0            0         1\n",
       "909           0              1            0         0\n",
       "555           0              0            0         1\n",
       "761           0              0            0         1\n",
       "806           0              0            0         1\n",
       "369           0              0            0         1\n",
       "1107          0              0            0         1\n",
       "1002          0              0            0         1\n",
       "81            0              0            0         1\n",
       "1192          0              0            0         1"
      ]
     },
     "execution_count": 107,
     "metadata": {},
     "output_type": "execute_result"
    }
   ],
   "source": [
    "# View a sample of 15 rows from the dummies_lc DataFrame\n",
    "dummies_lc.sample(15, random_state=42)"
   ]
  },
  {
   "cell_type": "code",
   "execution_count": 108,
   "id": "35b7391a",
   "metadata": {},
   "outputs": [],
   "source": [
    "# Drop the 'lc_Level' column from dummies_lc\n",
    "dummies_lc = dummies_lc.drop('lc_Level', axis=1)"
   ]
  },
  {
   "cell_type": "markdown",
   "id": "d884b99b",
   "metadata": {},
   "source": [
    "### Section 6b: One-hot encoding Dwelling Type \n",
    "• Create a code block and to show a groupby or value_count for Dwelling Type. \n",
    "• Create a code block to create the dummy variables for Dwelling Type and name the \n",
    "dummy variables DataFrame dummies_dt.  \n",
    "o Below are the properties to set: \n",
    "• prefix = ‘dt’ \n",
    "• drop_first = False \n",
    "• dtype=’int’ \n",
    "• Create a code block to drop the highest value count within dummies_dt."
   ]
  },
  {
   "cell_type": "code",
   "execution_count": 109,
   "id": "886e8ed0",
   "metadata": {},
   "outputs": [
    {
     "name": "stdout",
     "output_type": "stream",
     "text": [
      "Dwelling Type\n",
      "1-STORY 1946 & NEWER    527\n",
      "2-STORY 1946 & NEWER    290\n",
      "1-1/2 STORY ALL AGES    138\n",
      "1-STORY PUD              87\n",
      "2-STORY PUD              63\n",
      "1-STORY 1945 & OLDER     62\n",
      "2-STORY 1945 & OLDER     58\n",
      "SPLIT OR MULTI-LEVEL     57\n",
      "DUPLEX                   44\n",
      "2 FAMILY CONVERSION      27\n",
      "SPLIT FOYER              20\n",
      "2-1/2 STORY ALL AGES     14\n",
      "Name: count, dtype: int64\n"
     ]
    },
    {
     "data": {
      "text/plain": [
       "(1387, 12)"
      ]
     },
     "execution_count": 109,
     "metadata": {},
     "output_type": "execute_result"
    }
   ],
   "source": [
    "# Show value counts for 'Dwelling Type'\n",
    "print(df_realstate['Dwelling Type'].value_counts())\n",
    "# Create dummy variables for 'Dwelling Type'\n",
    "dummies_dt = pd.get_dummies(df_realstate['Dwelling Type'], prefix='dt', drop_first=False, dtype='int')\n",
    "dummies_dt.head()\n",
    "dummies_dt.shape\n",
    "\n",
    "\n"
   ]
  },
  {
   "cell_type": "code",
   "execution_count": 110,
   "id": "f8312745",
   "metadata": {},
   "outputs": [
    {
     "data": {
      "text/plain": [
       "(1387, 11)"
      ]
     },
     "execution_count": 110,
     "metadata": {},
     "output_type": "execute_result"
    }
   ],
   "source": [
    "dummies_dt = dummies_dt.drop('dt_1-STORY 1946 & NEWER', axis=1)\n",
    "dummies_dt.shape"
   ]
  },
  {
   "cell_type": "markdown",
   "id": "682784dd",
   "metadata": {},
   "source": [
    "Section 6c: One-hot encoding Neighborhood \n",
    "• Create a code block and to show a groupby or value_count for Neighborhood. \n",
    "• Create a code block to create the dummy variables for Neighborhood and name \n",
    "the dummy variables DataFrame dummies_nh.  \n",
    "o Below are the properties to set: \n",
    "• prefix = ‘nh’ \n",
    "• drop_first = False \n",
    "• dtype=’int’ \n",
    "• Create a code block to drop the highest value count within dummies_nh. "
   ]
  },
  {
   "cell_type": "code",
   "execution_count": 111,
   "id": "0e41edc8",
   "metadata": {},
   "outputs": [
    {
     "name": "stdout",
     "output_type": "stream",
     "text": [
      "Neighborhood\n",
      "North Ames                    214\n",
      "College Creek                 150\n",
      "Old Town                      101\n",
      "Edwards                        87\n",
      "Somerset                       86\n",
      "Gilbert                        79\n",
      "Sawyer                         74\n",
      "Northridge Heights             74\n",
      "Northwest Ames                 73\n",
      "Sawyer West                    58\n",
      "Crawford                       50\n",
      "Brookside                      49\n",
      "Mitchell                       46\n",
      "Northridge                     38\n",
      "Timberland                     36\n",
      "Iowa DOT and Rail Road         34\n",
      "Clear Creek                    27\n",
      "South & West of Iowa State     24\n",
      "Stone Brook                    22\n",
      "Bloomington Heights            17\n",
      "Briardale                      16\n",
      "Veenker                        11\n",
      "Meadow Village                 10\n",
      "Northpark Villa                 9\n",
      "Bluestem                        2\n",
      "Name: count, dtype: int64\n"
     ]
    },
    {
     "data": {
      "text/plain": [
       "(1387, 25)"
      ]
     },
     "execution_count": 111,
     "metadata": {},
     "output_type": "execute_result"
    }
   ],
   "source": [
    "# Show value counts for 'Dwelling Type'\n",
    "print(df_realstate['Neighborhood'].value_counts())\n",
    "# Create dummy variables for 'Dwelling Type'\n",
    "dummies_nh = pd.get_dummies(df_realstate['Neighborhood'], prefix='dt', drop_first=False, dtype='int')\n",
    "dummies_nh.head()\n",
    "dummies_nh.shape\n",
    "\n",
    "\n"
   ]
  },
  {
   "cell_type": "code",
   "execution_count": 112,
   "id": "738ae032",
   "metadata": {},
   "outputs": [
    {
     "data": {
      "text/plain": [
       "(1387, 24)"
      ]
     },
     "execution_count": 112,
     "metadata": {},
     "output_type": "execute_result"
    }
   ],
   "source": [
    "dummies_nh = dummies_nh.drop('dt_North Ames', axis=1)\n",
    "dummies_nh.shape"
   ]
  },
  {
   "cell_type": "markdown",
   "id": "5bd74241",
   "metadata": {},
   "source": [
    "Section 6d: One-hot encoding Location Condition \n",
    "• Create a code block and to show a groupby or value_count for Location Condition. \n",
    "• Create a code block to create the dummy variables for Location Condition and \n",
    "name the dummy variables DataFrame dummies_locc.  \n",
    "o Below are the properties to set: \n",
    "• prefix = ‘locc’ \n",
    "• drop_first = False \n",
    "• dtype=’int’ \n",
    "• Create a code block to drop the highest value count within dummies_locc. "
   ]
  },
  {
   "cell_type": "code",
   "execution_count": 113,
   "id": "5d8ccf95",
   "metadata": {},
   "outputs": [
    {
     "name": "stdout",
     "output_type": "stream",
     "text": [
      "Location Condition\n",
      "Normal                  1200\n",
      "Adjacent Feeder St        72\n",
      "Adjacent Arterial St      43\n",
      "Adjacent Railroad         37\n",
      "Near Pos Feature          18\n",
      "Near Railroad              9\n",
      "Adjacent Pos Feature       8\n",
      "Name: count, dtype: int64\n"
     ]
    },
    {
     "data": {
      "text/plain": [
       "(1387, 7)"
      ]
     },
     "execution_count": 113,
     "metadata": {},
     "output_type": "execute_result"
    }
   ],
   "source": [
    "# Show value counts for 'Location Condition'\n",
    "print(df_realstate['Location Condition'].value_counts())\n",
    "# Create dummy variables for 'Location Condition'\n",
    "dummies_locc = pd.get_dummies(df_realstate['Location Condition'], prefix='locc', drop_first=False, dtype='int')\n",
    "dummies_locc.head()\n",
    "dummies_locc.shape"
   ]
  },
  {
   "cell_type": "code",
   "execution_count": 114,
   "id": "9a8c6e57",
   "metadata": {},
   "outputs": [
    {
     "data": {
      "text/plain": [
       "(1387, 6)"
      ]
     },
     "execution_count": 114,
     "metadata": {},
     "output_type": "execute_result"
    }
   ],
   "source": [
    "dummies_locc= dummies_locc.drop('locc_Normal', axis=1)\n",
    "dummies_locc.shape"
   ]
  },
  {
   "cell_type": "markdown",
   "id": "0defb5c5",
   "metadata": {},
   "source": [
    "Section 6e: One-hot encoding Garage Finish \n",
    "• Create a code block and to show a groupby or value_count for Garage Finish. \n",
    "• Create a code block to create the dummy variables for Garage Finish and name the \n",
    "dummy variables DataFrame dummies_gf.  \n",
    "o Below are the properties to set: \n",
    "• prefix = ‘gf’ \n",
    "• drop_first = False \n",
    "• dtype=’int’ \n",
    "• Create a code block to drop the ‘gf_No Garage’ within dummies_gf.  \n",
    "(Changed 9/24) "
   ]
  },
  {
   "cell_type": "code",
   "execution_count": 115,
   "id": "e42b1b80",
   "metadata": {},
   "outputs": [
    {
     "name": "stdout",
     "output_type": "stream",
     "text": [
      "Garage Finish\n",
      "Unfinished        570\n",
      "Rough Finished    418\n",
      "Finished          336\n",
      "No Garage          63\n",
      "Name: count, dtype: int64\n"
     ]
    }
   ],
   "source": [
    "# Show value counts for 'Garage Finish'\n",
    "print(df_realstate['Garage Finish'].value_counts())\n",
    "# Create dummy variables for 'Garage Finish'\n",
    "dummies_gf = pd.get_dummies(df_realstate['Garage Finish'], prefix='gf', drop_first=False, dtype='int')\n",
    "dummies_gf.head()\n",
    "# Drop the 'gf_No Garage' column from dummies_gf\n",
    "dummies_gf = dummies_gf.drop('gf_No Garage', axis=1)"
   ]
  },
  {
   "cell_type": "markdown",
   "id": "747a7755",
   "metadata": {},
   "source": [
    "Section 6f: One-hot encoding Sale Condition \n",
    "• Create a code block and to show a groupby or value_count for Sale Condition. \n",
    "• Create a code block to create the dummy variables for Sale Condition and name \n",
    "the dummy variables DataFrame dummies_sc.  \n",
    "o Below are the properties to set: \n",
    "• prefix = ‘sc’ \n",
    "• drop_first = False \n",
    "• dtype=’int’ \n",
    "• Create a code block to drop the highest value count within dummies_sc. \n",
    "• Create a code block to view the column names. \n"
   ]
  },
  {
   "cell_type": "code",
   "execution_count": 116,
   "id": "56446d40",
   "metadata": {},
   "outputs": [
    {
     "name": "stdout",
     "output_type": "stream",
     "text": [
      "Sale Condition\n",
      "Normal Sale                                                                                   1146\n",
      "Home was not completed when last assessed (associated with New Homes)                          118\n",
      "Abnormal Sale -  trade, foreclosure, short sale                                                 92\n",
      "Sale between family members                                                                     20\n",
      "Allocation - two linked properties with separate deeds, typically condo with a garage unit      11\n",
      "Name: count, dtype: int64\n"
     ]
    },
    {
     "data": {
      "application/vnd.microsoft.datawrangler.viewer.v0+json": {
       "columns": [
        {
         "name": "Id",
         "rawType": "int64",
         "type": "integer"
        },
        {
         "name": "sc_Abnormal Sale -  trade, foreclosure, short sale",
         "rawType": "int32",
         "type": "integer"
        },
        {
         "name": "sc_Allocation - two linked properties with separate deeds, typically condo with a garage unit",
         "rawType": "int32",
         "type": "integer"
        },
        {
         "name": "sc_Home was not completed when last assessed (associated with New Homes)",
         "rawType": "int32",
         "type": "integer"
        },
        {
         "name": "sc_Normal Sale",
         "rawType": "int32",
         "type": "integer"
        },
        {
         "name": "sc_Sale between family members",
         "rawType": "int32",
         "type": "integer"
        }
       ],
       "ref": "73f3f880-e67a-4745-b395-d885d7e044c7",
       "rows": [
        [
         "1",
         "0",
         "0",
         "0",
         "1",
         "0"
        ],
        [
         "2",
         "0",
         "0",
         "0",
         "1",
         "0"
        ],
        [
         "3",
         "0",
         "0",
         "0",
         "1",
         "0"
        ],
        [
         "4",
         "1",
         "0",
         "0",
         "0",
         "0"
        ],
        [
         "5",
         "0",
         "0",
         "0",
         "1",
         "0"
        ]
       ],
       "shape": {
        "columns": 5,
        "rows": 5
       }
      },
      "text/html": [
       "<div>\n",
       "<style scoped>\n",
       "    .dataframe tbody tr th:only-of-type {\n",
       "        vertical-align: middle;\n",
       "    }\n",
       "\n",
       "    .dataframe tbody tr th {\n",
       "        vertical-align: top;\n",
       "    }\n",
       "\n",
       "    .dataframe thead th {\n",
       "        text-align: right;\n",
       "    }\n",
       "</style>\n",
       "<table border=\"1\" class=\"dataframe\">\n",
       "  <thead>\n",
       "    <tr style=\"text-align: right;\">\n",
       "      <th></th>\n",
       "      <th>sc_Abnormal Sale -  trade, foreclosure, short sale</th>\n",
       "      <th>sc_Allocation - two linked properties with separate deeds, typically condo with a garage unit</th>\n",
       "      <th>sc_Home was not completed when last assessed (associated with New Homes)</th>\n",
       "      <th>sc_Normal Sale</th>\n",
       "      <th>sc_Sale between family members</th>\n",
       "    </tr>\n",
       "    <tr>\n",
       "      <th>Id</th>\n",
       "      <th></th>\n",
       "      <th></th>\n",
       "      <th></th>\n",
       "      <th></th>\n",
       "      <th></th>\n",
       "    </tr>\n",
       "  </thead>\n",
       "  <tbody>\n",
       "    <tr>\n",
       "      <th>1</th>\n",
       "      <td>0</td>\n",
       "      <td>0</td>\n",
       "      <td>0</td>\n",
       "      <td>1</td>\n",
       "      <td>0</td>\n",
       "    </tr>\n",
       "    <tr>\n",
       "      <th>2</th>\n",
       "      <td>0</td>\n",
       "      <td>0</td>\n",
       "      <td>0</td>\n",
       "      <td>1</td>\n",
       "      <td>0</td>\n",
       "    </tr>\n",
       "    <tr>\n",
       "      <th>3</th>\n",
       "      <td>0</td>\n",
       "      <td>0</td>\n",
       "      <td>0</td>\n",
       "      <td>1</td>\n",
       "      <td>0</td>\n",
       "    </tr>\n",
       "    <tr>\n",
       "      <th>4</th>\n",
       "      <td>1</td>\n",
       "      <td>0</td>\n",
       "      <td>0</td>\n",
       "      <td>0</td>\n",
       "      <td>0</td>\n",
       "    </tr>\n",
       "    <tr>\n",
       "      <th>5</th>\n",
       "      <td>0</td>\n",
       "      <td>0</td>\n",
       "      <td>0</td>\n",
       "      <td>1</td>\n",
       "      <td>0</td>\n",
       "    </tr>\n",
       "  </tbody>\n",
       "</table>\n",
       "</div>"
      ],
      "text/plain": [
       "    sc_Abnormal Sale -  trade, foreclosure, short sale  \\\n",
       "Id                                                       \n",
       "1                                                   0    \n",
       "2                                                   0    \n",
       "3                                                   0    \n",
       "4                                                   1    \n",
       "5                                                   0    \n",
       "\n",
       "    sc_Allocation - two linked properties with separate deeds, typically condo with a garage unit  \\\n",
       "Id                                                                                                  \n",
       "1                                                   0                                               \n",
       "2                                                   0                                               \n",
       "3                                                   0                                               \n",
       "4                                                   0                                               \n",
       "5                                                   0                                               \n",
       "\n",
       "    sc_Home was not completed when last assessed (associated with New Homes)  \\\n",
       "Id                                                                             \n",
       "1                                                   0                          \n",
       "2                                                   0                          \n",
       "3                                                   0                          \n",
       "4                                                   0                          \n",
       "5                                                   0                          \n",
       "\n",
       "    sc_Normal Sale  sc_Sale between family members  \n",
       "Id                                                  \n",
       "1                1                               0  \n",
       "2                1                               0  \n",
       "3                1                               0  \n",
       "4                0                               0  \n",
       "5                1                               0  "
      ]
     },
     "execution_count": 116,
     "metadata": {},
     "output_type": "execute_result"
    }
   ],
   "source": [
    "# Show value counts for 'Sale Condition'\n",
    "print(df_realstate['Sale Condition'].value_counts())\n",
    "# Create dummy variables for 'Sale Condition'\n",
    "dummies_sc = pd.get_dummies(df_realstate['Sale Condition'], prefix='sc', drop_first=False, dtype='int')\n",
    "dummies_sc.head()"
   ]
  },
  {
   "cell_type": "code",
   "execution_count": 117,
   "id": "f185b6ef",
   "metadata": {},
   "outputs": [],
   "source": [
    "dummies_sc = dummies_sc.drop(f'sc_Normal Sale', axis=1)"
   ]
  },
  {
   "cell_type": "code",
   "execution_count": 118,
   "id": "9e41b280",
   "metadata": {},
   "outputs": [
    {
     "name": "stdout",
     "output_type": "stream",
     "text": [
      "Index(['sc_Abnormal Sale -  trade, foreclosure, short sale',\n",
      "       'sc_Allocation - two linked properties with separate deeds, typically condo with a garage unit',\n",
      "       'sc_Home was not completed when last assessed (associated with New Homes)',\n",
      "       'sc_Sale between family members'],\n",
      "      dtype='object')\n"
     ]
    }
   ],
   "source": [
    "# View the column names of dummies_sc\n",
    "print(dummies_sc.columns)"
   ]
  },
  {
   "cell_type": "code",
   "execution_count": 119,
   "id": "50e27029",
   "metadata": {},
   "outputs": [
    {
     "data": {
      "application/vnd.microsoft.datawrangler.viewer.v0+json": {
       "columns": [
        {
         "name": "Id",
         "rawType": "int64",
         "type": "integer"
        },
        {
         "name": "sc_Abnormal Sale",
         "rawType": "int32",
         "type": "integer"
        },
        {
         "name": "sc_Allocation",
         "rawType": "int32",
         "type": "integer"
        },
        {
         "name": "sc_Home not complete",
         "rawType": "int32",
         "type": "integer"
        },
        {
         "name": "sc_Sale within Family",
         "rawType": "int32",
         "type": "integer"
        }
       ],
       "ref": "2aba1e61-7a60-4f92-b524-1a9791a804e5",
       "rows": [
        [
         "1",
         "0",
         "0",
         "0",
         "0"
        ],
        [
         "2",
         "0",
         "0",
         "0",
         "0"
        ],
        [
         "3",
         "0",
         "0",
         "0",
         "0"
        ],
        [
         "4",
         "1",
         "0",
         "0",
         "0"
        ],
        [
         "5",
         "0",
         "0",
         "0",
         "0"
        ]
       ],
       "shape": {
        "columns": 4,
        "rows": 5
       }
      },
      "text/html": [
       "<div>\n",
       "<style scoped>\n",
       "    .dataframe tbody tr th:only-of-type {\n",
       "        vertical-align: middle;\n",
       "    }\n",
       "\n",
       "    .dataframe tbody tr th {\n",
       "        vertical-align: top;\n",
       "    }\n",
       "\n",
       "    .dataframe thead th {\n",
       "        text-align: right;\n",
       "    }\n",
       "</style>\n",
       "<table border=\"1\" class=\"dataframe\">\n",
       "  <thead>\n",
       "    <tr style=\"text-align: right;\">\n",
       "      <th></th>\n",
       "      <th>sc_Abnormal Sale</th>\n",
       "      <th>sc_Allocation</th>\n",
       "      <th>sc_Home not complete</th>\n",
       "      <th>sc_Sale within Family</th>\n",
       "    </tr>\n",
       "    <tr>\n",
       "      <th>Id</th>\n",
       "      <th></th>\n",
       "      <th></th>\n",
       "      <th></th>\n",
       "      <th></th>\n",
       "    </tr>\n",
       "  </thead>\n",
       "  <tbody>\n",
       "    <tr>\n",
       "      <th>1</th>\n",
       "      <td>0</td>\n",
       "      <td>0</td>\n",
       "      <td>0</td>\n",
       "      <td>0</td>\n",
       "    </tr>\n",
       "    <tr>\n",
       "      <th>2</th>\n",
       "      <td>0</td>\n",
       "      <td>0</td>\n",
       "      <td>0</td>\n",
       "      <td>0</td>\n",
       "    </tr>\n",
       "    <tr>\n",
       "      <th>3</th>\n",
       "      <td>0</td>\n",
       "      <td>0</td>\n",
       "      <td>0</td>\n",
       "      <td>0</td>\n",
       "    </tr>\n",
       "    <tr>\n",
       "      <th>4</th>\n",
       "      <td>1</td>\n",
       "      <td>0</td>\n",
       "      <td>0</td>\n",
       "      <td>0</td>\n",
       "    </tr>\n",
       "    <tr>\n",
       "      <th>5</th>\n",
       "      <td>0</td>\n",
       "      <td>0</td>\n",
       "      <td>0</td>\n",
       "      <td>0</td>\n",
       "    </tr>\n",
       "  </tbody>\n",
       "</table>\n",
       "</div>"
      ],
      "text/plain": [
       "    sc_Abnormal Sale  sc_Allocation  sc_Home not complete  \\\n",
       "Id                                                          \n",
       "1                  0              0                     0   \n",
       "2                  0              0                     0   \n",
       "3                  0              0                     0   \n",
       "4                  1              0                     0   \n",
       "5                  0              0                     0   \n",
       "\n",
       "    sc_Sale within Family  \n",
       "Id                         \n",
       "1                       0  \n",
       "2                       0  \n",
       "3                       0  \n",
       "4                       0  \n",
       "5                       0  "
      ]
     },
     "execution_count": 119,
     "metadata": {},
     "output_type": "execute_result"
    }
   ],
   "source": [
    "# Rename columns for dummies_sc for easier reading\n",
    "dummies_sc = dummies_sc.rename(columns={\n",
    "    'sc_Abnormal Sale -  trade, foreclosure, short sale': 'sc_Abnormal Sale',\n",
    "    'sc_Allocation - two linked properties with separate deeds, typically condo with a garage unit': 'sc_Allocation',\n",
    "    'sc_Home was not completed when last assessed (associated with New Homes)': 'sc_Home not complete',\n",
    "    'sc_Sale between family members': 'sc_Sale within Family'\n",
    "})\n",
    "dummies_sc.head()"
   ]
  },
  {
   "cell_type": "markdown",
   "id": "d741258a",
   "metadata": {},
   "source": [
    "Section 6g: Label encoding Pool \n",
    "• Create a code block to import Label Encoder from sklearn. \n",
    "o from sklearn.preprocessing import LabelEncoder \n",
    "o lc = LabelEncoder() \n",
    "• Create a code block and to show a groupby or value_count for Pool. (Notice there \n",
    "are only 5 homes where Pool is Yes.) \n",
    "• Create a code block to encode the values for Pool from No to 0 and Yes to 1 using \n",
    "lc.fit_transform (Video - C1.S9.Py03: Combining multiple categories of verified \n",
    "income and using label encoding) \n",
    "• Create a code block and to show a groupby or value_count for Pool. (Notice there \n",
    "are only 5 homes where Pool is 1.) "
   ]
  },
  {
   "cell_type": "code",
   "execution_count": 120,
   "id": "cb976fc4",
   "metadata": {},
   "outputs": [
    {
     "name": "stdout",
     "output_type": "stream",
     "text": [
      "Pool\n",
      "No     1382\n",
      "Yes       5\n",
      "Name: count, dtype: int64\n",
      "Pool\n",
      "0    1382\n",
      "1       5\n",
      "Name: count, dtype: int64\n"
     ]
    }
   ],
   "source": [
    "# Import LabelEncoder from sklearn\n",
    "from sklearn.preprocessing import LabelEncoder\n",
    "lc = LabelEncoder()\n",
    "# Show value counts for 'Pool'\n",
    "print(df_realstate['Pool'].value_counts())\n",
    "# Encode 'Pool' values: No -> 0, Yes -> 1\n",
    "df_realstate['Pool'] = lc.fit_transform(df_realstate['Pool'])\n",
    "# Show value counts for encoded 'Pool'\n",
    "print(df_realstate['Pool'].value_counts())"
   ]
  },
  {
   "cell_type": "markdown",
   "id": "613a05e5",
   "metadata": {},
   "source": [
    "7. Create new X dataset and Re-Run Multiple Regression \n",
    "Section 7a: Concatenate dummy variables to df_realestate \n",
    "• You should have created the following DataFrames using one-hot encoding. \n",
    "o dummies_lc \n",
    "o dummies_nh \n",
    "o dummies_locc \n",
    "o dummies_gf \n",
    "o dummies_sc \n",
    "• Now it is time to join these DataFrames with df_realestate. \n",
    "• Create a code block to concatenate the dummies DataFrames (listed above) to \n",
    "df_realestate."
   ]
  },
  {
   "cell_type": "code",
   "execution_count": 121,
   "id": "a468784d",
   "metadata": {},
   "outputs": [
    {
     "data": {
      "application/vnd.microsoft.datawrangler.viewer.v0+json": {
       "columns": [
        {
         "name": "Id",
         "rawType": "int64",
         "type": "integer"
        },
        {
         "name": "Dwelling Type",
         "rawType": "object",
         "type": "string"
        },
        {
         "name": "Lot Frontage",
         "rawType": "float64",
         "type": "float"
        },
        {
         "name": "Lot Area",
         "rawType": "int64",
         "type": "integer"
        },
        {
         "name": "Land Contour",
         "rawType": "object",
         "type": "string"
        },
        {
         "name": "Neighborhood",
         "rawType": "object",
         "type": "string"
        },
        {
         "name": "Location Condition",
         "rawType": "object",
         "type": "string"
        },
        {
         "name": "Overall Quality",
         "rawType": "int64",
         "type": "integer"
        },
        {
         "name": "Overall Cond",
         "rawType": "int64",
         "type": "integer"
        },
        {
         "name": "Year Built",
         "rawType": "int64",
         "type": "integer"
        },
        {
         "name": "Masonry/Veneer Area",
         "rawType": "float64",
         "type": "float"
        },
        {
         "name": "Basement Finished Area",
         "rawType": "int64",
         "type": "integer"
        },
        {
         "name": "Basement Unfinished Area",
         "rawType": "int64",
         "type": "integer"
        },
        {
         "name": "1st Floor Area",
         "rawType": "int64",
         "type": "integer"
        },
        {
         "name": "2nd Floor Area",
         "rawType": "int64",
         "type": "integer"
        },
        {
         "name": "Bedrooms Above Grade",
         "rawType": "int64",
         "type": "integer"
        },
        {
         "name": "Kitchen Qual",
         "rawType": "object",
         "type": "string"
        },
        {
         "name": "Total Rooms Above Grade",
         "rawType": "int64",
         "type": "integer"
        },
        {
         "name": "Fireplaces",
         "rawType": "int64",
         "type": "integer"
        },
        {
         "name": "Garage Finish",
         "rawType": "object",
         "type": "string"
        },
        {
         "name": "Garage Cars",
         "rawType": "int64",
         "type": "integer"
        },
        {
         "name": "Sale Condition",
         "rawType": "object",
         "type": "string"
        },
        {
         "name": "Sale Price",
         "rawType": "int64",
         "type": "integer"
        },
        {
         "name": "Porch Area",
         "rawType": "int64",
         "type": "integer"
        },
        {
         "name": "Full Bathrooms",
         "rawType": "int64",
         "type": "integer"
        },
        {
         "name": "Half Bathrooms",
         "rawType": "int64",
         "type": "integer"
        },
        {
         "name": "Pool",
         "rawType": "int32",
         "type": "integer"
        },
        {
         "name": "Extra Kitchens",
         "rawType": "int64",
         "type": "integer"
        },
        {
         "name": "Baths per Bedroom",
         "rawType": "float64",
         "type": "float"
        },
        {
         "name": "lc_Banked",
         "rawType": "int32",
         "type": "integer"
        },
        {
         "name": "lc_Depression",
         "rawType": "int32",
         "type": "integer"
        },
        {
         "name": "lc_Hillside",
         "rawType": "int32",
         "type": "integer"
        },
        {
         "name": "dt_Bloomington Heights",
         "rawType": "int32",
         "type": "integer"
        },
        {
         "name": "dt_Bluestem",
         "rawType": "int32",
         "type": "integer"
        },
        {
         "name": "dt_Briardale",
         "rawType": "int32",
         "type": "integer"
        },
        {
         "name": "dt_Brookside",
         "rawType": "int32",
         "type": "integer"
        },
        {
         "name": "dt_Clear Creek",
         "rawType": "int32",
         "type": "integer"
        },
        {
         "name": "dt_College Creek",
         "rawType": "int32",
         "type": "integer"
        },
        {
         "name": "dt_Crawford",
         "rawType": "int32",
         "type": "integer"
        },
        {
         "name": "dt_Edwards",
         "rawType": "int32",
         "type": "integer"
        },
        {
         "name": "dt_Gilbert",
         "rawType": "int32",
         "type": "integer"
        },
        {
         "name": "dt_Iowa DOT and Rail Road",
         "rawType": "int32",
         "type": "integer"
        },
        {
         "name": "dt_Meadow Village",
         "rawType": "int32",
         "type": "integer"
        },
        {
         "name": "dt_Mitchell",
         "rawType": "int32",
         "type": "integer"
        },
        {
         "name": "dt_Northpark Villa",
         "rawType": "int32",
         "type": "integer"
        },
        {
         "name": "dt_Northridge",
         "rawType": "int32",
         "type": "integer"
        },
        {
         "name": "dt_Northridge Heights",
         "rawType": "int32",
         "type": "integer"
        },
        {
         "name": "dt_Northwest Ames",
         "rawType": "int32",
         "type": "integer"
        },
        {
         "name": "dt_Old Town",
         "rawType": "int32",
         "type": "integer"
        },
        {
         "name": "dt_Sawyer",
         "rawType": "int32",
         "type": "integer"
        },
        {
         "name": "dt_Sawyer West",
         "rawType": "int32",
         "type": "integer"
        },
        {
         "name": "dt_Somerset",
         "rawType": "int32",
         "type": "integer"
        },
        {
         "name": "dt_South & West of Iowa State",
         "rawType": "int32",
         "type": "integer"
        },
        {
         "name": "dt_Stone Brook",
         "rawType": "int32",
         "type": "integer"
        },
        {
         "name": "dt_Timberland",
         "rawType": "int32",
         "type": "integer"
        },
        {
         "name": "dt_Veenker",
         "rawType": "int32",
         "type": "integer"
        },
        {
         "name": "locc_Adjacent Arterial St",
         "rawType": "int32",
         "type": "integer"
        },
        {
         "name": "locc_Adjacent Feeder St",
         "rawType": "int32",
         "type": "integer"
        },
        {
         "name": "locc_Adjacent Pos Feature",
         "rawType": "int32",
         "type": "integer"
        },
        {
         "name": "locc_Adjacent Railroad",
         "rawType": "int32",
         "type": "integer"
        },
        {
         "name": "locc_Near Pos Feature",
         "rawType": "int32",
         "type": "integer"
        },
        {
         "name": "locc_Near Railroad",
         "rawType": "int32",
         "type": "integer"
        },
        {
         "name": "gf_Finished",
         "rawType": "int32",
         "type": "integer"
        },
        {
         "name": "gf_Rough Finished",
         "rawType": "int32",
         "type": "integer"
        },
        {
         "name": "gf_Unfinished",
         "rawType": "int32",
         "type": "integer"
        },
        {
         "name": "sc_Abnormal Sale",
         "rawType": "int32",
         "type": "integer"
        },
        {
         "name": "sc_Allocation",
         "rawType": "int32",
         "type": "integer"
        },
        {
         "name": "sc_Home not complete",
         "rawType": "int32",
         "type": "integer"
        },
        {
         "name": "sc_Sale within Family",
         "rawType": "int32",
         "type": "integer"
        }
       ],
       "ref": "3adca116-af64-42c7-bcbf-0a8fbb74fc8b",
       "rows": [
        [
         "1",
         "2-STORY 1946 & NEWER",
         "65.0",
         "8450",
         "Level",
         "College Creek",
         "Normal",
         "7",
         "5",
         "2003",
         "196.0",
         "706",
         "150",
         "856",
         "854",
         "3",
         "Good",
         "8",
         "0",
         "Rough Finished",
         "2",
         "Normal Sale",
         "208500",
         "61",
         "3",
         "1",
         "0",
         "0",
         "1.0",
         "0",
         "0",
         "0",
         "0",
         "0",
         "0",
         "0",
         "0",
         "1",
         "0",
         "0",
         "0",
         "0",
         "0",
         "0",
         "0",
         "0",
         "0",
         "0",
         "0",
         "0",
         "0",
         "0",
         "0",
         "0",
         "0",
         "0",
         "0",
         "0",
         "0",
         "0",
         "0",
         "0",
         "0",
         "1",
         "0",
         "0",
         "0",
         "0",
         "0"
        ],
        [
         "2",
         "1-STORY 1946 & NEWER",
         "80.0",
         "9600",
         "Level",
         "Veenker",
         "Adjacent Feeder St",
         "6",
         "8",
         "1976",
         "0.0",
         "978",
         "284",
         "1262",
         "0",
         "3",
         "Average",
         "6",
         "1",
         "Rough Finished",
         "2",
         "Normal Sale",
         "181500",
         "298",
         "2",
         "1",
         "0",
         "0",
         "0.6666666666666666",
         "0",
         "0",
         "0",
         "0",
         "0",
         "0",
         "0",
         "0",
         "0",
         "0",
         "0",
         "0",
         "0",
         "0",
         "0",
         "0",
         "0",
         "0",
         "0",
         "0",
         "0",
         "0",
         "0",
         "0",
         "0",
         "0",
         "1",
         "0",
         "1",
         "0",
         "0",
         "0",
         "0",
         "0",
         "1",
         "0",
         "0",
         "0",
         "0",
         "0"
        ],
        [
         "3",
         "2-STORY 1946 & NEWER",
         "68.0",
         "11250",
         "Level",
         "College Creek",
         "Normal",
         "7",
         "5",
         "2001",
         "162.0",
         "486",
         "434",
         "920",
         "866",
         "3",
         "Good",
         "6",
         "1",
         "Rough Finished",
         "2",
         "Normal Sale",
         "223500",
         "42",
         "3",
         "1",
         "0",
         "0",
         "1.0",
         "0",
         "0",
         "0",
         "0",
         "0",
         "0",
         "0",
         "0",
         "1",
         "0",
         "0",
         "0",
         "0",
         "0",
         "0",
         "0",
         "0",
         "0",
         "0",
         "0",
         "0",
         "0",
         "0",
         "0",
         "0",
         "0",
         "0",
         "0",
         "0",
         "0",
         "0",
         "0",
         "0",
         "0",
         "1",
         "0",
         "0",
         "0",
         "0",
         "0"
        ],
        [
         "4",
         "2-STORY 1945 & OLDER",
         "60.0",
         "9550",
         "Level",
         "Crawford",
         "Normal",
         "7",
         "5",
         "1915",
         "0.0",
         "216",
         "540",
         "961",
         "756",
         "3",
         "Good",
         "7",
         "1",
         "Unfinished",
         "3",
         "Abnormal Sale -  trade, foreclosure, short sale",
         "140000",
         "307",
         "2",
         "0",
         "0",
         "0",
         "0.6666666666666666",
         "0",
         "0",
         "0",
         "0",
         "0",
         "0",
         "0",
         "0",
         "0",
         "1",
         "0",
         "0",
         "0",
         "0",
         "0",
         "0",
         "0",
         "0",
         "0",
         "0",
         "0",
         "0",
         "0",
         "0",
         "0",
         "0",
         "0",
         "0",
         "0",
         "0",
         "0",
         "0",
         "0",
         "0",
         "0",
         "1",
         "1",
         "0",
         "0",
         "0"
        ],
        [
         "5",
         "2-STORY 1946 & NEWER",
         "84.0",
         "14260",
         "Level",
         "Northridge",
         "Normal",
         "8",
         "5",
         "2000",
         "350.0",
         "655",
         "490",
         "1145",
         "1053",
         "4",
         "Good",
         "9",
         "1",
         "Rough Finished",
         "3",
         "Normal Sale",
         "250000",
         "276",
         "3",
         "1",
         "0",
         "0",
         "0.75",
         "0",
         "0",
         "0",
         "0",
         "0",
         "0",
         "0",
         "0",
         "0",
         "0",
         "0",
         "0",
         "0",
         "0",
         "0",
         "0",
         "1",
         "0",
         "0",
         "0",
         "0",
         "0",
         "0",
         "0",
         "0",
         "0",
         "0",
         "0",
         "0",
         "0",
         "0",
         "0",
         "0",
         "0",
         "1",
         "0",
         "0",
         "0",
         "0",
         "0"
        ]
       ],
       "shape": {
        "columns": 68,
        "rows": 5
       }
      },
      "text/html": [
       "<div>\n",
       "<style scoped>\n",
       "    .dataframe tbody tr th:only-of-type {\n",
       "        vertical-align: middle;\n",
       "    }\n",
       "\n",
       "    .dataframe tbody tr th {\n",
       "        vertical-align: top;\n",
       "    }\n",
       "\n",
       "    .dataframe thead th {\n",
       "        text-align: right;\n",
       "    }\n",
       "</style>\n",
       "<table border=\"1\" class=\"dataframe\">\n",
       "  <thead>\n",
       "    <tr style=\"text-align: right;\">\n",
       "      <th></th>\n",
       "      <th>Dwelling Type</th>\n",
       "      <th>Lot Frontage</th>\n",
       "      <th>Lot Area</th>\n",
       "      <th>Land Contour</th>\n",
       "      <th>Neighborhood</th>\n",
       "      <th>Location Condition</th>\n",
       "      <th>Overall Quality</th>\n",
       "      <th>Overall Cond</th>\n",
       "      <th>Year Built</th>\n",
       "      <th>Masonry/Veneer Area</th>\n",
       "      <th>...</th>\n",
       "      <th>locc_Adjacent Railroad</th>\n",
       "      <th>locc_Near Pos Feature</th>\n",
       "      <th>locc_Near Railroad</th>\n",
       "      <th>gf_Finished</th>\n",
       "      <th>gf_Rough Finished</th>\n",
       "      <th>gf_Unfinished</th>\n",
       "      <th>sc_Abnormal Sale</th>\n",
       "      <th>sc_Allocation</th>\n",
       "      <th>sc_Home not complete</th>\n",
       "      <th>sc_Sale within Family</th>\n",
       "    </tr>\n",
       "    <tr>\n",
       "      <th>Id</th>\n",
       "      <th></th>\n",
       "      <th></th>\n",
       "      <th></th>\n",
       "      <th></th>\n",
       "      <th></th>\n",
       "      <th></th>\n",
       "      <th></th>\n",
       "      <th></th>\n",
       "      <th></th>\n",
       "      <th></th>\n",
       "      <th></th>\n",
       "      <th></th>\n",
       "      <th></th>\n",
       "      <th></th>\n",
       "      <th></th>\n",
       "      <th></th>\n",
       "      <th></th>\n",
       "      <th></th>\n",
       "      <th></th>\n",
       "      <th></th>\n",
       "      <th></th>\n",
       "    </tr>\n",
       "  </thead>\n",
       "  <tbody>\n",
       "    <tr>\n",
       "      <th>1</th>\n",
       "      <td>2-STORY 1946 &amp; NEWER</td>\n",
       "      <td>65.0</td>\n",
       "      <td>8450</td>\n",
       "      <td>Level</td>\n",
       "      <td>College Creek</td>\n",
       "      <td>Normal</td>\n",
       "      <td>7</td>\n",
       "      <td>5</td>\n",
       "      <td>2003</td>\n",
       "      <td>196.0</td>\n",
       "      <td>...</td>\n",
       "      <td>0</td>\n",
       "      <td>0</td>\n",
       "      <td>0</td>\n",
       "      <td>0</td>\n",
       "      <td>1</td>\n",
       "      <td>0</td>\n",
       "      <td>0</td>\n",
       "      <td>0</td>\n",
       "      <td>0</td>\n",
       "      <td>0</td>\n",
       "    </tr>\n",
       "    <tr>\n",
       "      <th>2</th>\n",
       "      <td>1-STORY 1946 &amp; NEWER</td>\n",
       "      <td>80.0</td>\n",
       "      <td>9600</td>\n",
       "      <td>Level</td>\n",
       "      <td>Veenker</td>\n",
       "      <td>Adjacent Feeder St</td>\n",
       "      <td>6</td>\n",
       "      <td>8</td>\n",
       "      <td>1976</td>\n",
       "      <td>0.0</td>\n",
       "      <td>...</td>\n",
       "      <td>0</td>\n",
       "      <td>0</td>\n",
       "      <td>0</td>\n",
       "      <td>0</td>\n",
       "      <td>1</td>\n",
       "      <td>0</td>\n",
       "      <td>0</td>\n",
       "      <td>0</td>\n",
       "      <td>0</td>\n",
       "      <td>0</td>\n",
       "    </tr>\n",
       "    <tr>\n",
       "      <th>3</th>\n",
       "      <td>2-STORY 1946 &amp; NEWER</td>\n",
       "      <td>68.0</td>\n",
       "      <td>11250</td>\n",
       "      <td>Level</td>\n",
       "      <td>College Creek</td>\n",
       "      <td>Normal</td>\n",
       "      <td>7</td>\n",
       "      <td>5</td>\n",
       "      <td>2001</td>\n",
       "      <td>162.0</td>\n",
       "      <td>...</td>\n",
       "      <td>0</td>\n",
       "      <td>0</td>\n",
       "      <td>0</td>\n",
       "      <td>0</td>\n",
       "      <td>1</td>\n",
       "      <td>0</td>\n",
       "      <td>0</td>\n",
       "      <td>0</td>\n",
       "      <td>0</td>\n",
       "      <td>0</td>\n",
       "    </tr>\n",
       "    <tr>\n",
       "      <th>4</th>\n",
       "      <td>2-STORY 1945 &amp; OLDER</td>\n",
       "      <td>60.0</td>\n",
       "      <td>9550</td>\n",
       "      <td>Level</td>\n",
       "      <td>Crawford</td>\n",
       "      <td>Normal</td>\n",
       "      <td>7</td>\n",
       "      <td>5</td>\n",
       "      <td>1915</td>\n",
       "      <td>0.0</td>\n",
       "      <td>...</td>\n",
       "      <td>0</td>\n",
       "      <td>0</td>\n",
       "      <td>0</td>\n",
       "      <td>0</td>\n",
       "      <td>0</td>\n",
       "      <td>1</td>\n",
       "      <td>1</td>\n",
       "      <td>0</td>\n",
       "      <td>0</td>\n",
       "      <td>0</td>\n",
       "    </tr>\n",
       "    <tr>\n",
       "      <th>5</th>\n",
       "      <td>2-STORY 1946 &amp; NEWER</td>\n",
       "      <td>84.0</td>\n",
       "      <td>14260</td>\n",
       "      <td>Level</td>\n",
       "      <td>Northridge</td>\n",
       "      <td>Normal</td>\n",
       "      <td>8</td>\n",
       "      <td>5</td>\n",
       "      <td>2000</td>\n",
       "      <td>350.0</td>\n",
       "      <td>...</td>\n",
       "      <td>0</td>\n",
       "      <td>0</td>\n",
       "      <td>0</td>\n",
       "      <td>0</td>\n",
       "      <td>1</td>\n",
       "      <td>0</td>\n",
       "      <td>0</td>\n",
       "      <td>0</td>\n",
       "      <td>0</td>\n",
       "      <td>0</td>\n",
       "    </tr>\n",
       "  </tbody>\n",
       "</table>\n",
       "<p>5 rows × 68 columns</p>\n",
       "</div>"
      ],
      "text/plain": [
       "           Dwelling Type  Lot Frontage  Lot Area Land Contour   Neighborhood  \\\n",
       "Id                                                                             \n",
       "1   2-STORY 1946 & NEWER          65.0      8450        Level  College Creek   \n",
       "2   1-STORY 1946 & NEWER          80.0      9600        Level        Veenker   \n",
       "3   2-STORY 1946 & NEWER          68.0     11250        Level  College Creek   \n",
       "4   2-STORY 1945 & OLDER          60.0      9550        Level       Crawford   \n",
       "5   2-STORY 1946 & NEWER          84.0     14260        Level     Northridge   \n",
       "\n",
       "    Location Condition  Overall Quality  Overall Cond  Year Built  \\\n",
       "Id                                                                  \n",
       "1               Normal                7             5        2003   \n",
       "2   Adjacent Feeder St                6             8        1976   \n",
       "3               Normal                7             5        2001   \n",
       "4               Normal                7             5        1915   \n",
       "5               Normal                8             5        2000   \n",
       "\n",
       "    Masonry/Veneer Area  ...  locc_Adjacent Railroad  locc_Near Pos Feature  \\\n",
       "Id                       ...                                                  \n",
       "1                 196.0  ...                       0                      0   \n",
       "2                   0.0  ...                       0                      0   \n",
       "3                 162.0  ...                       0                      0   \n",
       "4                   0.0  ...                       0                      0   \n",
       "5                 350.0  ...                       0                      0   \n",
       "\n",
       "    locc_Near Railroad  gf_Finished  gf_Rough Finished gf_Unfinished  \\\n",
       "Id                                                                     \n",
       "1                    0            0                  1             0   \n",
       "2                    0            0                  1             0   \n",
       "3                    0            0                  1             0   \n",
       "4                    0            0                  0             1   \n",
       "5                    0            0                  1             0   \n",
       "\n",
       "    sc_Abnormal Sale  sc_Allocation sc_Home not complete  \\\n",
       "Id                                                         \n",
       "1                  0              0                    0   \n",
       "2                  0              0                    0   \n",
       "3                  0              0                    0   \n",
       "4                  1              0                    0   \n",
       "5                  0              0                    0   \n",
       "\n",
       "    sc_Sale within Family  \n",
       "Id                         \n",
       "1                       0  \n",
       "2                       0  \n",
       "3                       0  \n",
       "4                       0  \n",
       "5                       0  \n",
       "\n",
       "[5 rows x 68 columns]"
      ]
     },
     "execution_count": 121,
     "metadata": {},
     "output_type": "execute_result"
    }
   ],
   "source": [
    "# Concatenate the dummy variable DataFrames to df_realstate\n",
    "df_encoded = pd.concat([df_realstate, dummies_lc, dummies_nh, dummies_locc, dummies_gf, dummies_sc], axis=1)\n",
    "\n",
    "df_encoded.head()"
   ]
  },
  {
   "cell_type": "markdown",
   "id": "28d6f88b",
   "metadata": {},
   "source": [
    "Section 7b: Create new X and y datasets \n",
    "• Create a code block to create X and y by including the quantitative features and the \n",
    "new dummy variables and ‘Sale Price’ for y.  \n",
    "• X should include: \n",
    "o 'Lot Frontage', 'Lot Area', 'Overall Quality', 'Overall Cond', 'Masonry/Veneer \n",
    "Area', 'Basement Finished Area', 'Basement Unfinished Area', '1st Floor \n",
    "Area', '2nd Floor Area', 'Bedrooms Above Grade', 'Total Rooms Above \n",
    "Grade', 'Fireplaces', 'Garage Cars', 'Porch Area', 'Full Bathrooms', 'Half \n",
    "Bathrooms', 'Extra Kitchens', 'Baths per Bedroom' \n",
    "o Also include ‘Pool’ and all of the features from the five dummies \n",
    "DataFrames. \n",
    "o You should have a total of 70 features for X. (You can see this be doing a \n",
    ".info() for X.) \n",
    "• y should include: \n",
    "o ‘Sale Price’\n",
    "• Create a code block and execute a multiple regression using statsmodels. Make \n",
    "sure to include the following: \n",
    "o Add a constant \n",
    "o Use y and X to fit the model and name the model reg. \n",
    "o Use X to predict with the model and name it pred. \n",
    "o Use the model (reg) to create the residuals and name it resid. \n",
    "o Show a summary of the results."
   ]
  },
  {
   "cell_type": "code",
   "execution_count": 122,
   "id": "1f21469e",
   "metadata": {},
   "outputs": [
    {
     "name": "stdout",
     "output_type": "stream",
     "text": [
      "Number of features in X: 59\n",
      "                            OLS Regression Results                            \n",
      "==============================================================================\n",
      "Dep. Variable:             Sale Price   R-squared:                       0.902\n",
      "Model:                            OLS   Adj. R-squared:                  0.897\n",
      "Method:                 Least Squares   F-statistic:                     206.5\n",
      "Date:                Fri, 13 Jun 2025   Prob (F-statistic):               0.00\n",
      "Time:                        11:37:44   Log-Likelihood:                -15855.\n",
      "No. Observations:                1387   AIC:                         3.183e+04\n",
      "Df Residuals:                    1327   BIC:                         3.214e+04\n",
      "Df Model:                          59                                         \n",
      "Covariance Type:            nonrobust                                         \n",
      "=================================================================================================\n",
      "                                    coef    std err          t      P>|t|      [0.025      0.975]\n",
      "-------------------------------------------------------------------------------------------------\n",
      "const                         -5.454e+04   7579.475     -7.196      0.000   -6.94e+04   -3.97e+04\n",
      "Lot Frontage                     40.3276     19.987      2.018      0.044       1.119      79.537\n",
      "Lot Area                          0.4528      0.075      6.054      0.000       0.306       0.600\n",
      "Overall Quality                1.216e+04    852.508     14.261      0.000    1.05e+04    1.38e+04\n",
      "Overall Cond                   5353.1269    646.664      8.278      0.000    4084.532    6621.722\n",
      "Masonry/Veneer Area              13.4098      4.350      3.083      0.002       4.876      21.944\n",
      "Basement Finished Area           28.6868      2.769     10.361      0.000      23.255      34.118\n",
      "Basement Unfinished Area          9.5720      2.589      3.698      0.000       4.494      14.650\n",
      "1st Floor Area                   59.5974      3.825     15.581      0.000      52.094      67.101\n",
      "2nd Floor Area                   44.7461      3.353     13.344      0.000      38.168      51.324\n",
      "Bedrooms Above Grade          -7232.1061   1556.343     -4.647      0.000   -1.03e+04   -4178.946\n",
      "Total Rooms Above Grade        2197.9770    864.774      2.542      0.011     501.503    3894.451\n",
      "Fireplaces                     2191.4388   1236.362      1.772      0.077    -233.999    4616.877\n",
      "Garage Cars                    1.159e+04   1495.006      7.752      0.000    8656.626    1.45e+04\n",
      "Porch Area                       24.3304      4.562      5.333      0.000      15.380      33.280\n",
      "Full Bathrooms                 6220.2377   1855.778      3.352      0.001    2579.659    9860.816\n",
      "Half Bathrooms                 2665.3744   1538.096      1.733      0.083    -351.991    5682.740\n",
      "Extra Kitchens                -2.595e+04   3518.744     -7.374      0.000   -3.29e+04    -1.9e+04\n",
      "Baths per Bedroom             -7477.1220   3553.633     -2.104      0.036   -1.44e+04    -505.771\n",
      "Pool                           1.089e+04   1.06e+04      1.025      0.305   -9948.389    3.17e+04\n",
      "lc_Banked                     -3721.6247   3413.840     -1.090      0.276   -1.04e+04    2975.488\n",
      "lc_Depression                  2928.7036   4672.920      0.627      0.531   -6238.413    1.21e+04\n",
      "lc_Hillside                    1.159e+04   3695.376      3.137      0.002    4344.721    1.88e+04\n",
      "dt_Bloomington Heights        -6262.0186   6444.291     -0.972      0.331   -1.89e+04    6380.091\n",
      "dt_Bluestem                   -1.709e+04   1.64e+04     -1.040      0.299   -4.93e+04    1.52e+04\n",
      "dt_Briardale                  -1.403e+04   6325.269     -2.217      0.027   -2.64e+04   -1617.387\n",
      "dt_Brookside                   2715.5951   3880.193      0.700      0.484   -4896.385    1.03e+04\n",
      "dt_Clear Creek                 6414.9215   5377.434      1.193      0.233   -4134.276     1.7e+04\n",
      "dt_College Creek               1.443e+04   2893.963      4.986      0.000    8752.259    2.01e+04\n",
      "dt_Crawford                    1.542e+04   4005.346      3.850      0.000    7561.843    2.33e+04\n",
      "dt_Edwards                    -3436.5515   3056.990     -1.124      0.261   -9433.611    2560.508\n",
      "dt_Gilbert                     6745.8369   3719.144      1.814      0.070    -550.206     1.4e+04\n",
      "dt_Iowa DOT and Rail Road     -8297.7391   4502.383     -1.843      0.066   -1.71e+04     534.825\n",
      "dt_Meadow Village              -1.41e+04   7576.214     -1.862      0.063    -2.9e+04     757.767\n",
      "dt_Mitchell                    -102.7003   3867.994     -0.027      0.979   -7690.751    7485.350\n",
      "dt_Northpark Villa            -7446.9606   7965.512     -0.935      0.350   -2.31e+04    8179.408\n",
      "dt_Northridge                  3.572e+04   4761.018      7.503      0.000    2.64e+04    4.51e+04\n",
      "dt_Northridge Heights          4.356e+04   4062.378     10.723      0.000    3.56e+04    5.15e+04\n",
      "dt_Northwest Ames             -6743.0154   3347.064     -2.015      0.044   -1.33e+04    -176.901\n",
      "dt_Old Town                   -1.247e+04   3195.786     -3.901      0.000   -1.87e+04   -6197.845\n",
      "dt_Sawyer                      2409.2389   3170.272      0.760      0.447   -3810.052    8628.530\n",
      "dt_Sawyer West                 7914.7680   3679.997      2.151      0.032     695.521    1.51e+04\n",
      "dt_Somerset                    2.156e+04   3719.540      5.798      0.000    1.43e+04    2.89e+04\n",
      "dt_South & West of Iowa State -6190.1297   5405.281     -1.145      0.252   -1.68e+04    4413.698\n",
      "dt_Stone Brook                  3.57e+04   5773.403      6.184      0.000    2.44e+04     4.7e+04\n",
      "dt_Timberland                  7061.2586   4690.773      1.505      0.132   -2140.881    1.63e+04\n",
      "dt_Veenker                     2.964e+04   7335.268      4.041      0.000    1.53e+04     4.4e+04\n",
      "locc_Adjacent Arterial St     -1.101e+04   3787.671     -2.907      0.004   -1.84e+04   -3581.418\n",
      "locc_Adjacent Feeder St       -9777.6190   2905.329     -3.365      0.001   -1.55e+04   -4078.081\n",
      "locc_Adjacent Pos Feature     -9427.2354   8374.025     -1.126      0.260   -2.59e+04    7000.535\n",
      "locc_Adjacent Railroad        -6749.4961   4003.285     -1.686      0.092   -1.46e+04    1103.962\n",
      "locc_Near Pos Feature         -2402.0783   5632.536     -0.426      0.670   -1.35e+04    8647.568\n",
      "locc_Near Railroad              409.1979   7781.111      0.053      0.958   -1.49e+04    1.57e+04\n",
      "gf_Finished                   -8771.3236   4364.104     -2.010      0.045   -1.73e+04    -210.029\n",
      "gf_Rough Finished             -1.763e+04   4171.009     -4.227      0.000   -2.58e+04   -9446.792\n",
      "gf_Unfinished                 -1.643e+04   3884.493     -4.230      0.000   -2.41e+04   -8812.862\n",
      "sc_Abnormal Sale              -9041.7460   2536.999     -3.564      0.000    -1.4e+04   -4064.780\n",
      "sc_Allocation                  -227.0853   7539.841     -0.030      0.976    -1.5e+04    1.46e+04\n",
      "sc_Home not complete           2.415e+04   2573.700      9.382      0.000    1.91e+04    2.92e+04\n",
      "sc_Sale within Family         -1.013e+04   5265.633     -1.923      0.055   -2.05e+04     203.844\n",
      "==============================================================================\n",
      "Omnibus:                      101.760   Durbin-Watson:                   1.931\n",
      "Prob(Omnibus):                  0.000   Jarque-Bera (JB):              500.833\n",
      "Skew:                           0.060   Prob(JB):                    1.76e-109\n",
      "Kurtosis:                       5.941   Cond. No.                     3.91e+05\n",
      "==============================================================================\n",
      "\n",
      "Notes:\n",
      "[1] Standard Errors assume that the covariance matrix of the errors is correctly specified.\n",
      "[2] The condition number is large, 3.91e+05. This might indicate that there are\n",
      "strong multicollinearity or other numerical problems.\n"
     ]
    }
   ],
   "source": [
    "# Create the list of quantitative features\n",
    "quant_features = [\n",
    "    'Lot Frontage', 'Lot Area', 'Overall Quality', 'Overall Cond', 'Masonry/Veneer Area',\n",
    "    'Basement Finished Area', 'Basement Unfinished Area', '1st Floor Area', '2nd Floor Area',\n",
    "    'Bedrooms Above Grade', 'Total Rooms Above Grade', 'Fireplaces', 'Garage Cars',\n",
    "    'Porch Area', 'Full Bathrooms', 'Half Bathrooms', 'Extra Kitchens', 'Baths per Bedroom'\n",
    "]\n",
    "\n",
    "# Combine all feature names for X\n",
    "X_features = quant_features + ['Pool'] + list(dummies_lc.columns) + list(dummies_nh.columns) + \\\n",
    "             list(dummies_locc.columns) + list(dummies_gf.columns) + list(dummies_sc.columns)\n",
    "\n",
    "# Create X and y\n",
    "X = df_encoded[X_features]\n",
    "y = df_encoded['Sale Price']\n",
    "\n",
    "# Check the number of features\n",
    "print(\"Number of features in X:\", X.shape[1])\n",
    "\n",
    "# Add a constant to X\n",
    "X = sm.add_constant(X)\n",
    "\n",
    "# Fit the model\n",
    "reg = sm.OLS(y, X).fit()\n",
    "\n",
    "# Predict using the model\n",
    "pred = reg.predict(X)\n",
    "\n",
    "# Calculate residuals\n",
    "resid = y - pred\n",
    "\n",
    "# Show summary of results\n",
    "print(reg.summary())"
   ]
  },
  {
   "cell_type": "markdown",
   "id": "f853c4ae",
   "metadata": {},
   "source": [
    "Began by examining the p-values for each feature in the regression output. Features with p-values greater than 0.05 are considered not statistically significant, meaning they do not have a meaningful impact on predicting the sale price in this model. In the results, several features—including 'Pool', 'lc_Banked', 'lc_Depression', and some dummy variables for neighborhoods—were not significant.\n",
    "\n",
    "The adjusted R-squared value for  model is 0.897, which indicates that about 89.7% of the variance in sale prices is explained by the features included. This is a strong fit, but the presence of many non-significant variables suggests the model may be too complex or that some variables are not contributing useful information.\n",
    "\n",
    "When many predictors are included, especially those that are not significant, it can lead to issues like multicollinearity. This is when two or more variables are highly correlated, making it difficult to separate out their individual effects. Multicollinearity can inflate the standard errors and make p-values unreliable.\n",
    "\n",
    "To address this,  next steps will be to:\n",
    "\n",
    "Examine the residual plots to check for any patterns or non-randomness, which could indicate problems with the model.\n",
    "Calculate the Variance Inflation Factor (VIF) for each feature to assess multicollinearity. If certain features have high VIF values, I will consider removing or combining them.\n",
    "Iteratively remove non-significant features and re-run the regression to see if the model improves."
   ]
  },
  {
   "cell_type": "markdown",
   "id": "46209e8b",
   "metadata": {},
   "source": [
    "Section 7c: Analyze and Visualize the Multiple Regression Results \n",
    "• There are a lot of features in this model.  Some of the features probably do not belong (which we really look into for the next HW).  But prior to making those decisions, we can analyze the results in many ways, including visually and using VIF. (Jointplot)\n",
    " \n",
    "Create a Correlation Matrix  \n",
    "• There are a lot of features in this regression model, but let’s create a correlation \n",
    "matrix, even though it will be hard to read.  Using a heatmap, we may be able to \n",
    "gain some insight.  A heatmap is a good way to visualize the relationships between \n",
    "all of the features, even when there are a lot.  To create a heatmap, you will first \n",
    "need a correlation matrix. \n",
    "• Create a code block to create a DataFrame named features that includes all of the \n",
    "features in the X dataset only (no ‘const’).  Make sure to drop ‘const’. (See Video \n",
    "C1.S8.Py05 - Re-run a multiple regression because of multi-collinearity). \n",
    "• Create a code block and create a correlation matrix for the features in the features \n",
    "DataFrame.  Name the new correlation matrix corrMatrix. \n",
    "• Create a code block that converts corrMatrix to a DataFrame and name the new \n",
    "DataFrame df_corrMatrix. \n",
    "o Make sure to the view df_corrMatrix. \n",
    "• TIP: If you want to see all of the rows, you can add this set option in the code block \n",
    "(at the top) with a max rows above the number of features.  This will allow you to \n",
    "see all rows without a break.  For example: \n",
    "o pd.set_option('display.max_rows', 100) \n",
    "Create a Heatmap  \n",
    "• This will be a crowded heatmap, but let’s give it a try and see if it provides any \n",
    "insight. \n",
    "• It is now time to create the heatmap using df_corrMatrix. \n",
    "• Create a code block that create a heatmap.  It should include: \n",
    "o Set the colormap to RdBu.  You can do this with this as the top line of code in \n",
    "this code block. \n",
    "§ colormap = plt.cm.RdBu \n",
    "o Heatmap should include the following: \n",
    "§ df_corrMatrix \n",
    "§ linewidths is 0.1 \n",
    "§ vmax is 1.0, vmin= -1.0, #this sets the max and min scale \n",
    "§ square=True \n",
    "10 \n",
    "HW05 – Encoding Qualitative Variables and Interaction   \n",
    "§ cmap=colormap #uses the colormap we created for colors \n",
    "§ linecolor='white' \n",
    "§ annot=False #this does not add the actual correlations into each square – \n",
    "there is not enough room. \n",
    "o NOTE: It will be difficult to read, but the one that might jump out at you is the \n",
    "correlation between ‘Extra Kitchens’ and ‘dt_DUPLEX’. \n",
    "Create the Variance Inflation Factor (VIF)  \n",
    "• Create a VIF for the features in the multiple regression (See Video C1S8.Py04: \n",
    "Calculating VIF for features in a model). \n",
    "o Name the DataFrame vif. \n",
    "o vif should include two columns [‘VIF Factor’ and ‘Features’]  \n",
    "o Sort and show vif by ‘VIF Factor’ and from largest to smallest. \n",
    "o Note: Notice that ‘the ‘Garage Finish’ dummy variables have the highest VIF."
   ]
  },
  {
   "cell_type": "code",
   "execution_count": 127,
   "id": "923edab6",
   "metadata": {},
   "outputs": [
    {
     "data": {
      "text/plain": [
       "<seaborn.axisgrid.JointGrid at 0x19817ec6ff0>"
      ]
     },
     "execution_count": 127,
     "metadata": {},
     "output_type": "execute_result"
    },
    {
     "data": {
      "image/png": "[encoded data removed]",
      "text/plain": [
       "<Figure size 800x800 with 3 Axes>"
      ]
     },
     "metadata": {},
     "output_type": "display_data"
    }
   ],
   "source": [
    "\n",
    "# Visualize residuals vs. predicted values using a jointplot\n",
    "\n",
    "residuals_df = pd.DataFrame({'Predicted': pred, 'Residuals': resid})\n",
    "\n",
    "sns.jointplot(x='Predicted', y='Residuals', data=residuals_df, kind='reg', ratio=5, height=8)"
   ]
  },
  {
   "cell_type": "code",
   "execution_count": 123,
   "id": "6d22e93c",
   "metadata": {},
   "outputs": [
    {
     "data": {
      "application/vnd.microsoft.datawrangler.viewer.v0+json": {
       "columns": [
        {
         "name": "index",
         "rawType": "object",
         "type": "string"
        },
        {
         "name": "Lot Frontage",
         "rawType": "float64",
         "type": "float"
        },
        {
         "name": "Lot Area",
         "rawType": "float64",
         "type": "float"
        },
        {
         "name": "Overall Quality",
         "rawType": "float64",
         "type": "float"
        },
        {
         "name": "Overall Cond",
         "rawType": "float64",
         "type": "float"
        },
        {
         "name": "Masonry/Veneer Area",
         "rawType": "float64",
         "type": "float"
        },
        {
         "name": "Basement Finished Area",
         "rawType": "float64",
         "type": "float"
        },
        {
         "name": "Basement Unfinished Area",
         "rawType": "float64",
         "type": "float"
        },
        {
         "name": "1st Floor Area",
         "rawType": "float64",
         "type": "float"
        },
        {
         "name": "2nd Floor Area",
         "rawType": "float64",
         "type": "float"
        },
        {
         "name": "Bedrooms Above Grade",
         "rawType": "float64",
         "type": "float"
        },
        {
         "name": "Total Rooms Above Grade",
         "rawType": "float64",
         "type": "float"
        },
        {
         "name": "Fireplaces",
         "rawType": "float64",
         "type": "float"
        },
        {
         "name": "Garage Cars",
         "rawType": "float64",
         "type": "float"
        },
        {
         "name": "Porch Area",
         "rawType": "float64",
         "type": "float"
        },
        {
         "name": "Full Bathrooms",
         "rawType": "float64",
         "type": "float"
        },
        {
         "name": "Half Bathrooms",
         "rawType": "float64",
         "type": "float"
        },
        {
         "name": "Extra Kitchens",
         "rawType": "float64",
         "type": "float"
        },
        {
         "name": "Baths per Bedroom",
         "rawType": "float64",
         "type": "float"
        },
        {
         "name": "Pool",
         "rawType": "float64",
         "type": "float"
        },
        {
         "name": "lc_Banked",
         "rawType": "float64",
         "type": "float"
        },
        {
         "name": "lc_Depression",
         "rawType": "float64",
         "type": "float"
        },
        {
         "name": "lc_Hillside",
         "rawType": "float64",
         "type": "float"
        },
        {
         "name": "dt_Bloomington Heights",
         "rawType": "float64",
         "type": "float"
        },
        {
         "name": "dt_Bluestem",
         "rawType": "float64",
         "type": "float"
        },
        {
         "name": "dt_Briardale",
         "rawType": "float64",
         "type": "float"
        },
        {
         "name": "dt_Brookside",
         "rawType": "float64",
         "type": "float"
        },
        {
         "name": "dt_Clear Creek",
         "rawType": "float64",
         "type": "float"
        },
        {
         "name": "dt_College Creek",
         "rawType": "float64",
         "type": "float"
        },
        {
         "name": "dt_Crawford",
         "rawType": "float64",
         "type": "float"
        },
        {
         "name": "dt_Edwards",
         "rawType": "float64",
         "type": "float"
        },
        {
         "name": "dt_Gilbert",
         "rawType": "float64",
         "type": "float"
        },
        {
         "name": "dt_Iowa DOT and Rail Road",
         "rawType": "float64",
         "type": "float"
        },
        {
         "name": "dt_Meadow Village",
         "rawType": "float64",
         "type": "float"
        },
        {
         "name": "dt_Mitchell",
         "rawType": "float64",
         "type": "float"
        },
        {
         "name": "dt_Northpark Villa",
         "rawType": "float64",
         "type": "float"
        },
        {
         "name": "dt_Northridge",
         "rawType": "float64",
         "type": "float"
        },
        {
         "name": "dt_Northridge Heights",
         "rawType": "float64",
         "type": "float"
        },
        {
         "name": "dt_Northwest Ames",
         "rawType": "float64",
         "type": "float"
        },
        {
         "name": "dt_Old Town",
         "rawType": "float64",
         "type": "float"
        },
        {
         "name": "dt_Sawyer",
         "rawType": "float64",
         "type": "float"
        },
        {
         "name": "dt_Sawyer West",
         "rawType": "float64",
         "type": "float"
        },
        {
         "name": "dt_Somerset",
         "rawType": "float64",
         "type": "float"
        },
        {
         "name": "dt_South & West of Iowa State",
         "rawType": "float64",
         "type": "float"
        },
        {
         "name": "dt_Stone Brook",
         "rawType": "float64",
         "type": "float"
        },
        {
         "name": "dt_Timberland",
         "rawType": "float64",
         "type": "float"
        },
        {
         "name": "dt_Veenker",
         "rawType": "float64",
         "type": "float"
        },
        {
         "name": "locc_Adjacent Arterial St",
         "rawType": "float64",
         "type": "float"
        },
        {
         "name": "locc_Adjacent Feeder St",
         "rawType": "float64",
         "type": "float"
        },
        {
         "name": "locc_Adjacent Pos Feature",
         "rawType": "float64",
         "type": "float"
        },
        {
         "name": "locc_Adjacent Railroad",
         "rawType": "float64",
         "type": "float"
        },
        {
         "name": "locc_Near Pos Feature",
         "rawType": "float64",
         "type": "float"
        },
        {
         "name": "locc_Near Railroad",
         "rawType": "float64",
         "type": "float"
        },
        {
         "name": "gf_Finished",
         "rawType": "float64",
         "type": "float"
        },
        {
         "name": "gf_Rough Finished",
         "rawType": "float64",
         "type": "float"
        },
        {
         "name": "gf_Unfinished",
         "rawType": "float64",
         "type": "float"
        },
        {
         "name": "sc_Abnormal Sale",
         "rawType": "float64",
         "type": "float"
        },
        {
         "name": "sc_Allocation",
         "rawType": "float64",
         "type": "float"
        },
        {
         "name": "sc_Home not complete",
         "rawType": "float64",
         "type": "float"
        },
        {
         "name": "sc_Sale within Family",
         "rawType": "float64",
         "type": "float"
        }
       ],
       "ref": "c22e34ed-dbff-4fa4-beea-01a9ac2baac5",
       "rows": [
        [
         "Lot Frontage",
         "1.0",
         "0.06694764763238115",
         "0.13971388348225605",
         "-0.04740897532231786",
         "0.06835362727152611",
         "-0.0004692667741491539",
         "0.14939738070557815",
         "0.18714254380349077",
         "0.007172400015728968",
         "0.13047465412895914",
         "0.1837051178610694",
         "0.0058263698950045545",
         "0.15603640134866378",
         "0.01730210051768338",
         "0.0685674586845186",
         "-0.04753041998628679",
         "0.036336106089832274",
         "-0.06768845999790994",
         "0.04257154191401692",
         "0.016925292980975216",
         "-0.07379088328517282",
         "0.08395067580373354",
         "-0.061192729858316995",
         "-0.03742906305984719",
         "-0.11414290101942057",
         "-0.02884173158130344",
         "-0.07176302874513371",
         "0.027600911793096306",
         "0.0014990687574791676",
         "0.02569867854438557",
         "-0.057575311513497006",
         "0.0003354800114549245",
         "-0.0764236158806724",
         "-0.03120733739509865",
         "-0.07696157452807939",
         "0.06027578157542136",
         "0.1560130622280538",
         "-0.05130366132610462",
         "0.021026609045003225",
         "-0.0644115418584212",
         "0.018953252350959134",
         "0.008575264890373602",
         "-0.012412033375659614",
         "-0.03499492633465411",
         "0.03470184247742985",
         "-0.0512798400806837",
         "0.062076141780370575",
         "0.02577081372493748",
         "0.05088599365305964",
         "-0.011321403827038142",
         "-0.08130319927434096",
         "0.0016767380932528107",
         "0.04047973646694368",
         "0.06340939596562227",
         "-0.09091892403621053",
         "-0.004469219272872372",
         "-0.014971882957070148",
         "0.16624735866582574",
         "0.030156700193371553"
        ],
        [
         "Lot Area",
         "0.06694764763238115",
         "1.0",
         "0.06502894655636111",
         "0.0007156290272310767",
         "0.05178767202940205",
         "0.15993536533285105",
         "-0.009323849066790492",
         "0.2515847770475332",
         "0.0136837483845766",
         "0.10543725191021443",
         "0.14813591651929922",
         "0.24933790714406898",
         "0.12742804578612557",
         "0.1498928349782893",
         "0.1822080608198641",
         "0.00919834103253821",
         "-0.012914573966683947",
         "0.04625773281782143",
         "0.03564041809612388",
         "0.008477173724748828",
         "0.3654417704148983",
         "0.07922486059775438",
         "-0.07944701809858054",
         "-0.03388777130895023",
         "-0.09442252428292147",
         "-0.05745813097084161",
         "0.293222943852899",
         "-0.030199679912532515",
         "0.026362223546835564",
         "-0.022409053939954668",
         "0.02224508347306343",
         "-0.036485984439075934",
         "-0.06586084051749658",
         "0.01510770253800618",
         "-0.05870211916674103",
         "0.049729083227796844",
         "0.00665107610402853",
         "0.032122386950744694",
         "-0.06357501754782038",
         "-0.0005030441094075883",
         "-0.011373044911852004",
         "-0.06833967441544216",
         "-0.0327499788259103",
         "-0.029493423906390686",
         "0.22733098357195827",
         "0.04615157867567303",
         "-0.011411775588904332",
         "-0.00584666186122202",
         "0.04703454205389325",
         "0.031051880097404713",
         "0.008457898057120846",
         "-0.01427488425021066",
         "0.07589388929401324",
         "0.017024193892116082",
         "-0.059018709927123755",
         "-0.029848933566754863",
         "0.012811402006578992",
         "0.00058336539764154",
         "-0.01067381388911631"
        ],
        [
         "Overall Quality",
         "0.13971388348225605",
         "0.06502894655636111",
         "1.0",
         "-0.1206026715766493",
         "0.3829926829823464",
         "0.18930734783913927",
         "0.30257980505771326",
         "0.43911809787343886",
         "0.2606373028068378",
         "0.0665107164109293",
         "0.3896069598901719",
         "0.37007298659458493",
         "0.6062828153297334",
         "0.27459556708525834",
         "0.48444617503355103",
         "0.20881481142046196",
         "-0.178664226083404",
         "0.3332751584262854",
         "0.021632310596958228",
         "-0.10801967251607603",
         "-0.04895719053431815",
         "0.10407132003024491",
         "0.08807253967604406",
         "-0.0033797917925046917",
         "-0.03484784734080576",
         "-0.14257560435895705",
         "-0.028138103591363695",
         "0.1356509086586022",
         "0.02617471146009352",
         "-0.2208653070809273",
         "0.08047785122922743",
         "-0.1709606204361899",
         "-0.09040575612671829",
         "-0.07065674501662134",
         "-0.007187808232020254",
         "0.20631546910060006",
         "0.3722433685164265",
         "0.036971973073226375",
         "-0.1618415678340985",
         "-0.19380837545229457",
         "0.0325843452687131",
         "0.23417388657446594",
         "-0.06967383202369411",
         "0.187168462295326",
         "0.13803626714177702",
         "0.0406635325977403",
         "-0.08432839128059504",
         "-0.13743993126617945",
         "0.028816320489860173",
         "-0.004688613200423946",
         "0.032665958934299466",
         "0.012952575642347617",
         "0.38124601968639205",
         "0.22234799662123042",
         "-0.4369261086308746",
         "-0.10384897354133973",
         "-0.056567920414764064",
         "0.3109891741267619",
         "-0.028844416004023724"
        ],
        [
         "Overall Cond",
         "-0.04740897532231786",
         "0.0007156290272310767",
         "-0.1206026715766493",
         "1.0",
         "-0.12822203935171814",
         "-0.04078703305181035",
         "-0.15569941084299815",
         "-0.15063611170979824",
         "0.023249124184746284",
         "0.01487186688851114",
         "-0.05609857221706544",
         "-0.03228663210261813",
         "-0.20970273452233976",
         "0.029986012959574794",
         "-0.1884806420982002",
         "-0.012769951835899736",
         "-0.08305867482447105",
         "-0.15665115355390116",
         "0.0006785320487733275",
         "0.06775215145903626",
         "-0.03383866701363751",
         "-0.004322912852042963",
         "-0.05954327576167696",
         "0.014255980008372436",
         "-0.014750503729279264",
         "0.10021392941018394",
         "0.010134399234040218",
         "-0.11011002604037591",
         "0.18161639763036128",
         "-0.0030325643739041934",
         "-0.10306563359570894",
         "9.173685255808364e-05",
         "-0.037799264991275054",
         "-0.029409378896458237",
         "-0.002355727574770683",
         "-0.05757029436676459",
         "-0.12689720112685846",
         "0.07667545497731855",
         "0.2035747890927876",
         "0.0482045245865745",
         "-0.07562420551450386",
         "-0.12927053682828252",
         "0.044751514891799044",
         "-0.06785995404536257",
         "-0.0707559496187856",
         "0.055724519020798335",
         "0.07845500474641995",
         "0.04048111953456763",
         "0.06321730063877444",
         "-0.007086965630031521",
         "0.014042404325346917",
         "0.022149728521781608",
         "-0.13537307042403082",
         "-0.09807663141943426",
         "0.2080435136511474",
         "-0.03705243475650418",
         "-0.033003969889769655",
         "-0.1559442742819162",
         "-0.026143455773436193"
        ],
        [
         "Masonry/Veneer Area",
         "0.06835362727152611",
         "0.05178767202940205",
         "0.3829926829823464",
         "-0.12822203935171814",
         "1.0",
         "0.20226596918104975",
         "0.11893084393861154",
         "0.2846754442101984",
         "0.13934094229056707",
         "0.08669153116964647",
         "0.23483721328623444",
         "0.22435023824760064",
         "0.350216211023463",
         "0.13443335659343864",
         "0.2269927415092016",
         "0.1653616704850235",
         "-0.04083010717609453",
         "0.1251952079592604",
         "-0.01562569586046574",
         "-0.08389727943935714",
         "-0.033299396962956085",
         "0.012889514978323023",
         "-0.03600109933974771",
         "-0.022255940543322243",
         "0.12803772355208012",
         "-0.10243248403598176",
         "-0.011369577687460546",
         "-0.00900540037901283",
         "-0.021131463116299157",
         "-0.10019956520500249",
         "-0.08518386778179764",
         "-0.07673519217351056",
         "-0.04598477923938327",
         "-0.0469225689728113",
         "-0.047331741855640846",
         "0.2748486573284145",
         "0.304117267973185",
         "0.10292953261819873",
         "-0.13850705227850274",
         "-0.08294098591245236",
         "-0.035601048332174694",
         "0.0719567173399531",
         "-0.06969414830965606",
         "0.025657291116042105",
         "0.04895695110906322",
         "-0.03551698348461757",
         "-0.05975484091498639",
         "-0.02070902067721144",
         "0.01635002998681106",
         "-0.04888634613776448",
         "0.043064083311510806",
         "0.011609136592823397",
         "0.16418997396824517",
         "0.12245954980328974",
         "-0.21042322972752614",
         "-0.04225471079159298",
         "-0.019136749498064695",
         "0.13507924932689838",
         "-0.009205709771597601"
        ]
       ],
       "shape": {
        "columns": 59,
        "rows": 5
       }
      },
      "text/html": [
       "<div>\n",
       "<style scoped>\n",
       "    .dataframe tbody tr th:only-of-type {\n",
       "        vertical-align: middle;\n",
       "    }\n",
       "\n",
       "    .dataframe tbody tr th {\n",
       "        vertical-align: top;\n",
       "    }\n",
       "\n",
       "    .dataframe thead th {\n",
       "        text-align: right;\n",
       "    }\n",
       "</style>\n",
       "<table border=\"1\" class=\"dataframe\">\n",
       "  <thead>\n",
       "    <tr style=\"text-align: right;\">\n",
       "      <th></th>\n",
       "      <th>Lot Frontage</th>\n",
       "      <th>Lot Area</th>\n",
       "      <th>Overall Quality</th>\n",
       "      <th>Overall Cond</th>\n",
       "      <th>Masonry/Veneer Area</th>\n",
       "      <th>Basement Finished Area</th>\n",
       "      <th>Basement Unfinished Area</th>\n",
       "      <th>1st Floor Area</th>\n",
       "      <th>2nd Floor Area</th>\n",
       "      <th>Bedrooms Above Grade</th>\n",
       "      <th>...</th>\n",
       "      <th>locc_Adjacent Railroad</th>\n",
       "      <th>locc_Near Pos Feature</th>\n",
       "      <th>locc_Near Railroad</th>\n",
       "      <th>gf_Finished</th>\n",
       "      <th>gf_Rough Finished</th>\n",
       "      <th>gf_Unfinished</th>\n",
       "      <th>sc_Abnormal Sale</th>\n",
       "      <th>sc_Allocation</th>\n",
       "      <th>sc_Home not complete</th>\n",
       "      <th>sc_Sale within Family</th>\n",
       "    </tr>\n",
       "  </thead>\n",
       "  <tbody>\n",
       "    <tr>\n",
       "      <th>Lot Frontage</th>\n",
       "      <td>1.000000</td>\n",
       "      <td>0.066948</td>\n",
       "      <td>0.139714</td>\n",
       "      <td>-0.047409</td>\n",
       "      <td>0.068354</td>\n",
       "      <td>-0.000469</td>\n",
       "      <td>0.149397</td>\n",
       "      <td>0.187143</td>\n",
       "      <td>0.007172</td>\n",
       "      <td>0.130475</td>\n",
       "      <td>...</td>\n",
       "      <td>-0.011321</td>\n",
       "      <td>-0.081303</td>\n",
       "      <td>0.001677</td>\n",
       "      <td>0.040480</td>\n",
       "      <td>0.063409</td>\n",
       "      <td>-0.090919</td>\n",
       "      <td>-0.004469</td>\n",
       "      <td>-0.014972</td>\n",
       "      <td>0.166247</td>\n",
       "      <td>0.030157</td>\n",
       "    </tr>\n",
       "    <tr>\n",
       "      <th>Lot Area</th>\n",
       "      <td>0.066948</td>\n",
       "      <td>1.000000</td>\n",
       "      <td>0.065029</td>\n",
       "      <td>0.000716</td>\n",
       "      <td>0.051788</td>\n",
       "      <td>0.159935</td>\n",
       "      <td>-0.009324</td>\n",
       "      <td>0.251585</td>\n",
       "      <td>0.013684</td>\n",
       "      <td>0.105437</td>\n",
       "      <td>...</td>\n",
       "      <td>0.031052</td>\n",
       "      <td>0.008458</td>\n",
       "      <td>-0.014275</td>\n",
       "      <td>0.075894</td>\n",
       "      <td>0.017024</td>\n",
       "      <td>-0.059019</td>\n",
       "      <td>-0.029849</td>\n",
       "      <td>0.012811</td>\n",
       "      <td>0.000583</td>\n",
       "      <td>-0.010674</td>\n",
       "    </tr>\n",
       "    <tr>\n",
       "      <th>Overall Quality</th>\n",
       "      <td>0.139714</td>\n",
       "      <td>0.065029</td>\n",
       "      <td>1.000000</td>\n",
       "      <td>-0.120603</td>\n",
       "      <td>0.382993</td>\n",
       "      <td>0.189307</td>\n",
       "      <td>0.302580</td>\n",
       "      <td>0.439118</td>\n",
       "      <td>0.260637</td>\n",
       "      <td>0.066511</td>\n",
       "      <td>...</td>\n",
       "      <td>-0.004689</td>\n",
       "      <td>0.032666</td>\n",
       "      <td>0.012953</td>\n",
       "      <td>0.381246</td>\n",
       "      <td>0.222348</td>\n",
       "      <td>-0.436926</td>\n",
       "      <td>-0.103849</td>\n",
       "      <td>-0.056568</td>\n",
       "      <td>0.310989</td>\n",
       "      <td>-0.028844</td>\n",
       "    </tr>\n",
       "    <tr>\n",
       "      <th>Overall Cond</th>\n",
       "      <td>-0.047409</td>\n",
       "      <td>0.000716</td>\n",
       "      <td>-0.120603</td>\n",
       "      <td>1.000000</td>\n",
       "      <td>-0.128222</td>\n",
       "      <td>-0.040787</td>\n",
       "      <td>-0.155699</td>\n",
       "      <td>-0.150636</td>\n",
       "      <td>0.023249</td>\n",
       "      <td>0.014872</td>\n",
       "      <td>...</td>\n",
       "      <td>-0.007087</td>\n",
       "      <td>0.014042</td>\n",
       "      <td>0.022150</td>\n",
       "      <td>-0.135373</td>\n",
       "      <td>-0.098077</td>\n",
       "      <td>0.208044</td>\n",
       "      <td>-0.037052</td>\n",
       "      <td>-0.033004</td>\n",
       "      <td>-0.155944</td>\n",
       "      <td>-0.026143</td>\n",
       "    </tr>\n",
       "    <tr>\n",
       "      <th>Masonry/Veneer Area</th>\n",
       "      <td>0.068354</td>\n",
       "      <td>0.051788</td>\n",
       "      <td>0.382993</td>\n",
       "      <td>-0.128222</td>\n",
       "      <td>1.000000</td>\n",
       "      <td>0.202266</td>\n",
       "      <td>0.118931</td>\n",
       "      <td>0.284675</td>\n",
       "      <td>0.139341</td>\n",
       "      <td>0.086692</td>\n",
       "      <td>...</td>\n",
       "      <td>-0.048886</td>\n",
       "      <td>0.043064</td>\n",
       "      <td>0.011609</td>\n",
       "      <td>0.164190</td>\n",
       "      <td>0.122460</td>\n",
       "      <td>-0.210423</td>\n",
       "      <td>-0.042255</td>\n",
       "      <td>-0.019137</td>\n",
       "      <td>0.135079</td>\n",
       "      <td>-0.009206</td>\n",
       "    </tr>\n",
       "  </tbody>\n",
       "</table>\n",
       "<p>5 rows × 59 columns</p>\n",
       "</div>"
      ],
      "text/plain": [
       "                     Lot Frontage  Lot Area  Overall Quality  Overall Cond  \\\n",
       "Lot Frontage             1.000000  0.066948         0.139714     -0.047409   \n",
       "Lot Area                 0.066948  1.000000         0.065029      0.000716   \n",
       "Overall Quality          0.139714  0.065029         1.000000     -0.120603   \n",
       "Overall Cond            -0.047409  0.000716        -0.120603      1.000000   \n",
       "Masonry/Veneer Area      0.068354  0.051788         0.382993     -0.128222   \n",
       "\n",
       "                     Masonry/Veneer Area  Basement Finished Area  \\\n",
       "Lot Frontage                    0.068354               -0.000469   \n",
       "Lot Area                        0.051788                0.159935   \n",
       "Overall Quality                 0.382993                0.189307   \n",
       "Overall Cond                   -0.128222               -0.040787   \n",
       "Masonry/Veneer Area             1.000000                0.202266   \n",
       "\n",
       "                     Basement Unfinished Area  1st Floor Area  2nd Floor Area  \\\n",
       "Lot Frontage                         0.149397        0.187143        0.007172   \n",
       "Lot Area                            -0.009324        0.251585        0.013684   \n",
       "Overall Quality                      0.302580        0.439118        0.260637   \n",
       "Overall Cond                        -0.155699       -0.150636        0.023249   \n",
       "Masonry/Veneer Area                  0.118931        0.284675        0.139341   \n",
       "\n",
       "                     Bedrooms Above Grade  ...  locc_Adjacent Railroad  \\\n",
       "Lot Frontage                     0.130475  ...               -0.011321   \n",
       "Lot Area                         0.105437  ...                0.031052   \n",
       "Overall Quality                  0.066511  ...               -0.004689   \n",
       "Overall Cond                     0.014872  ...               -0.007087   \n",
       "Masonry/Veneer Area              0.086692  ...               -0.048886   \n",
       "\n",
       "                     locc_Near Pos Feature  locc_Near Railroad  gf_Finished  \\\n",
       "Lot Frontage                     -0.081303            0.001677     0.040480   \n",
       "Lot Area                          0.008458           -0.014275     0.075894   \n",
       "Overall Quality                   0.032666            0.012953     0.381246   \n",
       "Overall Cond                      0.014042            0.022150    -0.135373   \n",
       "Masonry/Veneer Area               0.043064            0.011609     0.164190   \n",
       "\n",
       "                     gf_Rough Finished  gf_Unfinished  sc_Abnormal Sale  \\\n",
       "Lot Frontage                  0.063409      -0.090919         -0.004469   \n",
       "Lot Area                      0.017024      -0.059019         -0.029849   \n",
       "Overall Quality               0.222348      -0.436926         -0.103849   \n",
       "Overall Cond                 -0.098077       0.208044         -0.037052   \n",
       "Masonry/Veneer Area           0.122460      -0.210423         -0.042255   \n",
       "\n",
       "                     sc_Allocation  sc_Home not complete  \\\n",
       "Lot Frontage             -0.014972              0.166247   \n",
       "Lot Area                  0.012811              0.000583   \n",
       "Overall Quality          -0.056568              0.310989   \n",
       "Overall Cond             -0.033004             -0.155944   \n",
       "Masonry/Veneer Area      -0.019137              0.135079   \n",
       "\n",
       "                     sc_Sale within Family  \n",
       "Lot Frontage                      0.030157  \n",
       "Lot Area                         -0.010674  \n",
       "Overall Quality                  -0.028844  \n",
       "Overall Cond                     -0.026143  \n",
       "Masonry/Veneer Area              -0.009206  \n",
       "\n",
       "[5 rows x 59 columns]"
      ]
     },
     "execution_count": 123,
     "metadata": {},
     "output_type": "execute_result"
    }
   ],
   "source": [
    "# Set display option to show all rows\n",
    "pd.set_option('display.max_rows', 100)\n",
    "\n",
    "# Create a DataFrame named features with all features in X except 'const'\n",
    "features = X.drop('const', axis=1)\n",
    "\n",
    "# Create a correlation matrix for the features DataFrame\n",
    "corrMatrix = features.corr()\n",
    "\n",
    "# Convert corrMatrix to a DataFrame and view it\n",
    "df_corrMatrix = pd.DataFrame(corrMatrix)\n",
    "df_corrMatrix.head()"
   ]
  },
  {
   "cell_type": "code",
   "execution_count": 124,
   "id": "cef78356",
   "metadata": {},
   "outputs": [
    {
     "data": {
      "image/png": "[encoded data removed]",
      "text/plain": [
       "<Figure size 1600x1400 with 2 Axes>"
      ]
     },
     "metadata": {},
     "output_type": "display_data"
    }
   ],
   "source": [
    "# Create a heatmap for the correlation matrix\n",
    "def plot_corr_heatmap(df_corrMatrix):\n",
    "    import matplotlib.pyplot as plt\n",
    "    import seaborn as sns\n",
    "    colormap = plt.cm.RdBu\n",
    "    plt.figure(figsize=(16, 14))\n",
    "    sns.heatmap(df_corrMatrix, linewidths=0.1, vmax=1.0, vmin=-1.0, square=True,\n",
    "                cmap=colormap, linecolor='white', annot=False)\n",
    "    plt.title('Correlation Matrix Heatmap')\n",
    "    plt.show()\n",
    "\n",
    "plot_corr_heatmap(df_corrMatrix)"
   ]
  },
  {
   "cell_type": "code",
   "execution_count": 125,
   "id": "7cecd5d9",
   "metadata": {},
   "outputs": [
    {
     "data": {
      "application/vnd.microsoft.datawrangler.viewer.v0+json": {
       "columns": [
        {
         "name": "index",
         "rawType": "int64",
         "type": "integer"
        },
        {
         "name": "Features",
         "rawType": "object",
         "type": "string"
        },
        {
         "name": "VIF Factor",
         "rawType": "float64",
         "type": "float"
        }
       ],
       "ref": "b1ec465e-e085-45f9-90ce-bc279eb95b28",
       "rows": [
        [
         "10",
         "Total Rooms Above Grade",
         "87.42641303018563"
        ],
        [
         "2",
         "Overall Quality",
         "68.565335289598"
        ],
        [
         "7",
         "1st Floor Area",
         "57.90128115077687"
        ],
        [
         "9",
         "Bedrooms Above Grade",
         "48.856927456711496"
        ],
        [
         "14",
         "Full Bathrooms",
         "40.17159758555392"
        ],
        [
         "3",
         "Overall Cond",
         "29.4560923040699"
        ],
        [
         "12",
         "Garage Cars",
         "21.36115967674536"
        ],
        [
         "17",
         "Baths per Bedroom",
         "19.377582208762686"
        ],
        [
         "54",
         "gf_Unfinished",
         "13.660255480026839"
        ],
        [
         "53",
         "gf_Rough Finished",
         "11.98289766910121"
        ],
        [
         "52",
         "gf_Finished",
         "10.956497477311755"
        ],
        [
         "6",
         "Basement Unfinished Area",
         "9.323799530191588"
        ],
        [
         "8",
         "2nd Floor Area",
         "8.544153958691615"
        ],
        [
         "5",
         "Basement Finished Area",
         "7.677945241580813"
        ],
        [
         "0",
         "Lot Frontage",
         "4.6979783675915545"
        ],
        [
         "11",
         "Fireplaces",
         "3.2280412393478555"
        ],
        [
         "13",
         "Porch Area",
         "3.194088671965142"
        ],
        [
         "1",
         "Lot Area",
         "3.106951192305709"
        ],
        [
         "15",
         "Half Bathrooms",
         "3.0923509481314304"
        ],
        [
         "27",
         "dt_College Creek",
         "2.3898758242879334"
        ]
       ],
       "shape": {
        "columns": 2,
        "rows": 20
       }
      },
      "text/html": [
       "<div>\n",
       "<style scoped>\n",
       "    .dataframe tbody tr th:only-of-type {\n",
       "        vertical-align: middle;\n",
       "    }\n",
       "\n",
       "    .dataframe tbody tr th {\n",
       "        vertical-align: top;\n",
       "    }\n",
       "\n",
       "    .dataframe thead th {\n",
       "        text-align: right;\n",
       "    }\n",
       "</style>\n",
       "<table border=\"1\" class=\"dataframe\">\n",
       "  <thead>\n",
       "    <tr style=\"text-align: right;\">\n",
       "      <th></th>\n",
       "      <th>Features</th>\n",
       "      <th>VIF Factor</th>\n",
       "    </tr>\n",
       "  </thead>\n",
       "  <tbody>\n",
       "    <tr>\n",
       "      <th>10</th>\n",
       "      <td>Total Rooms Above Grade</td>\n",
       "      <td>87.426413</td>\n",
       "    </tr>\n",
       "    <tr>\n",
       "      <th>2</th>\n",
       "      <td>Overall Quality</td>\n",
       "      <td>68.565335</td>\n",
       "    </tr>\n",
       "    <tr>\n",
       "      <th>7</th>\n",
       "      <td>1st Floor Area</td>\n",
       "      <td>57.901281</td>\n",
       "    </tr>\n",
       "    <tr>\n",
       "      <th>9</th>\n",
       "      <td>Bedrooms Above Grade</td>\n",
       "      <td>48.856927</td>\n",
       "    </tr>\n",
       "    <tr>\n",
       "      <th>14</th>\n",
       "      <td>Full Bathrooms</td>\n",
       "      <td>40.171598</td>\n",
       "    </tr>\n",
       "    <tr>\n",
       "      <th>3</th>\n",
       "      <td>Overall Cond</td>\n",
       "      <td>29.456092</td>\n",
       "    </tr>\n",
       "    <tr>\n",
       "      <th>12</th>\n",
       "      <td>Garage Cars</td>\n",
       "      <td>21.361160</td>\n",
       "    </tr>\n",
       "    <tr>\n",
       "      <th>17</th>\n",
       "      <td>Baths per Bedroom</td>\n",
       "      <td>19.377582</td>\n",
       "    </tr>\n",
       "    <tr>\n",
       "      <th>54</th>\n",
       "      <td>gf_Unfinished</td>\n",
       "      <td>13.660255</td>\n",
       "    </tr>\n",
       "    <tr>\n",
       "      <th>53</th>\n",
       "      <td>gf_Rough Finished</td>\n",
       "      <td>11.982898</td>\n",
       "    </tr>\n",
       "    <tr>\n",
       "      <th>52</th>\n",
       "      <td>gf_Finished</td>\n",
       "      <td>10.956497</td>\n",
       "    </tr>\n",
       "    <tr>\n",
       "      <th>6</th>\n",
       "      <td>Basement Unfinished Area</td>\n",
       "      <td>9.323800</td>\n",
       "    </tr>\n",
       "    <tr>\n",
       "      <th>8</th>\n",
       "      <td>2nd Floor Area</td>\n",
       "      <td>8.544154</td>\n",
       "    </tr>\n",
       "    <tr>\n",
       "      <th>5</th>\n",
       "      <td>Basement Finished Area</td>\n",
       "      <td>7.677945</td>\n",
       "    </tr>\n",
       "    <tr>\n",
       "      <th>0</th>\n",
       "      <td>Lot Frontage</td>\n",
       "      <td>4.697978</td>\n",
       "    </tr>\n",
       "    <tr>\n",
       "      <th>11</th>\n",
       "      <td>Fireplaces</td>\n",
       "      <td>3.228041</td>\n",
       "    </tr>\n",
       "    <tr>\n",
       "      <th>13</th>\n",
       "      <td>Porch Area</td>\n",
       "      <td>3.194089</td>\n",
       "    </tr>\n",
       "    <tr>\n",
       "      <th>1</th>\n",
       "      <td>Lot Area</td>\n",
       "      <td>3.106951</td>\n",
       "    </tr>\n",
       "    <tr>\n",
       "      <th>15</th>\n",
       "      <td>Half Bathrooms</td>\n",
       "      <td>3.092351</td>\n",
       "    </tr>\n",
       "    <tr>\n",
       "      <th>27</th>\n",
       "      <td>dt_College Creek</td>\n",
       "      <td>2.389876</td>\n",
       "    </tr>\n",
       "  </tbody>\n",
       "</table>\n",
       "</div>"
      ],
      "text/plain": [
       "                    Features  VIF Factor\n",
       "10   Total Rooms Above Grade   87.426413\n",
       "2            Overall Quality   68.565335\n",
       "7             1st Floor Area   57.901281\n",
       "9       Bedrooms Above Grade   48.856927\n",
       "14            Full Bathrooms   40.171598\n",
       "3               Overall Cond   29.456092\n",
       "12               Garage Cars   21.361160\n",
       "17         Baths per Bedroom   19.377582\n",
       "54             gf_Unfinished   13.660255\n",
       "53         gf_Rough Finished   11.982898\n",
       "52               gf_Finished   10.956497\n",
       "6   Basement Unfinished Area    9.323800\n",
       "8             2nd Floor Area    8.544154\n",
       "5     Basement Finished Area    7.677945\n",
       "0               Lot Frontage    4.697978\n",
       "11                Fireplaces    3.228041\n",
       "13                Porch Area    3.194089\n",
       "1                   Lot Area    3.106951\n",
       "15            Half Bathrooms    3.092351\n",
       "27          dt_College Creek    2.389876"
      ]
     },
     "execution_count": 125,
     "metadata": {},
     "output_type": "execute_result"
    }
   ],
   "source": [
    "# Calculate VIF for the features in the regression model\n",
    "from statsmodels.stats.outliers_influence import variance_inflation_factor\n",
    "\n",
    "vif = pd.DataFrame()\n",
    "vif['Features'] = features.columns\n",
    "vif['VIF Factor'] = [variance_inflation_factor(features.values, i) for i in range(features.shape[1])]\n",
    "vif = vif.sort_values('VIF Factor', ascending=False)\n",
    "vif.head(20)  # Show top 20 features with highest VIF"
   ]
  },
  {
   "cell_type": "markdown",
   "id": "bb268cf2",
   "metadata": {},
   "source": [
    "### Analysis of Regression Diagnostics and Next Steps\n",
    "\n",
    "1. **Residual Plot:**\n",
    "   - The residual plot is much improved compared to previous models. There is no clear pattern, which suggests that the model fits the data better and the assumptions of linearity and homoscedasticity are more closely met.\n",
    "   - However, a few outliers are still present, but overall, the residuals are more randomly scattered.\n",
    "\n",
    "2. **Correlation Matrix (Heatmap):**\n",
    "   - With so many features, the heatmap is crowded and difficult to interpret visually.\n",
    "   - It is challenging to pinpoint exact pairs of highly correlated features just by looking at the heatmap, but it does suggest that some features are strongly related.\n",
    "\n",
    "3. **Variance Inflation Factor (VIF):**\n",
    "   - The VIF analysis provides a clearer picture of multicollinearity.\n",
    "   - For example, 'Total Rooms Above Grade' has a VIF of 87, which is extremely high.\n",
    "   - There are 14 variables with VIF values greater than 5, indicating significant multicollinearity among predictors.\n",
    "   - High VIF values suggest that some features are redundant and may be causing instability in the regression coefficients.\n",
    "\n",
    "4. **Should We Eliminate Features Based on VIF?**\n",
    "   - Yes, features with very high VIF (typically above 5 ) should be considered for removal or further investigation, as they can distort the model and make interpretation unreliable.\n",
    "\n",
    "\n",
    "\n",
    "5. **Practical Relationship: 'Extra Kitchens' and 'dt_DUPLEX':**\n",
    "   - In real-world terms, homes classified as 'dt_DUPLEX' (duplexes) are much more likely to have extra kitchens, since a duplex is designed to house two separate families or units, each with its own kitchen. This explains the strong correlation between these two features.\n",
    "\n"
   ]
  },
  {
   "cell_type": "markdown",
   "id": "debd9492",
   "metadata": {},
   "source": []
  }
 ],
 "metadata": {
  "kernelspec": {
   "display_name": "Python 3",
   "language": "python",
   "name": "python3"
  },
  "language_info": {
   "codemirror_mode": {
    "name": "ipython",
    "version": 3
   },
   "file_extension": ".py",
   "mimetype": "text/x-python",
   "name": "python",
   "nbconvert_exporter": "python",
   "pygments_lexer": "ipython3",
   "version": "3.12.0"
  }
 },
 "nbformat": 4,
 "nbformat_minor": 5
}
