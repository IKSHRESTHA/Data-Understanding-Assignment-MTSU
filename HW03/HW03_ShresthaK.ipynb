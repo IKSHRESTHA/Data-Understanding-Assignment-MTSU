{
 "cells": [
  {
   "cell_type": "markdown",
   "id": "70200f4f",
   "metadata": {},
   "source": [
    "# HW03- Simple Regression with Real Estate Data\n",
    "\n",
    "## Simple Linear Regression\n",
    "Simple linear regression is a stastistical method used to model the relationship between a dependent variable and one independent variable and are most commonly used. \n",
    "Mathematically, it can be expressed as:\n",
    "$$y = \\beta_0 + \\beta_1 x + \\epsilon$$\n",
    "where:\n",
    "- $y$ is the dependent variable (response variable)\n",
    "- $x$ is the independent variable (predictor variable)\n",
    "- $\\beta_0$ is the y-intercept of the regression line\n",
    "- $\\beta_1$ is the slope of the regression line\n",
    "- $\\epsilon$ is the error term (residuals)\n",
    "\n",
    "There are several assumptions that need to be met for simple linear regression to be valid:\n",
    "1. **Linearity**: The relationship between the independent and dependent variable is linear.\n",
    "2. **Independence**: The observations are independent of each other.\n",
    "3. **Homoscedasticity**: The residuals (errors) have constant variance across all levels of the independent variable.\n",
    "4. **Normality**: The residuals are normally distributed.\n",
    "\n",
    "If these assumptions are not met, the results of the regression analysis may be invalid or misleading.\n",
    "\n",
    "In order to check these assumptions, we can use various diagnostic plots and statistical tests.\n",
    "1. **Linearity**: We can use scatter plots to visualize the relationship between the independent and dependent variables.\n",
    "2. **Independence**: We can check the independence of observations by examining the data collection process and ensuring that there is no autocorrelation.  \n",
    "3. **Homoscedasticity**: We can use residual plots to check for constant variance of the residuals.\n",
    "4. **Normality**: We can use Q-Q plots or statistical tests like the Shapiro-Wilk test to check if the residuals are normally distributed.\n",
    "\n",
    "If assumptions are violated, we may need to consider alternative regression methods or transformations of the data.If assumptions are met, then we will focuse on the accuracy of the model, which can be evaluated using various metrics such as R-squared, adjusted R-squared, and root mean squared error (RMSE).\n",
    "1. **R-squared**: This metric indicates the proportion of variance in the dependent variable that can be explained by the independent variable. It ranges from 0 to 1, with higher values indicating a better fit.\n",
    "2. **Adjusted R-squared**: This metric adjusts the R-squared value for the number of predictors in the model, providing a more accurate measure of model fit when multiple independent variables are used.\n",
    "3. **Root Mean Squared Error (RMSE)**: This metric measures the average magnitude of the residuals, providing an indication of how well the model predicts the dependent variable. Lower RMSE values indicate a better fit.\n",
    "\n",
    "while r-squared and adjusted r-squared are useful for evaluating the overall fit of the model, RMSE is particularly useful for assessing the accuracy of predictions made by the model. It is always not necessary that having a high R-squared value means that the model is accurate, as it may be overfitting the data. That is why RMSE is a more reliable metric for evaluating the accuracy of the model.\n",
    "For this assignment, we will be more focused on the building a simple linear regression model using the real estate data and evaluating its performance using the metrics mentioned above."
   ]
  },
  {
   "cell_type": "markdown",
   "id": "e1543513",
   "metadata": {},
   "source": [
    "**Importing Libraries and Loading Data**\n",
    "\n",
    "we will be useing the following libraries:\n",
    "1. `pandas`: for data manipulation and analysis\n",
    "2. `numpy`: for numerical operations\n",
    "3. `matplotlib.pyplot`: for data visualization\n",
    "4. `seaborn`: for statistical data visualization\n",
    "5. `statsmodels.api`: for statistical modeling and regression analysis\n",
    "6. `statsmodels`: for statistical tests and diagnostics\n",
    "\n",
    "And then after importing the libraries, we will load the real estate data from a CSV file using `pandas`. The dataset contains information about various properties, including their prices and features.\n",
    "\n",
    "\n"
   ]
  },
  {
   "cell_type": "code",
   "execution_count": 3,
   "id": "524ee2fc",
   "metadata": {},
   "outputs": [],
   "source": [
    "# Importing Libraries\n",
    "import numpy as np\n",
    "import pandas as pd\n",
    "import matplotlib.pyplot as plt\n",
    "import seaborn as sns\n",
    "import statsmodels.api as sm\n",
    "import statsmodels\n",
    "\n",
    "\n",
    "# print(plt.style.available)\n",
    "# given the list of available styles, i have chosen 'fivethirtyeight' for its clean and modern look\n",
    "plt.style.use('fivethirtyeight')\n",
    "\n"
   ]
  },
  {
   "cell_type": "code",
   "execution_count": 6,
   "id": "5eb92d64",
   "metadata": {},
   "outputs": [],
   "source": [
    "# Importing the dataset\n",
    "df_realestate = pd.read_csv('data/Real Estate Data - Week 3.csv',index_col=0,header=0)\n"
   ]
  },
  {
   "cell_type": "markdown",
   "id": "a00cf2da",
   "metadata": {},
   "source": [
    "### Section 5a: Create the X and y datasets and Simple Regression\n",
    "\n",
    "Task in hand:\n",
    "- create the X and y datasets where X is `Living Area Above Grade` and y is `Sale Price`\n",
    "- create a simple linear regression model using `statsmodels` with name of model as `reg`.\n",
    "- use the X to predict the model and name it `pred`.\n",
    "- Use the model (reg) to create the residuals and name it `resid`\n",
    "- Show the summary of the results"
   ]
  },
  {
   "cell_type": "code",
   "execution_count": 7,
   "id": "53c5b75e",
   "metadata": {},
   "outputs": [
    {
     "name": "stdout",
     "output_type": "stream",
     "text": [
      "                            OLS Regression Results                            \n",
      "==============================================================================\n",
      "Dep. Variable:             Sale Price   R-squared:                       0.463\n",
      "Model:                            OLS   Adj. R-squared:                  0.463\n",
      "Method:                 Least Squares   F-statistic:                     1199.\n",
      "Date:                Tue, 03 Jun 2025   Prob (F-statistic):          7.76e-190\n",
      "Time:                        17:02:54   Log-Likelihood:                -17076.\n",
      "No. Observations:                1390   AIC:                         3.416e+04\n",
      "Df Residuals:                    1388   BIC:                         3.417e+04\n",
      "Df Model:                           1                                         \n",
      "Covariance Type:            nonrobust                                         \n",
      "===========================================================================================\n",
      "                              coef    std err          t      P>|t|      [0.025      0.975]\n",
      "-------------------------------------------------------------------------------------------\n",
      "const                    3.369e+04   4485.277      7.511      0.000    2.49e+04    4.25e+04\n",
      "Living Area Above Grade    96.9264      2.800     34.620      0.000      91.434     102.419\n",
      "==============================================================================\n",
      "Omnibus:                      180.493   Durbin-Watson:                   2.034\n",
      "Prob(Omnibus):                  0.000   Jarque-Bera (JB):             1755.914\n",
      "Skew:                           0.193   Prob(JB):                         0.00\n",
      "Kurtosis:                       8.493   Cond. No.                     5.11e+03\n",
      "==============================================================================\n",
      "\n",
      "Notes:\n",
      "[1] Standard Errors assume that the covariance matrix of the errors is correctly specified.\n",
      "[2] The condition number is large, 5.11e+03. This might indicate that there are\n",
      "strong multicollinearity or other numerical problems.\n"
     ]
    }
   ],
   "source": [
    "# Create the X and y datasets\n",
    "X = df_realestate[['Living Area Above Grade']]\n",
    "y = df_realestate['Sale Price']\n",
    "\n",
    "# Add a constant to the independent variable\n",
    "X = sm.add_constant(X)\n",
    "\n",
    "# Create the simple linear regression model\n",
    "reg = sm.OLS(y, X).fit()\n",
    "\n",
    "# Use the model to predict\n",
    "pred = reg.predict(X)\n",
    "\n",
    "# Calculate residuals\n",
    "resid = y - pred\n",
    "\n",
    "# Show the summary of the results\n",
    "print(reg.summary())"
   ]
  },
  {
   "cell_type": "markdown",
   "id": "1085e4f0",
   "metadata": {},
   "source": [
    "From the summary, we have a fitted model as:\n",
    "$$y = 33690 + 96.93 \\times \\text{Living Area Above Grade}$$\n",
    "\n"
   ]
  },
  {
   "cell_type": "markdown",
   "id": "41b92137",
   "metadata": {},
   "source": [
    "## Section 5b:  Create a Regression Table\n",
    "Task in hand:\n",
    "- Creating a regression table which will allows us to view the X and y variables, along with what we predicted and the residual.\n",
    "- Need to create a code block that creates a table that includes the following columns and name it `df_reg`:\n",
    "- `Living Area Above Grade`\n",
    "- `Sale Price`\n",
    "- We need to concatenate the df_reg, pred, and resid and use the name df_reg as the final data set and print head.\n",
    "- rename the colimns as `Sale Price Predicted` and `Residuals`."
   ]
  },
  {
   "cell_type": "code",
   "execution_count": 9,
   "id": "ee307fca",
   "metadata": {},
   "outputs": [
    {
     "name": "stdout",
     "output_type": "stream",
     "text": [
      "    Living Area Above Grade  Sale Price  Sale Price Predicted      Residuals\n",
      "Id                                                                          \n",
      "1                      1710      208500         199432.115140    9067.884860\n",
      "2                      1262      181500         156009.099394   25490.900606\n",
      "3                      1786      223500         206798.519597   16701.480403\n",
      "4                      1717      140000         200110.599761  -60110.599761\n",
      "5                      2198      250000         246732.185862    3267.814138\n",
      "6                      1362      143000         165701.736837  -22701.736837\n",
      "7                      1694      307000         197881.293149  109118.706851\n",
      "8                      2090      200000         236264.137424  -36264.137424\n",
      "9                      1774      129900         205635.403103  -75735.403103\n",
      "10                     1077      118000         138077.720124  -20077.720124\n"
     ]
    }
   ],
   "source": [
    "# Create a regression table\n",
    "df_reg = pd.concat([X['Living Area Above Grade'], y, pred, resid], axis=1)\n",
    "df_reg.columns = ['Living Area Above Grade', 'Sale Price', 'Sale Price Predicted', 'Residuals']\n",
    "\n",
    "# Display the first few rows of the regression table\n",
    "print(df_reg.head(10))"
   ]
  },
  {
   "cell_type": "markdown",
   "id": "071d0b8c",
   "metadata": {},
   "source": [
    "## Section 5C: Create a Regression Plot (regplot)\n",
    "Task in hand:\n",
    "- Create a regression plot to visually see the relationship between the `Living Area Above Grade` and `Sale Price`.\n",
    "Need to include the following\n",
    "- x is `Living Area Above Grade`\n",
    "- y is `Sale Price`\n",
    "- data is `df_reg`\n",
    "- scatter_kws ={'color': 'green',\"alpha\" :0.15, 's': 50}\n",
    "- line_kws = {'color': 'black'}\n",
    "- put the titile as ` Regression Fit plot for Sale Price and Living Area`  with fontsize 18 pt and centered.\n",
    "- xlabel as `Living Area Above Grade` with fontsize 14 pt and centred.\n",
    "- ylabel as `Sale Price` with fontsize 14 pt and centred. "
   ]
  },
  {
   "cell_type": "code",
   "execution_count": null,
   "id": "86a59ed7",
   "metadata": {},
   "outputs": [],
   "source": [
    "# Create a regression plot\n",
    "plt.figure(figsize=(10, 6))\n",
    "sns.regplot(x='Living Area Above Grade', y='Sale Price', data=df_reg,\n",
    "            scatter_kws={'color': 'green', 'alpha': 0.15, 's': 50},\n",
    "            line_kws={'color': 'black'})\n",
    "\n",
    "# Add title and labels\n",
    "plt.title('Regression Fit plot for Sale Price and Living Area', fontsize=18, loc='center')\n",
    "plt.xlabel('Living Area Above Grade', fontsize=14, labelpad=10)\n",
    "plt.ylabel('Sale Price', fontsize=14, labelpad=10)\n",
    "\n",
    "# Show the plot\n",
    "plt.show()"
   ]
  }
 ],
 "metadata": {
  "kernelspec": {
   "display_name": "Python 3",
   "language": "python",
   "name": "python3"
  },
  "language_info": {
   "codemirror_mode": {
    "name": "ipython",
    "version": 3
   },
   "file_extension": ".py",
   "mimetype": "text/x-python",
   "name": "python",
   "nbconvert_exporter": "python",
   "pygments_lexer": "ipython3",
   "version": "3.12.0"
  }
 },
 "nbformat": 4,
 "nbformat_minor": 5
}
