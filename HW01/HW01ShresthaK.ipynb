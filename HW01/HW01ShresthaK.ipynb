{
 "cells": [
  {
   "cell_type": "markdown",
   "id": "ebd63d70",
   "metadata": {},
   "source": [
    "# Data Wrangling with Pandas\n",
    "    In this notebook, we will be working with Ames, IA housing data. The dataset contains information about various houses in Ames, including their sale prices and various features. Inside this notebook, we will perform data wrangling tasks such as cleaning, transforming, and summarizing the data using the Pandas library in Python.\n",
    "\n",
    "    Before we start, we will import the necessary libraries and load the dataset.\n",
    "## 3 Importing Libraries\n",
    "    We will be using numpy and pandas libraries for data manipulation and analysis.\n",
    "    "
   ]
  },
  {
   "cell_type": "code",
   "execution_count": 1,
   "id": "247d1d50",
   "metadata": {},
   "outputs": [],
   "source": [
    "import numpy as np\n",
    "import pandas as pd"
   ]
  },
  {
   "cell_type": "markdown",
   "id": "74f027cd",
   "metadata": {},
   "source": [
    "Next we will load the dataset using pandas.\n",
    "## 4 Import Data\n"
   ]
  },
  {
   "cell_type": "code",
   "execution_count": 5,
   "id": "620783a2",
   "metadata": {},
   "outputs": [],
   "source": [
    "df_realestate = pd.read_csv('data/Real Estate Data.csv',\n",
    "                            index_col=None,\n",
    "                            header=0)"
   ]
  },
  {
   "cell_type": "markdown",
   "id": "aca9c7be",
   "metadata": {},
   "source": [
    "## 5. Viewing Data\n",
    "After loading the dataset, we will take a look at the first few and last few rows to understand its structure and contents.\n",
    "- view the top 5 rows of df_realestate\n"
   ]
  },
  {
   "cell_type": "code",
   "execution_count": 6,
   "id": "f3bdaa0c",
   "metadata": {},
   "outputs": [
    {
     "data": {
      "application/vnd.microsoft.datawrangler.viewer.v0+json": {
       "columns": [
        {
         "name": "index",
         "rawType": "int64",
         "type": "integer"
        },
        {
         "name": "Id",
         "rawType": "int64",
         "type": "integer"
        },
        {
         "name": "Type",
         "rawType": "object",
         "type": "string"
        },
        {
         "name": "Zoning Class",
         "rawType": "object",
         "type": "string"
        },
        {
         "name": "Lot Frontage",
         "rawType": "float64",
         "type": "float"
        },
        {
         "name": "Lot Area",
         "rawType": "int64",
         "type": "integer"
        },
        {
         "name": "Alley",
         "rawType": "object",
         "type": "unknown"
        },
        {
         "name": "Lot Shape",
         "rawType": "object",
         "type": "string"
        },
        {
         "name": "Land Contour",
         "rawType": "object",
         "type": "string"
        },
        {
         "name": "Lot Config",
         "rawType": "object",
         "type": "string"
        },
        {
         "name": "Land Slope",
         "rawType": "object",
         "type": "string"
        },
        {
         "name": "Nbhd",
         "rawType": "object",
         "type": "string"
        },
        {
         "name": "Location Condition",
         "rawType": "object",
         "type": "string"
        },
        {
         "name": "Bldg Type",
         "rawType": "object",
         "type": "string"
        },
        {
         "name": "House Style",
         "rawType": "object",
         "type": "string"
        },
        {
         "name": "OvQual",
         "rawType": "int64",
         "type": "integer"
        },
        {
         "name": "Overall Cond",
         "rawType": "int64",
         "type": "integer"
        },
        {
         "name": "Built",
         "rawType": "int64",
         "type": "integer"
        },
        {
         "name": "Year Remod Add",
         "rawType": "int64",
         "type": "integer"
        },
        {
         "name": "Roof Style",
         "rawType": "object",
         "type": "string"
        },
        {
         "name": "Roof Material",
         "rawType": "object",
         "type": "string"
        },
        {
         "name": "Exterior Primary",
         "rawType": "object",
         "type": "string"
        },
        {
         "name": "Masonry/Veneer",
         "rawType": "object",
         "type": "unknown"
        },
        {
         "name": "Masonry/Veneer Area",
         "rawType": "float64",
         "type": "float"
        },
        {
         "name": "Exterior Qual",
         "rawType": "object",
         "type": "string"
        },
        {
         "name": "Exterior Cond",
         "rawType": "object",
         "type": "string"
        },
        {
         "name": "Foundation",
         "rawType": "object",
         "type": "string"
        },
        {
         "name": "Basement Height",
         "rawType": "object",
         "type": "string"
        },
        {
         "name": "Basement Cond",
         "rawType": "object",
         "type": "string"
        },
        {
         "name": "Basement Exposure",
         "rawType": "object",
         "type": "string"
        },
        {
         "name": "Basement Finish",
         "rawType": "object",
         "type": "string"
        },
        {
         "name": "Basement Finished Area",
         "rawType": "int64",
         "type": "integer"
        },
        {
         "name": "Basement Unfinished Area",
         "rawType": "int64",
         "type": "integer"
        },
        {
         "name": "Basement Area",
         "rawType": "int64",
         "type": "integer"
        },
        {
         "name": "Heating Qual",
         "rawType": "object",
         "type": "string"
        },
        {
         "name": "CentralAir",
         "rawType": "object",
         "type": "string"
        },
        {
         "name": "Electrical",
         "rawType": "object",
         "type": "string"
        },
        {
         "name": "1st Floor Area",
         "rawType": "int64",
         "type": "integer"
        },
        {
         "name": "2nd Floor Area",
         "rawType": "int64",
         "type": "integer"
        },
        {
         "name": "Living Area Above Grade",
         "rawType": "int64",
         "type": "integer"
        },
        {
         "name": "Basement Full Baths",
         "rawType": "int64",
         "type": "integer"
        },
        {
         "name": "Basement Half baths",
         "rawType": "int64",
         "type": "integer"
        },
        {
         "name": "Full Baths Above Grade",
         "rawType": "int64",
         "type": "integer"
        },
        {
         "name": "Half Baths Above Grade",
         "rawType": "int64",
         "type": "integer"
        },
        {
         "name": "Bedrooms Above Grade",
         "rawType": "int64",
         "type": "integer"
        },
        {
         "name": "Kitchens Above Grade",
         "rawType": "int64",
         "type": "integer"
        },
        {
         "name": "Kitchen Qual",
         "rawType": "object",
         "type": "string"
        },
        {
         "name": "Total Rooms Above Grade",
         "rawType": "int64",
         "type": "integer"
        },
        {
         "name": "Functionality",
         "rawType": "object",
         "type": "string"
        },
        {
         "name": "Fireplaces",
         "rawType": "int64",
         "type": "integer"
        },
        {
         "name": "Fireplce Qual",
         "rawType": "object",
         "type": "string"
        },
        {
         "name": "Garage Type",
         "rawType": "object",
         "type": "string"
        },
        {
         "name": "Garage Yr Built",
         "rawType": "float64",
         "type": "float"
        },
        {
         "name": "Garage Finish",
         "rawType": "object",
         "type": "string"
        },
        {
         "name": "Garage Cars",
         "rawType": "int64",
         "type": "integer"
        },
        {
         "name": "Garage Area",
         "rawType": "int64",
         "type": "integer"
        },
        {
         "name": "Garage Qual",
         "rawType": "object",
         "type": "string"
        },
        {
         "name": "Garage Cond",
         "rawType": "object",
         "type": "string"
        },
        {
         "name": "Paved Drive",
         "rawType": "object",
         "type": "string"
        },
        {
         "name": "Wood Deck Area",
         "rawType": "int64",
         "type": "integer"
        },
        {
         "name": "Open Porch Area",
         "rawType": "int64",
         "type": "integer"
        },
        {
         "name": "Enclosed Porch Area",
         "rawType": "int64",
         "type": "integer"
        },
        {
         "name": "3 Season Porch Area",
         "rawType": "int64",
         "type": "integer"
        },
        {
         "name": "Screen Porch Area",
         "rawType": "int64",
         "type": "integer"
        },
        {
         "name": "Pool Area",
         "rawType": "int64",
         "type": "integer"
        },
        {
         "name": "Pool Qual",
         "rawType": "object",
         "type": "string"
        },
        {
         "name": "Fence",
         "rawType": "object",
         "type": "string"
        },
        {
         "name": "Sale Type",
         "rawType": "object",
         "type": "string"
        },
        {
         "name": "Sale Condition",
         "rawType": "object",
         "type": "string"
        },
        {
         "name": "Sale Price",
         "rawType": "int64",
         "type": "integer"
        }
       ],
       "conversionMethod": "pd.DataFrame",
       "ref": "99b45e17-594c-4402-8ddc-251d8c3c4c15",
       "rows": [
        [
         "0",
         "1",
         "2-STORY 1946 & NEWER",
         "Resid Low Density",
         "65.0",
         "8450",
         null,
         "Regular",
         "Level",
         "Inside lot",
         "Gentle",
         "College Creek",
         "Normal",
         "1-family Detached",
         "2 story",
         "7",
         "5",
         "2003",
         "2003",
         "Gable",
         "Composite Shingle",
         "Vinyl Siding",
         "Brick Face",
         "196.0",
         "Good",
         "Average",
         "Poured Contrete",
         "Good (90-99\")",
         "Average",
         "No Exposure",
         "Good Living Quarters",
         "706",
         "150",
         "856",
         "Excellent",
         "Y",
         "Standard Circuit Breakers & Romex",
         "856",
         "854",
         "1710",
         "1",
         "0",
         "2",
         "1",
         "3",
         "1",
         "Good",
         "8",
         "Typical Functionality",
         "0",
         "No Fireplace",
         "Attached to home",
         "2003.0",
         "Rough Finished",
         "2",
         "548",
         "Average",
         "Average",
         "Paved ",
         "0",
         "61",
         "0",
         "0",
         "0",
         "0",
         "No Pool",
         "No Fence",
         "Warranty Deed - Conventional",
         "Normal Sale",
         "208500"
        ],
        [
         "1",
         "2",
         "1-STORY 1946 & NEWER",
         "Resid Low Density",
         "80.0",
         "9600",
         null,
         "Regular",
         "Level",
         "Frontage on 2 sides",
         "Gentle",
         "Veenker",
         "Adjacent Feeder St",
         "1-family Detached",
         "1 story",
         "6",
         "8",
         "1976",
         "1976",
         "Gable",
         "Composite Shingle",
         "Metal Siding",
         null,
         "0.0",
         "Average",
         "Average",
         "Cinder Block",
         "Good (90-99\")",
         "Average",
         "Good Exposure",
         "Avg Living Quarters",
         "978",
         "284",
         "1262",
         "Excellent",
         "Y",
         "Standard Circuit Breakers & Romex",
         "1262",
         "0",
         "1262",
         "0",
         "1",
         "2",
         "0",
         "3",
         "1",
         "Average",
         "6",
         "Typical Functionality",
         "1",
         "Average",
         "Attached to home",
         "1976.0",
         "Rough Finished",
         "2",
         "460",
         "Average",
         "Average",
         "Paved ",
         "298",
         "0",
         "0",
         "0",
         "0",
         "0",
         "No Pool",
         "No Fence",
         "Warranty Deed - Conventional",
         "Normal Sale",
         "181500"
        ],
        [
         "2",
         "3",
         "2-STORY 1946 & NEWER",
         "Resid Low Density",
         "68.0",
         "11250",
         null,
         "Slightly irregular",
         "Level",
         "Inside lot",
         "Gentle",
         "College Creek",
         "Normal",
         "1-family Detached",
         "2 story",
         "7",
         "5",
         "2001",
         "2002",
         "Gable",
         "Composite Shingle",
         "Vinyl Siding",
         "Brick Face",
         "162.0",
         "Good",
         "Average",
         "Poured Contrete",
         "Good (90-99\")",
         "Average",
         "Min Exposure",
         "Good Living Quarters",
         "486",
         "434",
         "920",
         "Excellent",
         "Y",
         "Standard Circuit Breakers & Romex",
         "920",
         "866",
         "1786",
         "1",
         "0",
         "2",
         "1",
         "3",
         "1",
         "Good",
         "6",
         "Typical Functionality",
         "1",
         "Average",
         "Attached to home",
         "2001.0",
         "Rough Finished",
         "2",
         "608",
         "Average",
         "Average",
         "Paved ",
         "0",
         "42",
         "0",
         "0",
         "0",
         "0",
         "No Pool",
         "No Fence",
         "Warranty Deed - Conventional",
         "Normal Sale",
         "223500"
        ],
        [
         "3",
         "4",
         "2-STORY 1945 & OLDER",
         "Resid Low Density",
         "60.0",
         "9550",
         null,
         "Slightly irregular",
         "Level",
         "Corner lot",
         "Gentle",
         "Crawford",
         "Normal",
         "1-family Detached",
         "2 story",
         "7",
         "5",
         "1915",
         "1970",
         "Gable",
         "Composite Shingle",
         "Wood Siding",
         null,
         "0.0",
         "Average",
         "Average",
         "Brick & Tile",
         "Typical (80-89\")",
         "Good",
         "No Exposure",
         "Avg Living Quarters",
         "216",
         "540",
         "756",
         "Good",
         "Y",
         "Standard Circuit Breakers & Romex",
         "961",
         "756",
         "1717",
         "1",
         "0",
         "1",
         "0",
         "3",
         "1",
         "Good",
         "7",
         "Typical Functionality",
         "1",
         "Good",
         "Detached from home",
         "1998.0",
         "Unfinished",
         "3",
         "642",
         "Average",
         "Average",
         "Paved ",
         "0",
         "35",
         "272",
         "0",
         "0",
         "0",
         "No Pool",
         "No Fence",
         "Warranty Deed - Conventional",
         "Abnormal Sale -  trade, foreclosure, short sale",
         "140000"
        ],
        [
         "4",
         "5",
         "2-STORY 1946 & NEWER",
         "Resid Low Density",
         "84.0",
         "14260",
         null,
         "Slightly irregular",
         "Level",
         "Frontage on 2 sides",
         "Gentle",
         "Northridge",
         "Normal",
         "1-family Detached",
         "2 story",
         "8",
         "5",
         "2000",
         "2000",
         "Gable",
         "Composite Shingle",
         "Vinyl Siding",
         "Brick Face",
         "350.0",
         "Good",
         "Average",
         "Poured Contrete",
         "Good (90-99\")",
         "Average",
         "Avg Exposure",
         "Good Living Quarters",
         "655",
         "490",
         "1145",
         "Excellent",
         "Y",
         "Standard Circuit Breakers & Romex",
         "1145",
         "1053",
         "2198",
         "1",
         "0",
         "2",
         "1",
         "4",
         "1",
         "Good",
         "9",
         "Typical Functionality",
         "1",
         "Average",
         "Attached to home",
         "2000.0",
         "Rough Finished",
         "3",
         "836",
         "Average",
         "Average",
         "Paved ",
         "192",
         "84",
         "0",
         "0",
         "0",
         "0",
         "No Pool",
         "No Fence",
         "Warranty Deed - Conventional",
         "Normal Sale",
         "250000"
        ]
       ],
       "shape": {
        "columns": 69,
        "rows": 5
       }
      },
      "text/html": [
       "<div>\n",
       "<style scoped>\n",
       "    .dataframe tbody tr th:only-of-type {\n",
       "        vertical-align: middle;\n",
       "    }\n",
       "\n",
       "    .dataframe tbody tr th {\n",
       "        vertical-align: top;\n",
       "    }\n",
       "\n",
       "    .dataframe thead th {\n",
       "        text-align: right;\n",
       "    }\n",
       "</style>\n",
       "<table border=\"1\" class=\"dataframe\">\n",
       "  <thead>\n",
       "    <tr style=\"text-align: right;\">\n",
       "      <th></th>\n",
       "      <th>Id</th>\n",
       "      <th>Type</th>\n",
       "      <th>Zoning Class</th>\n",
       "      <th>Lot Frontage</th>\n",
       "      <th>Lot Area</th>\n",
       "      <th>Alley</th>\n",
       "      <th>Lot Shape</th>\n",
       "      <th>Land Contour</th>\n",
       "      <th>Lot Config</th>\n",
       "      <th>Land Slope</th>\n",
       "      <th>...</th>\n",
       "      <th>Open Porch Area</th>\n",
       "      <th>Enclosed Porch Area</th>\n",
       "      <th>3 Season Porch Area</th>\n",
       "      <th>Screen Porch Area</th>\n",
       "      <th>Pool Area</th>\n",
       "      <th>Pool Qual</th>\n",
       "      <th>Fence</th>\n",
       "      <th>Sale Type</th>\n",
       "      <th>Sale Condition</th>\n",
       "      <th>Sale Price</th>\n",
       "    </tr>\n",
       "  </thead>\n",
       "  <tbody>\n",
       "    <tr>\n",
       "      <th>0</th>\n",
       "      <td>1</td>\n",
       "      <td>2-STORY 1946 &amp; NEWER</td>\n",
       "      <td>Resid Low Density</td>\n",
       "      <td>65.0</td>\n",
       "      <td>8450</td>\n",
       "      <td>NaN</td>\n",
       "      <td>Regular</td>\n",
       "      <td>Level</td>\n",
       "      <td>Inside lot</td>\n",
       "      <td>Gentle</td>\n",
       "      <td>...</td>\n",
       "      <td>61</td>\n",
       "      <td>0</td>\n",
       "      <td>0</td>\n",
       "      <td>0</td>\n",
       "      <td>0</td>\n",
       "      <td>No Pool</td>\n",
       "      <td>No Fence</td>\n",
       "      <td>Warranty Deed - Conventional</td>\n",
       "      <td>Normal Sale</td>\n",
       "      <td>208500</td>\n",
       "    </tr>\n",
       "    <tr>\n",
       "      <th>1</th>\n",
       "      <td>2</td>\n",
       "      <td>1-STORY 1946 &amp; NEWER</td>\n",
       "      <td>Resid Low Density</td>\n",
       "      <td>80.0</td>\n",
       "      <td>9600</td>\n",
       "      <td>NaN</td>\n",
       "      <td>Regular</td>\n",
       "      <td>Level</td>\n",
       "      <td>Frontage on 2 sides</td>\n",
       "      <td>Gentle</td>\n",
       "      <td>...</td>\n",
       "      <td>0</td>\n",
       "      <td>0</td>\n",
       "      <td>0</td>\n",
       "      <td>0</td>\n",
       "      <td>0</td>\n",
       "      <td>No Pool</td>\n",
       "      <td>No Fence</td>\n",
       "      <td>Warranty Deed - Conventional</td>\n",
       "      <td>Normal Sale</td>\n",
       "      <td>181500</td>\n",
       "    </tr>\n",
       "    <tr>\n",
       "      <th>2</th>\n",
       "      <td>3</td>\n",
       "      <td>2-STORY 1946 &amp; NEWER</td>\n",
       "      <td>Resid Low Density</td>\n",
       "      <td>68.0</td>\n",
       "      <td>11250</td>\n",
       "      <td>NaN</td>\n",
       "      <td>Slightly irregular</td>\n",
       "      <td>Level</td>\n",
       "      <td>Inside lot</td>\n",
       "      <td>Gentle</td>\n",
       "      <td>...</td>\n",
       "      <td>42</td>\n",
       "      <td>0</td>\n",
       "      <td>0</td>\n",
       "      <td>0</td>\n",
       "      <td>0</td>\n",
       "      <td>No Pool</td>\n",
       "      <td>No Fence</td>\n",
       "      <td>Warranty Deed - Conventional</td>\n",
       "      <td>Normal Sale</td>\n",
       "      <td>223500</td>\n",
       "    </tr>\n",
       "    <tr>\n",
       "      <th>3</th>\n",
       "      <td>4</td>\n",
       "      <td>2-STORY 1945 &amp; OLDER</td>\n",
       "      <td>Resid Low Density</td>\n",
       "      <td>60.0</td>\n",
       "      <td>9550</td>\n",
       "      <td>NaN</td>\n",
       "      <td>Slightly irregular</td>\n",
       "      <td>Level</td>\n",
       "      <td>Corner lot</td>\n",
       "      <td>Gentle</td>\n",
       "      <td>...</td>\n",
       "      <td>35</td>\n",
       "      <td>272</td>\n",
       "      <td>0</td>\n",
       "      <td>0</td>\n",
       "      <td>0</td>\n",
       "      <td>No Pool</td>\n",
       "      <td>No Fence</td>\n",
       "      <td>Warranty Deed - Conventional</td>\n",
       "      <td>Abnormal Sale -  trade, foreclosure, short sale</td>\n",
       "      <td>140000</td>\n",
       "    </tr>\n",
       "    <tr>\n",
       "      <th>4</th>\n",
       "      <td>5</td>\n",
       "      <td>2-STORY 1946 &amp; NEWER</td>\n",
       "      <td>Resid Low Density</td>\n",
       "      <td>84.0</td>\n",
       "      <td>14260</td>\n",
       "      <td>NaN</td>\n",
       "      <td>Slightly irregular</td>\n",
       "      <td>Level</td>\n",
       "      <td>Frontage on 2 sides</td>\n",
       "      <td>Gentle</td>\n",
       "      <td>...</td>\n",
       "      <td>84</td>\n",
       "      <td>0</td>\n",
       "      <td>0</td>\n",
       "      <td>0</td>\n",
       "      <td>0</td>\n",
       "      <td>No Pool</td>\n",
       "      <td>No Fence</td>\n",
       "      <td>Warranty Deed - Conventional</td>\n",
       "      <td>Normal Sale</td>\n",
       "      <td>250000</td>\n",
       "    </tr>\n",
       "  </tbody>\n",
       "</table>\n",
       "<p>5 rows × 69 columns</p>\n",
       "</div>"
      ],
      "text/plain": [
       "   Id                  Type       Zoning Class  Lot Frontage  Lot Area Alley  \\\n",
       "0   1  2-STORY 1946 & NEWER  Resid Low Density          65.0      8450   NaN   \n",
       "1   2  1-STORY 1946 & NEWER  Resid Low Density          80.0      9600   NaN   \n",
       "2   3  2-STORY 1946 & NEWER  Resid Low Density          68.0     11250   NaN   \n",
       "3   4  2-STORY 1945 & OLDER  Resid Low Density          60.0      9550   NaN   \n",
       "4   5  2-STORY 1946 & NEWER  Resid Low Density          84.0     14260   NaN   \n",
       "\n",
       "            Lot Shape Land Contour           Lot Config Land Slope  ...  \\\n",
       "0             Regular        Level           Inside lot     Gentle  ...   \n",
       "1             Regular        Level  Frontage on 2 sides     Gentle  ...   \n",
       "2  Slightly irregular        Level           Inside lot     Gentle  ...   \n",
       "3  Slightly irregular        Level           Corner lot     Gentle  ...   \n",
       "4  Slightly irregular        Level  Frontage on 2 sides     Gentle  ...   \n",
       "\n",
       "  Open Porch Area Enclosed Porch Area 3 Season Porch Area Screen Porch Area  \\\n",
       "0              61                   0                   0                 0   \n",
       "1               0                   0                   0                 0   \n",
       "2              42                   0                   0                 0   \n",
       "3              35                 272                   0                 0   \n",
       "4              84                   0                   0                 0   \n",
       "\n",
       "   Pool Area  Pool Qual     Fence                     Sale Type  \\\n",
       "0          0    No Pool  No Fence  Warranty Deed - Conventional   \n",
       "1          0    No Pool  No Fence  Warranty Deed - Conventional   \n",
       "2          0    No Pool  No Fence  Warranty Deed - Conventional   \n",
       "3          0    No Pool  No Fence  Warranty Deed - Conventional   \n",
       "4          0    No Pool  No Fence  Warranty Deed - Conventional   \n",
       "\n",
       "                                    Sale Condition Sale Price  \n",
       "0                                      Normal Sale     208500  \n",
       "1                                      Normal Sale     181500  \n",
       "2                                      Normal Sale     223500  \n",
       "3  Abnormal Sale -  trade, foreclosure, short sale     140000  \n",
       "4                                      Normal Sale     250000  \n",
       "\n",
       "[5 rows x 69 columns]"
      ]
     },
     "execution_count": 6,
     "metadata": {},
     "output_type": "execute_result"
    }
   ],
   "source": [
    "df_realestate.head()"
   ]
  },
  {
   "cell_type": "markdown",
   "id": "732cf8d5",
   "metadata": {},
   "source": [
    "- view a sample of records of df_realestate"
   ]
  },
  {
   "cell_type": "code",
   "execution_count": 7,
   "id": "5fe319f3",
   "metadata": {},
   "outputs": [
    {
     "data": {
      "application/vnd.microsoft.datawrangler.viewer.v0+json": {
       "columns": [
        {
         "name": "index",
         "rawType": "int64",
         "type": "integer"
        },
        {
         "name": "Id",
         "rawType": "int64",
         "type": "integer"
        },
        {
         "name": "Type",
         "rawType": "object",
         "type": "string"
        },
        {
         "name": "Zoning Class",
         "rawType": "object",
         "type": "string"
        },
        {
         "name": "Lot Frontage",
         "rawType": "float64",
         "type": "float"
        },
        {
         "name": "Lot Area",
         "rawType": "int64",
         "type": "integer"
        },
        {
         "name": "Alley",
         "rawType": "object",
         "type": "unknown"
        },
        {
         "name": "Lot Shape",
         "rawType": "object",
         "type": "string"
        },
        {
         "name": "Land Contour",
         "rawType": "object",
         "type": "string"
        },
        {
         "name": "Lot Config",
         "rawType": "object",
         "type": "string"
        },
        {
         "name": "Land Slope",
         "rawType": "object",
         "type": "string"
        },
        {
         "name": "Nbhd",
         "rawType": "object",
         "type": "string"
        },
        {
         "name": "Location Condition",
         "rawType": "object",
         "type": "string"
        },
        {
         "name": "Bldg Type",
         "rawType": "object",
         "type": "string"
        },
        {
         "name": "House Style",
         "rawType": "object",
         "type": "string"
        },
        {
         "name": "OvQual",
         "rawType": "int64",
         "type": "integer"
        },
        {
         "name": "Overall Cond",
         "rawType": "int64",
         "type": "integer"
        },
        {
         "name": "Built",
         "rawType": "int64",
         "type": "integer"
        },
        {
         "name": "Year Remod Add",
         "rawType": "int64",
         "type": "integer"
        },
        {
         "name": "Roof Style",
         "rawType": "object",
         "type": "string"
        },
        {
         "name": "Roof Material",
         "rawType": "object",
         "type": "string"
        },
        {
         "name": "Exterior Primary",
         "rawType": "object",
         "type": "string"
        },
        {
         "name": "Masonry/Veneer",
         "rawType": "object",
         "type": "unknown"
        },
        {
         "name": "Masonry/Veneer Area",
         "rawType": "float64",
         "type": "float"
        },
        {
         "name": "Exterior Qual",
         "rawType": "object",
         "type": "string"
        },
        {
         "name": "Exterior Cond",
         "rawType": "object",
         "type": "string"
        },
        {
         "name": "Foundation",
         "rawType": "object",
         "type": "string"
        },
        {
         "name": "Basement Height",
         "rawType": "object",
         "type": "string"
        },
        {
         "name": "Basement Cond",
         "rawType": "object",
         "type": "string"
        },
        {
         "name": "Basement Exposure",
         "rawType": "object",
         "type": "string"
        },
        {
         "name": "Basement Finish",
         "rawType": "object",
         "type": "string"
        },
        {
         "name": "Basement Finished Area",
         "rawType": "int64",
         "type": "integer"
        },
        {
         "name": "Basement Unfinished Area",
         "rawType": "int64",
         "type": "integer"
        },
        {
         "name": "Basement Area",
         "rawType": "int64",
         "type": "integer"
        },
        {
         "name": "Heating Qual",
         "rawType": "object",
         "type": "string"
        },
        {
         "name": "CentralAir",
         "rawType": "object",
         "type": "string"
        },
        {
         "name": "Electrical",
         "rawType": "object",
         "type": "string"
        },
        {
         "name": "1st Floor Area",
         "rawType": "int64",
         "type": "integer"
        },
        {
         "name": "2nd Floor Area",
         "rawType": "int64",
         "type": "integer"
        },
        {
         "name": "Living Area Above Grade",
         "rawType": "int64",
         "type": "integer"
        },
        {
         "name": "Basement Full Baths",
         "rawType": "int64",
         "type": "integer"
        },
        {
         "name": "Basement Half baths",
         "rawType": "int64",
         "type": "integer"
        },
        {
         "name": "Full Baths Above Grade",
         "rawType": "int64",
         "type": "integer"
        },
        {
         "name": "Half Baths Above Grade",
         "rawType": "int64",
         "type": "integer"
        },
        {
         "name": "Bedrooms Above Grade",
         "rawType": "int64",
         "type": "integer"
        },
        {
         "name": "Kitchens Above Grade",
         "rawType": "int64",
         "type": "integer"
        },
        {
         "name": "Kitchen Qual",
         "rawType": "object",
         "type": "string"
        },
        {
         "name": "Total Rooms Above Grade",
         "rawType": "int64",
         "type": "integer"
        },
        {
         "name": "Functionality",
         "rawType": "object",
         "type": "string"
        },
        {
         "name": "Fireplaces",
         "rawType": "int64",
         "type": "integer"
        },
        {
         "name": "Fireplce Qual",
         "rawType": "object",
         "type": "string"
        },
        {
         "name": "Garage Type",
         "rawType": "object",
         "type": "string"
        },
        {
         "name": "Garage Yr Built",
         "rawType": "float64",
         "type": "float"
        },
        {
         "name": "Garage Finish",
         "rawType": "object",
         "type": "string"
        },
        {
         "name": "Garage Cars",
         "rawType": "int64",
         "type": "integer"
        },
        {
         "name": "Garage Area",
         "rawType": "int64",
         "type": "integer"
        },
        {
         "name": "Garage Qual",
         "rawType": "object",
         "type": "string"
        },
        {
         "name": "Garage Cond",
         "rawType": "object",
         "type": "string"
        },
        {
         "name": "Paved Drive",
         "rawType": "object",
         "type": "string"
        },
        {
         "name": "Wood Deck Area",
         "rawType": "int64",
         "type": "integer"
        },
        {
         "name": "Open Porch Area",
         "rawType": "int64",
         "type": "integer"
        },
        {
         "name": "Enclosed Porch Area",
         "rawType": "int64",
         "type": "integer"
        },
        {
         "name": "3 Season Porch Area",
         "rawType": "int64",
         "type": "integer"
        },
        {
         "name": "Screen Porch Area",
         "rawType": "int64",
         "type": "integer"
        },
        {
         "name": "Pool Area",
         "rawType": "int64",
         "type": "integer"
        },
        {
         "name": "Pool Qual",
         "rawType": "object",
         "type": "string"
        },
        {
         "name": "Fence",
         "rawType": "object",
         "type": "string"
        },
        {
         "name": "Sale Type",
         "rawType": "object",
         "type": "string"
        },
        {
         "name": "Sale Condition",
         "rawType": "object",
         "type": "string"
        },
        {
         "name": "Sale Price",
         "rawType": "int64",
         "type": "integer"
        }
       ],
       "conversionMethod": "pd.DataFrame",
       "ref": "46eb68b2-5913-46e4-9dd5-027258e6cbc8",
       "rows": [
        [
         "457",
         "478",
         "2-STORY 1946 & NEWER",
         "Resid Low Density",
         "105.0",
         "13693",
         null,
         "Regular",
         "Level",
         "Inside lot",
         "Gentle",
         "Northridge Heights",
         "Normal",
         "1-family Detached",
         "2 story",
         "9",
         "5",
         "2006",
         "2006",
         "Hip",
         "Composite Shingle",
         "Vinyl Siding",
         "Brick Face",
         "772.0",
         "Excellent",
         "Average",
         "Poured Contrete",
         "Good (90-99\")",
         "Average",
         "Avg Exposure",
         "Unfinshed",
         "0",
         "2153",
         "2153",
         "Excellent",
         "Y",
         "Standard Circuit Breakers & Romex",
         "2069",
         "574",
         "2643",
         "0",
         "0",
         "2",
         "1",
         "3",
         "1",
         "Excellent",
         "9",
         "Typical Functionality",
         "1",
         "Good",
         "Built-In (Garage with Room)",
         "2006.0",
         "Finished",
         "3",
         "694",
         "Average",
         "Average",
         "Paved ",
         "414",
         "84",
         "0",
         "0",
         "0",
         "0",
         "No Pool",
         "No Fence",
         "Warranty Deed - Conventional",
         "Normal Sale",
         "380000"
        ],
        [
         "784",
         "817",
         "1-STORY 1946 & NEWER",
         "Resid Low Density",
         null,
         "11425",
         null,
         "Slightly irregular",
         "Level",
         "Corner lot",
         "Gentle",
         "North Ames",
         "Normal",
         "1-family Detached",
         "1 story",
         "5",
         "6",
         "1954",
         "1954",
         "Gable",
         "Composite Shingle",
         "Brick Face",
         null,
         "0.0",
         "Average",
         "Average",
         "Cinder Block",
         "Typical (80-89\")",
         "Average",
         "No Exposure",
         "Below Avg Living Quarters",
         "486",
         "522",
         "1008",
         "Good",
         "Y",
         "Standard Circuit Breakers & Romex",
         "1008",
         "0",
         "1008",
         "0",
         "0",
         "1",
         "0",
         "2",
         "1",
         "Average",
         "4",
         "Typical Functionality",
         "1",
         "Good",
         "Attached to home",
         "1954.0",
         "Rough Finished",
         "1",
         "275",
         "Average",
         "Average",
         "Paved ",
         "0",
         "0",
         "120",
         "0",
         "0",
         "0",
         "No Pool",
         "No Fence",
         "Warranty Deed - Conventional",
         "Normal Sale",
         "137000"
        ],
        [
         "1224",
         "1272",
         "1-STORY 1946 & NEWER",
         "Resid Low Density",
         null,
         "9156",
         null,
         "Slightly irregular",
         "Level",
         "Inside lot",
         "Gentle",
         "Northwest Ames",
         "Near Pos Feature",
         "1-family Detached",
         "1 story",
         "6",
         "7",
         "1968",
         "1968",
         "Hip",
         "Composite Shingle",
         "Brick Face",
         null,
         "0.0",
         "Average",
         "Average",
         "Cinder Block",
         "Typical (80-89\")",
         "Average",
         "No Exposure",
         "Unfinshed",
         "0",
         "1489",
         "1489",
         "Good",
         "Y",
         "Standard Circuit Breakers & Romex",
         "1489",
         "0",
         "1489",
         "0",
         "0",
         "2",
         "0",
         "3",
         "1",
         "Good",
         "7",
         "Typical Functionality",
         "1",
         "Good",
         "Attached to home",
         "1968.0",
         "Rough Finished",
         "2",
         "462",
         "Average",
         "Average",
         "Paved ",
         "0",
         "0",
         "0",
         "0",
         "0",
         "0",
         "No Pool",
         "No Fence",
         "Warranty Deed - Conventional",
         "Normal Sale",
         "185750"
        ],
        [
         "585",
         "610",
         "1-STORY 1946 & NEWER",
         "Resid Low Density",
         "61.0",
         "7943",
         null,
         "Regular",
         "Level",
         "Inside lot",
         "Gentle",
         "Sawyer",
         "Adjacent Feeder St",
         "1-family Detached",
         "1 story",
         "4",
         "5",
         "1961",
         "1961",
         "Gable",
         "Composite Shingle",
         "Vinyl Siding",
         "Brick Common",
         "192.0",
         "Average",
         "Fair",
         "Cinder Block",
         "Typical (80-89\")",
         "Average",
         "Min Exposure",
         "Avg Rec Room",
         "903",
         "126",
         "1029",
         "Good",
         "Y",
         "Standard Circuit Breakers & Romex",
         "1029",
         "0",
         "1029",
         "1",
         "0",
         "1",
         "0",
         "3",
         "1",
         "Average",
         "5",
         "Typical Functionality",
         "0",
         "No Fireplace",
         "Attached to home",
         "1961.0",
         "Unfinished",
         "1",
         "261",
         "Average",
         "Average",
         "Paved ",
         "64",
         "0",
         "39",
         "0",
         "0",
         "0",
         "No Pool",
         "No Fence",
         "Warranty Deed - Conventional",
         "Normal Sale",
         "118500"
        ],
        [
         "560",
         "584",
         "2-1/2 STORY ALL AGES",
         "Resid Med Density",
         "75.0",
         "13500",
         null,
         "Regular",
         "Level",
         "Inside lot",
         "Gentle",
         "Old Town",
         "Adjacent Arterial St",
         "1-family Detached",
         "2.5 story: 3rd level unfin",
         "10",
         "9",
         "1893",
         "2000",
         "Gable",
         "Composite Shingle",
         "Wood Siding",
         null,
         "0.0",
         "Excellent",
         "Excellent",
         "Brick & Tile",
         "Typical (80-89\")",
         "Average",
         "No Exposure",
         "Unfinshed",
         "0",
         "1237",
         "1237",
         "Good",
         "Y",
         "Standard Circuit Breakers & Romex",
         "1521",
         "1254",
         "2775",
         "0",
         "0",
         "3",
         "1",
         "3",
         "1",
         "Good",
         "9",
         "Typical Functionality",
         "1",
         "Good",
         "Detached from home",
         "1988.0",
         "Unfinished",
         "2",
         "880",
         "Good",
         "Average",
         "Paved ",
         "105",
         "502",
         "0",
         "0",
         "0",
         "0",
         "No Pool",
         "No Fence",
         "Warranty Deed - Conventional",
         "Normal Sale",
         "325000"
        ]
       ],
       "shape": {
        "columns": 69,
        "rows": 5
       }
      },
      "text/html": [
       "<div>\n",
       "<style scoped>\n",
       "    .dataframe tbody tr th:only-of-type {\n",
       "        vertical-align: middle;\n",
       "    }\n",
       "\n",
       "    .dataframe tbody tr th {\n",
       "        vertical-align: top;\n",
       "    }\n",
       "\n",
       "    .dataframe thead th {\n",
       "        text-align: right;\n",
       "    }\n",
       "</style>\n",
       "<table border=\"1\" class=\"dataframe\">\n",
       "  <thead>\n",
       "    <tr style=\"text-align: right;\">\n",
       "      <th></th>\n",
       "      <th>Id</th>\n",
       "      <th>Type</th>\n",
       "      <th>Zoning Class</th>\n",
       "      <th>Lot Frontage</th>\n",
       "      <th>Lot Area</th>\n",
       "      <th>Alley</th>\n",
       "      <th>Lot Shape</th>\n",
       "      <th>Land Contour</th>\n",
       "      <th>Lot Config</th>\n",
       "      <th>Land Slope</th>\n",
       "      <th>...</th>\n",
       "      <th>Open Porch Area</th>\n",
       "      <th>Enclosed Porch Area</th>\n",
       "      <th>3 Season Porch Area</th>\n",
       "      <th>Screen Porch Area</th>\n",
       "      <th>Pool Area</th>\n",
       "      <th>Pool Qual</th>\n",
       "      <th>Fence</th>\n",
       "      <th>Sale Type</th>\n",
       "      <th>Sale Condition</th>\n",
       "      <th>Sale Price</th>\n",
       "    </tr>\n",
       "  </thead>\n",
       "  <tbody>\n",
       "    <tr>\n",
       "      <th>457</th>\n",
       "      <td>478</td>\n",
       "      <td>2-STORY 1946 &amp; NEWER</td>\n",
       "      <td>Resid Low Density</td>\n",
       "      <td>105.0</td>\n",
       "      <td>13693</td>\n",
       "      <td>NaN</td>\n",
       "      <td>Regular</td>\n",
       "      <td>Level</td>\n",
       "      <td>Inside lot</td>\n",
       "      <td>Gentle</td>\n",
       "      <td>...</td>\n",
       "      <td>84</td>\n",
       "      <td>0</td>\n",
       "      <td>0</td>\n",
       "      <td>0</td>\n",
       "      <td>0</td>\n",
       "      <td>No Pool</td>\n",
       "      <td>No Fence</td>\n",
       "      <td>Warranty Deed - Conventional</td>\n",
       "      <td>Normal Sale</td>\n",
       "      <td>380000</td>\n",
       "    </tr>\n",
       "    <tr>\n",
       "      <th>784</th>\n",
       "      <td>817</td>\n",
       "      <td>1-STORY 1946 &amp; NEWER</td>\n",
       "      <td>Resid Low Density</td>\n",
       "      <td>NaN</td>\n",
       "      <td>11425</td>\n",
       "      <td>NaN</td>\n",
       "      <td>Slightly irregular</td>\n",
       "      <td>Level</td>\n",
       "      <td>Corner lot</td>\n",
       "      <td>Gentle</td>\n",
       "      <td>...</td>\n",
       "      <td>0</td>\n",
       "      <td>120</td>\n",
       "      <td>0</td>\n",
       "      <td>0</td>\n",
       "      <td>0</td>\n",
       "      <td>No Pool</td>\n",
       "      <td>No Fence</td>\n",
       "      <td>Warranty Deed - Conventional</td>\n",
       "      <td>Normal Sale</td>\n",
       "      <td>137000</td>\n",
       "    </tr>\n",
       "    <tr>\n",
       "      <th>1224</th>\n",
       "      <td>1272</td>\n",
       "      <td>1-STORY 1946 &amp; NEWER</td>\n",
       "      <td>Resid Low Density</td>\n",
       "      <td>NaN</td>\n",
       "      <td>9156</td>\n",
       "      <td>NaN</td>\n",
       "      <td>Slightly irregular</td>\n",
       "      <td>Level</td>\n",
       "      <td>Inside lot</td>\n",
       "      <td>Gentle</td>\n",
       "      <td>...</td>\n",
       "      <td>0</td>\n",
       "      <td>0</td>\n",
       "      <td>0</td>\n",
       "      <td>0</td>\n",
       "      <td>0</td>\n",
       "      <td>No Pool</td>\n",
       "      <td>No Fence</td>\n",
       "      <td>Warranty Deed - Conventional</td>\n",
       "      <td>Normal Sale</td>\n",
       "      <td>185750</td>\n",
       "    </tr>\n",
       "    <tr>\n",
       "      <th>585</th>\n",
       "      <td>610</td>\n",
       "      <td>1-STORY 1946 &amp; NEWER</td>\n",
       "      <td>Resid Low Density</td>\n",
       "      <td>61.0</td>\n",
       "      <td>7943</td>\n",
       "      <td>NaN</td>\n",
       "      <td>Regular</td>\n",
       "      <td>Level</td>\n",
       "      <td>Inside lot</td>\n",
       "      <td>Gentle</td>\n",
       "      <td>...</td>\n",
       "      <td>0</td>\n",
       "      <td>39</td>\n",
       "      <td>0</td>\n",
       "      <td>0</td>\n",
       "      <td>0</td>\n",
       "      <td>No Pool</td>\n",
       "      <td>No Fence</td>\n",
       "      <td>Warranty Deed - Conventional</td>\n",
       "      <td>Normal Sale</td>\n",
       "      <td>118500</td>\n",
       "    </tr>\n",
       "    <tr>\n",
       "      <th>560</th>\n",
       "      <td>584</td>\n",
       "      <td>2-1/2 STORY ALL AGES</td>\n",
       "      <td>Resid Med Density</td>\n",
       "      <td>75.0</td>\n",
       "      <td>13500</td>\n",
       "      <td>NaN</td>\n",
       "      <td>Regular</td>\n",
       "      <td>Level</td>\n",
       "      <td>Inside lot</td>\n",
       "      <td>Gentle</td>\n",
       "      <td>...</td>\n",
       "      <td>502</td>\n",
       "      <td>0</td>\n",
       "      <td>0</td>\n",
       "      <td>0</td>\n",
       "      <td>0</td>\n",
       "      <td>No Pool</td>\n",
       "      <td>No Fence</td>\n",
       "      <td>Warranty Deed - Conventional</td>\n",
       "      <td>Normal Sale</td>\n",
       "      <td>325000</td>\n",
       "    </tr>\n",
       "  </tbody>\n",
       "</table>\n",
       "<p>5 rows × 69 columns</p>\n",
       "</div>"
      ],
      "text/plain": [
       "        Id                  Type       Zoning Class  Lot Frontage  Lot Area  \\\n",
       "457    478  2-STORY 1946 & NEWER  Resid Low Density         105.0     13693   \n",
       "784    817  1-STORY 1946 & NEWER  Resid Low Density           NaN     11425   \n",
       "1224  1272  1-STORY 1946 & NEWER  Resid Low Density           NaN      9156   \n",
       "585    610  1-STORY 1946 & NEWER  Resid Low Density          61.0      7943   \n",
       "560    584  2-1/2 STORY ALL AGES  Resid Med Density          75.0     13500   \n",
       "\n",
       "     Alley           Lot Shape Land Contour  Lot Config Land Slope  ...  \\\n",
       "457    NaN             Regular        Level  Inside lot     Gentle  ...   \n",
       "784    NaN  Slightly irregular        Level  Corner lot     Gentle  ...   \n",
       "1224   NaN  Slightly irregular        Level  Inside lot     Gentle  ...   \n",
       "585    NaN             Regular        Level  Inside lot     Gentle  ...   \n",
       "560    NaN             Regular        Level  Inside lot     Gentle  ...   \n",
       "\n",
       "     Open Porch Area Enclosed Porch Area 3 Season Porch Area  \\\n",
       "457               84                   0                   0   \n",
       "784                0                 120                   0   \n",
       "1224               0                   0                   0   \n",
       "585                0                  39                   0   \n",
       "560              502                   0                   0   \n",
       "\n",
       "     Screen Porch Area  Pool Area  Pool Qual     Fence  \\\n",
       "457                  0          0    No Pool  No Fence   \n",
       "784                  0          0    No Pool  No Fence   \n",
       "1224                 0          0    No Pool  No Fence   \n",
       "585                  0          0    No Pool  No Fence   \n",
       "560                  0          0    No Pool  No Fence   \n",
       "\n",
       "                         Sale Type Sale Condition Sale Price  \n",
       "457   Warranty Deed - Conventional    Normal Sale     380000  \n",
       "784   Warranty Deed - Conventional    Normal Sale     137000  \n",
       "1224  Warranty Deed - Conventional    Normal Sale     185750  \n",
       "585   Warranty Deed - Conventional    Normal Sale     118500  \n",
       "560   Warranty Deed - Conventional    Normal Sale     325000  \n",
       "\n",
       "[5 rows x 69 columns]"
      ]
     },
     "execution_count": 7,
     "metadata": {},
     "output_type": "execute_result"
    }
   ],
   "source": [
    "df_realestate.sample(5) # Unlike head(), sample() will return random rows from the dataframe"
   ]
  },
  {
   "cell_type": "code",
   "execution_count": null,
   "id": "f2eaeeb4",
   "metadata": {},
   "outputs": [],
   "source": [
    "- view the bottom 2 rows of df_realestate"
   ]
  },
  {
   "cell_type": "code",
   "execution_count": 8,
   "id": "a900eaf6",
   "metadata": {},
   "outputs": [
    {
     "data": {
      "application/vnd.microsoft.datawrangler.viewer.v0+json": {
       "columns": [
        {
         "name": "index",
         "rawType": "int64",
         "type": "integer"
        },
        {
         "name": "Id",
         "rawType": "int64",
         "type": "integer"
        },
        {
         "name": "Type",
         "rawType": "object",
         "type": "string"
        },
        {
         "name": "Zoning Class",
         "rawType": "object",
         "type": "string"
        },
        {
         "name": "Lot Frontage",
         "rawType": "float64",
         "type": "float"
        },
        {
         "name": "Lot Area",
         "rawType": "int64",
         "type": "integer"
        },
        {
         "name": "Alley",
         "rawType": "object",
         "type": "unknown"
        },
        {
         "name": "Lot Shape",
         "rawType": "object",
         "type": "string"
        },
        {
         "name": "Land Contour",
         "rawType": "object",
         "type": "string"
        },
        {
         "name": "Lot Config",
         "rawType": "object",
         "type": "string"
        },
        {
         "name": "Land Slope",
         "rawType": "object",
         "type": "string"
        },
        {
         "name": "Nbhd",
         "rawType": "object",
         "type": "string"
        },
        {
         "name": "Location Condition",
         "rawType": "object",
         "type": "string"
        },
        {
         "name": "Bldg Type",
         "rawType": "object",
         "type": "string"
        },
        {
         "name": "House Style",
         "rawType": "object",
         "type": "string"
        },
        {
         "name": "OvQual",
         "rawType": "int64",
         "type": "integer"
        },
        {
         "name": "Overall Cond",
         "rawType": "int64",
         "type": "integer"
        },
        {
         "name": "Built",
         "rawType": "int64",
         "type": "integer"
        },
        {
         "name": "Year Remod Add",
         "rawType": "int64",
         "type": "integer"
        },
        {
         "name": "Roof Style",
         "rawType": "object",
         "type": "string"
        },
        {
         "name": "Roof Material",
         "rawType": "object",
         "type": "string"
        },
        {
         "name": "Exterior Primary",
         "rawType": "object",
         "type": "string"
        },
        {
         "name": "Masonry/Veneer",
         "rawType": "object",
         "type": "unknown"
        },
        {
         "name": "Masonry/Veneer Area",
         "rawType": "float64",
         "type": "float"
        },
        {
         "name": "Exterior Qual",
         "rawType": "object",
         "type": "string"
        },
        {
         "name": "Exterior Cond",
         "rawType": "object",
         "type": "string"
        },
        {
         "name": "Foundation",
         "rawType": "object",
         "type": "string"
        },
        {
         "name": "Basement Height",
         "rawType": "object",
         "type": "string"
        },
        {
         "name": "Basement Cond",
         "rawType": "object",
         "type": "string"
        },
        {
         "name": "Basement Exposure",
         "rawType": "object",
         "type": "string"
        },
        {
         "name": "Basement Finish",
         "rawType": "object",
         "type": "string"
        },
        {
         "name": "Basement Finished Area",
         "rawType": "int64",
         "type": "integer"
        },
        {
         "name": "Basement Unfinished Area",
         "rawType": "int64",
         "type": "integer"
        },
        {
         "name": "Basement Area",
         "rawType": "int64",
         "type": "integer"
        },
        {
         "name": "Heating Qual",
         "rawType": "object",
         "type": "string"
        },
        {
         "name": "CentralAir",
         "rawType": "object",
         "type": "string"
        },
        {
         "name": "Electrical",
         "rawType": "object",
         "type": "string"
        },
        {
         "name": "1st Floor Area",
         "rawType": "int64",
         "type": "integer"
        },
        {
         "name": "2nd Floor Area",
         "rawType": "int64",
         "type": "integer"
        },
        {
         "name": "Living Area Above Grade",
         "rawType": "int64",
         "type": "integer"
        },
        {
         "name": "Basement Full Baths",
         "rawType": "int64",
         "type": "integer"
        },
        {
         "name": "Basement Half baths",
         "rawType": "int64",
         "type": "integer"
        },
        {
         "name": "Full Baths Above Grade",
         "rawType": "int64",
         "type": "integer"
        },
        {
         "name": "Half Baths Above Grade",
         "rawType": "int64",
         "type": "integer"
        },
        {
         "name": "Bedrooms Above Grade",
         "rawType": "int64",
         "type": "integer"
        },
        {
         "name": "Kitchens Above Grade",
         "rawType": "int64",
         "type": "integer"
        },
        {
         "name": "Kitchen Qual",
         "rawType": "object",
         "type": "string"
        },
        {
         "name": "Total Rooms Above Grade",
         "rawType": "int64",
         "type": "integer"
        },
        {
         "name": "Functionality",
         "rawType": "object",
         "type": "string"
        },
        {
         "name": "Fireplaces",
         "rawType": "int64",
         "type": "integer"
        },
        {
         "name": "Fireplce Qual",
         "rawType": "object",
         "type": "string"
        },
        {
         "name": "Garage Type",
         "rawType": "object",
         "type": "string"
        },
        {
         "name": "Garage Yr Built",
         "rawType": "float64",
         "type": "float"
        },
        {
         "name": "Garage Finish",
         "rawType": "object",
         "type": "string"
        },
        {
         "name": "Garage Cars",
         "rawType": "int64",
         "type": "integer"
        },
        {
         "name": "Garage Area",
         "rawType": "int64",
         "type": "integer"
        },
        {
         "name": "Garage Qual",
         "rawType": "object",
         "type": "string"
        },
        {
         "name": "Garage Cond",
         "rawType": "object",
         "type": "string"
        },
        {
         "name": "Paved Drive",
         "rawType": "object",
         "type": "string"
        },
        {
         "name": "Wood Deck Area",
         "rawType": "int64",
         "type": "integer"
        },
        {
         "name": "Open Porch Area",
         "rawType": "int64",
         "type": "integer"
        },
        {
         "name": "Enclosed Porch Area",
         "rawType": "int64",
         "type": "integer"
        },
        {
         "name": "3 Season Porch Area",
         "rawType": "int64",
         "type": "integer"
        },
        {
         "name": "Screen Porch Area",
         "rawType": "int64",
         "type": "integer"
        },
        {
         "name": "Pool Area",
         "rawType": "int64",
         "type": "integer"
        },
        {
         "name": "Pool Qual",
         "rawType": "object",
         "type": "string"
        },
        {
         "name": "Fence",
         "rawType": "object",
         "type": "string"
        },
        {
         "name": "Sale Type",
         "rawType": "object",
         "type": "string"
        },
        {
         "name": "Sale Condition",
         "rawType": "object",
         "type": "string"
        },
        {
         "name": "Sale Price",
         "rawType": "int64",
         "type": "integer"
        }
       ],
       "conversionMethod": "pd.DataFrame",
       "ref": "aded2374-713b-495a-bc52-08f16c95668d",
       "rows": [
        [
         "1402",
         "1459",
         "1-STORY 1946 & NEWER",
         "Resid Low Density",
         "68.0",
         "9717",
         null,
         "Regular",
         "Level",
         "Inside lot",
         "Gentle",
         "North Ames",
         "Normal",
         "1-family Detached",
         "1 story",
         "5",
         "6",
         "1950",
         "1996",
         "Hip",
         "Composite Shingle",
         "Metal Siding",
         null,
         "0.0",
         "Average",
         "Average",
         "Cinder Block",
         "Typical (80-89\")",
         "Average",
         "Min Exposure",
         "Good Living Quarters",
         "49",
         "0",
         "1078",
         "Good",
         "Y",
         "Fuse Box over 60 AMP and all Romex wiring (Average)",
         "1078",
         "0",
         "1078",
         "1",
         "0",
         "1",
         "0",
         "2",
         "1",
         "Good",
         "5",
         "Typical Functionality",
         "0",
         "No Fireplace",
         "Attached to home",
         "1950.0",
         "Unfinished",
         "1",
         "240",
         "Average",
         "Average",
         "Paved ",
         "366",
         "0",
         "112",
         "0",
         "0",
         "0",
         "No Pool",
         "No Fence",
         "Warranty Deed - Conventional",
         "Normal Sale",
         "142125"
        ],
        [
         "1403",
         "1460",
         "1-STORY 1946 & NEWER",
         "Resid Low Density",
         "75.0",
         "9937",
         null,
         "Regular",
         "Level",
         "Inside lot",
         "Gentle",
         "Edwards",
         "Normal",
         "1-family Detached",
         "1 story",
         "5",
         "6",
         "1965",
         "1965",
         "Gable",
         "Composite Shingle",
         "Hard Board",
         null,
         "0.0",
         "Good",
         "Average",
         "Cinder Block",
         "Typical (80-89\")",
         "Average",
         "No Exposure",
         "Below Avg Living Quarters",
         "830",
         "136",
         "1256",
         "Good",
         "Y",
         "Standard Circuit Breakers & Romex",
         "1256",
         "0",
         "1256",
         "1",
         "0",
         "1",
         "1",
         "3",
         "1",
         "Average",
         "6",
         "Typical Functionality",
         "0",
         "No Fireplace",
         "Attached to home",
         "1965.0",
         "Finished",
         "1",
         "276",
         "Average",
         "Average",
         "Paved ",
         "736",
         "68",
         "0",
         "0",
         "0",
         "0",
         "No Pool",
         "No Fence",
         "Warranty Deed - Conventional",
         "Normal Sale",
         "147500"
        ]
       ],
       "shape": {
        "columns": 69,
        "rows": 2
       }
      },
      "text/html": [
       "<div>\n",
       "<style scoped>\n",
       "    .dataframe tbody tr th:only-of-type {\n",
       "        vertical-align: middle;\n",
       "    }\n",
       "\n",
       "    .dataframe tbody tr th {\n",
       "        vertical-align: top;\n",
       "    }\n",
       "\n",
       "    .dataframe thead th {\n",
       "        text-align: right;\n",
       "    }\n",
       "</style>\n",
       "<table border=\"1\" class=\"dataframe\">\n",
       "  <thead>\n",
       "    <tr style=\"text-align: right;\">\n",
       "      <th></th>\n",
       "      <th>Id</th>\n",
       "      <th>Type</th>\n",
       "      <th>Zoning Class</th>\n",
       "      <th>Lot Frontage</th>\n",
       "      <th>Lot Area</th>\n",
       "      <th>Alley</th>\n",
       "      <th>Lot Shape</th>\n",
       "      <th>Land Contour</th>\n",
       "      <th>Lot Config</th>\n",
       "      <th>Land Slope</th>\n",
       "      <th>...</th>\n",
       "      <th>Open Porch Area</th>\n",
       "      <th>Enclosed Porch Area</th>\n",
       "      <th>3 Season Porch Area</th>\n",
       "      <th>Screen Porch Area</th>\n",
       "      <th>Pool Area</th>\n",
       "      <th>Pool Qual</th>\n",
       "      <th>Fence</th>\n",
       "      <th>Sale Type</th>\n",
       "      <th>Sale Condition</th>\n",
       "      <th>Sale Price</th>\n",
       "    </tr>\n",
       "  </thead>\n",
       "  <tbody>\n",
       "    <tr>\n",
       "      <th>1402</th>\n",
       "      <td>1459</td>\n",
       "      <td>1-STORY 1946 &amp; NEWER</td>\n",
       "      <td>Resid Low Density</td>\n",
       "      <td>68.0</td>\n",
       "      <td>9717</td>\n",
       "      <td>NaN</td>\n",
       "      <td>Regular</td>\n",
       "      <td>Level</td>\n",
       "      <td>Inside lot</td>\n",
       "      <td>Gentle</td>\n",
       "      <td>...</td>\n",
       "      <td>0</td>\n",
       "      <td>112</td>\n",
       "      <td>0</td>\n",
       "      <td>0</td>\n",
       "      <td>0</td>\n",
       "      <td>No Pool</td>\n",
       "      <td>No Fence</td>\n",
       "      <td>Warranty Deed - Conventional</td>\n",
       "      <td>Normal Sale</td>\n",
       "      <td>142125</td>\n",
       "    </tr>\n",
       "    <tr>\n",
       "      <th>1403</th>\n",
       "      <td>1460</td>\n",
       "      <td>1-STORY 1946 &amp; NEWER</td>\n",
       "      <td>Resid Low Density</td>\n",
       "      <td>75.0</td>\n",
       "      <td>9937</td>\n",
       "      <td>NaN</td>\n",
       "      <td>Regular</td>\n",
       "      <td>Level</td>\n",
       "      <td>Inside lot</td>\n",
       "      <td>Gentle</td>\n",
       "      <td>...</td>\n",
       "      <td>68</td>\n",
       "      <td>0</td>\n",
       "      <td>0</td>\n",
       "      <td>0</td>\n",
       "      <td>0</td>\n",
       "      <td>No Pool</td>\n",
       "      <td>No Fence</td>\n",
       "      <td>Warranty Deed - Conventional</td>\n",
       "      <td>Normal Sale</td>\n",
       "      <td>147500</td>\n",
       "    </tr>\n",
       "  </tbody>\n",
       "</table>\n",
       "<p>2 rows × 69 columns</p>\n",
       "</div>"
      ],
      "text/plain": [
       "        Id                  Type       Zoning Class  Lot Frontage  Lot Area  \\\n",
       "1402  1459  1-STORY 1946 & NEWER  Resid Low Density          68.0      9717   \n",
       "1403  1460  1-STORY 1946 & NEWER  Resid Low Density          75.0      9937   \n",
       "\n",
       "     Alley Lot Shape Land Contour  Lot Config Land Slope  ... Open Porch Area  \\\n",
       "1402   NaN   Regular        Level  Inside lot     Gentle  ...               0   \n",
       "1403   NaN   Regular        Level  Inside lot     Gentle  ...              68   \n",
       "\n",
       "     Enclosed Porch Area 3 Season Porch Area Screen Porch Area  Pool Area  \\\n",
       "1402                 112                   0                 0          0   \n",
       "1403                   0                   0                 0          0   \n",
       "\n",
       "      Pool Qual     Fence                     Sale Type Sale Condition  \\\n",
       "1402    No Pool  No Fence  Warranty Deed - Conventional    Normal Sale   \n",
       "1403    No Pool  No Fence  Warranty Deed - Conventional    Normal Sale   \n",
       "\n",
       "     Sale Price  \n",
       "1402     142125  \n",
       "1403     147500  \n",
       "\n",
       "[2 rows x 69 columns]"
      ]
     },
     "execution_count": 8,
     "metadata": {},
     "output_type": "execute_result"
    }
   ],
   "source": [
    "# by default, tail() returns the last 5 rows of the dataframe\n",
    "df_realestate.tail(n=2)"
   ]
  },
  {
   "cell_type": "markdown",
   "id": "d063173d",
   "metadata": {},
   "source": [
    "- view the info for df_realestate"
   ]
  },
  {
   "cell_type": "code",
   "execution_count": 9,
   "id": "b3682741",
   "metadata": {},
   "outputs": [
    {
     "name": "stdout",
     "output_type": "stream",
     "text": [
      "<class 'pandas.core.frame.DataFrame'>\n",
      "RangeIndex: 1404 entries, 0 to 1403\n",
      "Data columns (total 69 columns):\n",
      " #   Column                    Non-Null Count  Dtype  \n",
      "---  ------                    --------------  -----  \n",
      " 0   Id                        1404 non-null   int64  \n",
      " 1   Type                      1404 non-null   object \n",
      " 2   Zoning Class              1404 non-null   object \n",
      " 3   Lot Frontage              1151 non-null   float64\n",
      " 4   Lot Area                  1404 non-null   int64  \n",
      " 5   Alley                     84 non-null     object \n",
      " 6   Lot Shape                 1404 non-null   object \n",
      " 7   Land Contour              1404 non-null   object \n",
      " 8   Lot Config                1404 non-null   object \n",
      " 9   Land Slope                1404 non-null   object \n",
      " 10  Nbhd                      1404 non-null   object \n",
      " 11  Location Condition        1404 non-null   object \n",
      " 12  Bldg Type                 1404 non-null   object \n",
      " 13  House Style               1404 non-null   object \n",
      " 14  OvQual                    1404 non-null   int64  \n",
      " 15  Overall Cond              1404 non-null   int64  \n",
      " 16  Built                     1404 non-null   int64  \n",
      " 17  Year Remod Add            1404 non-null   int64  \n",
      " 18  Roof Style                1404 non-null   object \n",
      " 19  Roof Material             1404 non-null   object \n",
      " 20  Exterior Primary          1404 non-null   object \n",
      " 21  Masonry/Veneer            580 non-null    object \n",
      " 22  Masonry/Veneer Area       1396 non-null   float64\n",
      " 23  Exterior Qual             1404 non-null   object \n",
      " 24  Exterior Cond             1404 non-null   object \n",
      " 25  Foundation                1404 non-null   object \n",
      " 26  Basement Height           1404 non-null   object \n",
      " 27  Basement Cond             1404 non-null   object \n",
      " 28  Basement Exposure         1404 non-null   object \n",
      " 29  Basement Finish           1404 non-null   object \n",
      " 30  Basement Finished Area    1404 non-null   int64  \n",
      " 31  Basement Unfinished Area  1404 non-null   int64  \n",
      " 32  Basement Area             1404 non-null   int64  \n",
      " 33  Heating Qual              1404 non-null   object \n",
      " 34  CentralAir                1404 non-null   object \n",
      " 35  Electrical                1404 non-null   object \n",
      " 36  1st Floor Area            1404 non-null   int64  \n",
      " 37  2nd Floor Area            1404 non-null   int64  \n",
      " 38  Living Area Above Grade   1404 non-null   int64  \n",
      " 39  Basement Full Baths       1404 non-null   int64  \n",
      " 40  Basement Half baths       1404 non-null   int64  \n",
      " 41  Full Baths Above Grade    1404 non-null   int64  \n",
      " 42  Half Baths Above Grade    1404 non-null   int64  \n",
      " 43  Bedrooms Above Grade      1404 non-null   int64  \n",
      " 44  Kitchens Above Grade      1404 non-null   int64  \n",
      " 45  Kitchen Qual              1404 non-null   object \n",
      " 46  Total Rooms Above Grade   1404 non-null   int64  \n",
      " 47  Functionality             1404 non-null   object \n",
      " 48  Fireplaces                1404 non-null   int64  \n",
      " 49  Fireplce Qual             1404 non-null   object \n",
      " 50  Garage Type               1404 non-null   object \n",
      " 51  Garage Yr Built           1341 non-null   float64\n",
      " 52  Garage Finish             1404 non-null   object \n",
      " 53  Garage Cars               1404 non-null   int64  \n",
      " 54  Garage Area               1404 non-null   int64  \n",
      " 55  Garage Qual               1404 non-null   object \n",
      " 56  Garage Cond               1404 non-null   object \n",
      " 57  Paved Drive               1404 non-null   object \n",
      " 58  Wood Deck Area            1404 non-null   int64  \n",
      " 59  Open Porch Area           1404 non-null   int64  \n",
      " 60  Enclosed Porch Area       1404 non-null   int64  \n",
      " 61  3 Season Porch Area       1404 non-null   int64  \n",
      " 62  Screen Porch Area         1404 non-null   int64  \n",
      " 63  Pool Area                 1404 non-null   int64  \n",
      " 64  Pool Qual                 1404 non-null   object \n",
      " 65  Fence                     1404 non-null   object \n",
      " 66  Sale Type                 1404 non-null   object \n",
      " 67  Sale Condition            1404 non-null   object \n",
      " 68  Sale Price                1404 non-null   int64  \n",
      "dtypes: float64(3), int64(29), object(37)\n",
      "memory usage: 757.0+ KB\n"
     ]
    }
   ],
   "source": [
    "df_realestate.info() # gives a summary of the dataframe"
   ]
  },
  {
   "cell_type": "markdown",
   "id": "5d5bcf4c",
   "metadata": {},
   "source": [
    "In this section of viewing data we did above:\n",
    "- We used the `head()` method to view the first 5 rows of the DataFrame.\n",
    "- We used the `sample()` method to view a random sample of 5 rows from the DataFrame.\n",
    "- We used the `info()` method to get a summary of the DataFrame, including the number of non-null values and data types of each column."
   ]
  },
  {
   "cell_type": "markdown",
   "id": "19fbb337",
   "metadata": {},
   "source": [
    "## 6 Drop and replace columns\n",
    "    In this section, we will drop unnecessary columns from the DataFrame and replace some values in the columns with more meaningful ones. We will also rename some columns for better readability.\n",
    "    Below is the list of columns to drop:\n",
    "    - Zoning Class\n",
    "    - Lot Shape\n",
    "    - Lot Config\n",
    "    - Land Slope\n",
    "    - Bldg Type\n",
    "    - House Style\n",
    "    - Roof Style\n",
    "    - Roof Material\n",
    "    - Exterior Primary\n",
    "    - Masonry/Veneer\n",
    "\n",
    "    - Exterior Qual\n",
    "    - Exterior Cond\n",
    "    - Foundation\n",
    "    - Basement Height\n",
    "    - Basement Cond\n",
    "    - Basement Exposure\n",
    "    - Basement Finish\n",
    "    - Heating Qual\n",
    "    - CentralAir\n",
    "    - Electrical\n",
    "\n",
    "    - Functionality\n",
    "    - Fireplce Qual\n",
    "    - Garage Type\n",
    "    - Garage Qual\n",
    "    - Garage Cond\n",
    "    - Paved Drive\n",
    "    - Pool Qual\n",
    "    - Fence\n",
    "    - Sale Type\n",
    "    - Year Remod Add"
   ]
  },
  {
   "cell_type": "code",
   "execution_count": 10,
   "id": "2de08d85",
   "metadata": {},
   "outputs": [
    {
     "name": "stdout",
     "output_type": "stream",
     "text": [
      "Dimensions of the dataframe before dropping columns:  (1404, 69)\n",
      "Dimensions of the dataframe after dropping columns:  (1404, 39)\n"
     ]
    }
   ],
   "source": [
    "print(\"Dimensions of the dataframe before dropping columns: \", df_realestate.shape)\n",
    "# Drop columns that are not needed for analysis\n",
    "# Create a list of columns to drop\n",
    "\n",
    "columns_to_drop = [\n",
    "    'Zoning Class', 'Lot Shape', 'Lot Config', 'Land Slope', 'Bldg Type', 'House Style',\n",
    "    'Roof Style', 'Roof Material', 'Exterior Primary', 'Masonry/Veneer', 'Exterior Qual',\n",
    "    'Exterior Cond', 'Foundation', 'Basement Height', 'Basement Cond', 'Basement Exposure',\n",
    "    'Basement Finish', 'Heating Qual', 'CentralAir', 'Electrical', 'Functionality',\n",
    "    'Fireplce Qual', 'Garage Type', 'Garage Qual', 'Garage Cond', 'Paved Drive',\n",
    "    'Pool Qual', 'Fence', 'Sale Type', 'Year Remod Add'\n",
    "]\n",
    "\n",
    "df_realestate = df_realestate.drop(columns=columns_to_drop)\n",
    "print(\"Dimensions of the dataframe after dropping columns: \", df_realestate.shape)"
   ]
  },
  {
   "cell_type": "markdown",
   "id": "b25c0e07",
   "metadata": {},
   "source": [
    "** Task 1: Drop unnecessary columns from the DataFrame.** Achived but problem is the with number of columns that assignment mentioned was 38 but the number of columns that we have in the dataset after dropping the columns is 39. If we drop the column ID which is just a row number then the number of columns will be 38.\n",
    "Next we will rename the following columns:\n",
    "o Type to Dwelling Type\n",
    "o OvQual to Overall Quality\n",
    "o Nbhd to Neighborhood\n",
    "o Built to Year Built"
   ]
  },
  {
   "cell_type": "code",
   "execution_count": 11,
   "id": "439de441",
   "metadata": {},
   "outputs": [],
   "source": [
    "df_realestate = df_realestate.rename(columns={\n",
    "    'Type': 'Dwelling Type',\n",
    "    'OvQual': 'Overall Quality',\n",
    "    'Nbhd': 'Neighborhood',\n",
    "    'Built': 'Year Built'\n",
    "})"
   ]
  },
  {
   "cell_type": "markdown",
   "id": "41b4f8e9",
   "metadata": {},
   "source": [
    "## Grouping the data and replacing values\n",
    "### Section 7a: Grouping based on 'Neighborhood' and replace Values"
   ]
  },
  {
   "cell_type": "code",
   "execution_count": 12,
   "id": "a5b91102",
   "metadata": {},
   "outputs": [
    {
     "name": "stdout",
     "output_type": "stream",
     "text": [
      "                  Neighborhood  Count\n",
      "0          Bloomington Heights      6\n",
      "1              Bloomington Hts     11\n",
      "2                     Bluestem      2\n",
      "3                    Briardale     16\n",
      "4                    Brookside     49\n",
      "5                  Clear Creek     27\n",
      "6                College Creek    150\n",
      "7                     Crawford     50\n",
      "8                      Edwards     89\n",
      "9                      Gilbert     79\n",
      "10      Iowa DOT and Rail Road     34\n",
      "11              Meadow Village     10\n",
      "12                    Mitchell     48\n",
      "13                  North Ames    216\n",
      "14             Northpark Villa      9\n",
      "15                  Northridge     41\n",
      "16          Northridge Heights     77\n",
      "17              Northwest Ames     73\n",
      "18                    Old Town    103\n",
      "19                      Sawyer     74\n",
      "20                 Sawyer West     58\n",
      "21                    Somerset     86\n",
      "22  South & West of Iowa State     24\n",
      "23                 Stone Brook     25\n",
      "24                  Timberland     36\n",
      "25                     Veenker     11\n"
     ]
    }
   ],
   "source": [
    "# Group by 'Neighborhood' and count occurrences\n",
    "neighborhood_counts = df_realestate.groupby('Neighborhood')['Neighborhood'].count().reset_index(name='Count')\n",
    "# reset_index() is used to convert the Series back to a DataFrame\n",
    "# and name the count column 'Count'\n",
    "\n",
    "# Display the result (only the Neighborhood and its count)\n",
    "print(neighborhood_counts[['Neighborhood', 'Count']])"
   ]
  },
  {
   "cell_type": "markdown",
   "id": "91612753",
   "metadata": {},
   "source": [
    "If we observe the frequency table above, we can see that we have Bloomington Heights and Blookington hts as two separate entries but problem is both are same and there is some spelling/typing error. we will make them same. "
   ]
  },
  {
   "cell_type": "code",
   "execution_count": 19,
   "id": "ea705d1c",
   "metadata": {},
   "outputs": [],
   "source": [
    "# Correct typos for Blloomington Heights\n",
    "neighborhood_corrections = {\n",
    "    'Bloomington Hts': 'Bloomington Heights'\n",
    "}\n",
    "df_realestate['Neighborhood'] = df_realestate['Neighborhood'].replace(neighborhood_corrections)"
   ]
  },
  {
   "cell_type": "code",
   "execution_count": 20,
   "id": "9553a998",
   "metadata": {},
   "outputs": [
    {
     "name": "stdout",
     "output_type": "stream",
     "text": [
      "                  Neighborhood  Count\n",
      "0          Bloomington Heights     17\n",
      "1                     Bluestem      2\n",
      "2                    Briardale     16\n",
      "3                    Brookside     49\n",
      "4                  Clear Creek     27\n",
      "5                College Creek    150\n",
      "6                     Crawford     50\n",
      "7                      Edwards     89\n",
      "8                      Gilbert     79\n",
      "9       Iowa DOT and Rail Road     34\n",
      "10              Meadow Village     10\n",
      "11                    Mitchell     48\n",
      "12                  North Ames    216\n",
      "13             Northpark Villa      9\n",
      "14                  Northridge     41\n",
      "15          Northridge Heights     77\n",
      "16              Northwest Ames     73\n",
      "17                    Old Town    103\n",
      "18                      Sawyer     74\n",
      "19                 Sawyer West     58\n",
      "20                    Somerset     86\n",
      "21  South & West of Iowa State     24\n",
      "22                 Stone Brook     25\n",
      "23                  Timberland     36\n",
      "24                     Veenker     11\n"
     ]
    }
   ],
   "source": [
    "# checking if the correction worked\n",
    "\n",
    "neighborhood_counts = df_realestate.groupby('Neighborhood')['Neighborhood'].count().reset_index(name='Count')\n",
    "\n",
    "print(neighborhood_counts[['Neighborhood', 'Count']])"
   ]
  },
  {
   "cell_type": "markdown",
   "id": "8f43d254",
   "metadata": {},
   "source": [
    "After reviewing the frequency table again, we are able to solve the problem of having two different entries for the same neighborhood. \n",
    "Next we need to  show the median sale price for each neighborhood."
   ]
  },
  {
   "cell_type": "code",
   "execution_count": 22,
   "id": "3fc803cb",
   "metadata": {},
   "outputs": [
    {
     "name": "stdout",
     "output_type": "stream",
     "text": [
      "                  Neighborhood  Median Sale Price\n",
      "15          Northridge Heights           315000.0\n",
      "14                  Northridge           301500.0\n",
      "22                 Stone Brook           278000.0\n",
      "23                  Timberland           233975.0\n",
      "20                    Somerset           225500.0\n",
      "24                     Veenker           218000.0\n",
      "6                     Crawford           208812.0\n",
      "4                  Clear Creek           200000.0\n",
      "5                College Creek           197200.0\n",
      "0          Bloomington Heights           191000.0\n",
      "16              Northwest Ames           182900.0\n",
      "8                      Gilbert           181000.0\n",
      "19                 Sawyer West           179950.0\n",
      "11                    Mitchell           154750.0\n",
      "13             Northpark Villa           146000.0\n",
      "12                  North Ames           141000.0\n",
      "21  South & West of Iowa State           139750.0\n",
      "1                     Bluestem           137500.0\n",
      "18                      Sawyer           135000.0\n",
      "3                    Brookside           128000.0\n",
      "7                      Edwards           120000.0\n",
      "17                    Old Town           119900.0\n",
      "10              Meadow Village           106000.0\n",
      "2                    Briardale           106000.0\n",
      "9       Iowa DOT and Rail Road           104750.0\n"
     ]
    }
   ],
   "source": [
    "# Calculate median sale price per neighborhood (sorted for readability)\n",
    "median_prices = df_realestate.groupby('Neighborhood')['Sale Price'].median().reset_index(name='Median Sale Price')\n",
    "median_prices_sorted = median_prices.sort_values(by='Median Sale Price', ascending=False)\n",
    "# sort_values ascending=False will sort the values in descending order\n",
    "# its easier to read the output and we can see the neighborhoods with the highest median sale prices at the top\n",
    "\n",
    "# Display the result\n",
    "print(median_prices_sorted)"
   ]
  },
  {
   "cell_type": "markdown",
   "id": "ee3d956b",
   "metadata": {},
   "source": [
    "From the above output, we can see that the median sale price for Northridge Height is higest where as Neighborhood of Iowa DOT and Rail Road is the lowest.\n",
    "### Section 7b: Group based on ‘Dwelling Type’ and replace values\n",
    "Very similar to the previous section, we will group the data based on Dwelling Type."
   ]
  },
  {
   "cell_type": "code",
   "execution_count": 25,
   "id": "61839e70",
   "metadata": {},
   "outputs": [
    {
     "name": "stdout",
     "output_type": "stream",
     "text": [
      "           Dwelling Type  Count\n",
      "0            1 STORY PUD     87\n",
      "1   1-1/2 STORY ALL AGES    138\n",
      "2   1-STORY 1945 & OLDER     62\n",
      "3   1-STORY 1946 & NEWER    531\n",
      "4    2 FAMILY CONVERSION     28\n",
      "5   2-1/2 STORY ALL AGES     15\n",
      "6   2-STORY 1945 & OLDER     59\n",
      "7   2-STORY 1946 & NEWER    298\n",
      "8            2-STORY PUD     63\n",
      "9                 DUPLEX     46\n",
      "10           SPLIT FOYER     20\n",
      "11  SPLIT OR MULTI-LEVEL     57\n"
     ]
    }
   ],
   "source": [
    "# Group by 'Neighborhood' and count occurrences\n",
    "Dwelling_counts = df_realestate.groupby('Dwelling Type')['Dwelling Type'].count().reset_index(name='Count')\n",
    "# reset_index() is used to convert the Series back to a DataFrame\n",
    "# and name the count column 'Count'\n",
    "\n",
    "# Display the result (only the Neighborhood and its count)\n",
    "print(Dwelling_counts[['Dwelling Type', 'Count']])"
   ]
  },
  {
   "cell_type": "markdown",
   "id": "9693ee86",
   "metadata": {},
   "source": [
    "Similar to the previous section, we have same problem of having two different entries for the same dwelling type. i.e 1 STORY PUD and 1-STORY PUD are two different entries but they are same.\n",
    "We will make them same and then show the median sale price for each dwelling type."
   ]
  },
  {
   "cell_type": "code",
   "execution_count": 28,
   "id": "330d3741",
   "metadata": {},
   "outputs": [],
   "source": [
    "# Correct typos for 1 STORY PUD\n",
    "Dwelling_corrections = {\n",
    "    '1 STORY PUD': '1-STORY PUD'\n",
    "}\n",
    "df_realestate['Dwelling Type'] = df_realestate['Dwelling Type'].replace(Dwelling_corrections)"
   ]
  },
  {
   "cell_type": "code",
   "execution_count": 29,
   "id": "23fa1ae5",
   "metadata": {},
   "outputs": [
    {
     "name": "stdout",
     "output_type": "stream",
     "text": [
      "           Dwelling Type  Median Sale Price\n",
      "7   2-STORY 1946 & NEWER           215600.0\n",
      "3            1-STORY PUD           192000.0\n",
      "11  SPLIT OR MULTI-LEVEL           165500.0\n",
      "5   2-1/2 STORY ALL AGES           164000.0\n",
      "2   1-STORY 1946 & NEWER           160000.0\n",
      "6   2-STORY 1945 & OLDER           157000.0\n",
      "8            2-STORY PUD           146000.0\n",
      "10           SPLIT FOYER           140750.0\n",
      "9                 DUPLEX           136702.5\n",
      "0   1-1/2 STORY ALL AGES           133716.0\n",
      "4    2 FAMILY CONVERSION           128250.0\n",
      "1   1-STORY 1945 & OLDER           100000.0\n"
     ]
    }
   ],
   "source": [
    "median_prices = df_realestate.groupby('Dwelling Type')['Sale Price'].median().reset_index(name='Median Sale Price')\n",
    "median_prices_sorted = median_prices.sort_values(by='Median Sale Price', ascending=False)\n",
    "# Display the result\n",
    "print(median_prices_sorted)"
   ]
  },
  {
   "cell_type": "markdown",
   "id": "da352c3f",
   "metadata": {},
   "source": [
    "From above output, we can see that the median sale price for 2-STORY 1946 & NEWER is highest where as the median sale price for 1-STORY 1945 & OLDER is lowest."
   ]
  },
  {
   "cell_type": "markdown",
   "id": "2198eebb",
   "metadata": {},
   "source": [
    "## 8. Summarize and Filter Data\n",
    "### Section 8a: Pivot Neighborhood and Land Contour\n",
    "\n"
   ]
  },
  {
   "cell_type": "code",
   "execution_count": 30,
   "id": "7e168da1",
   "metadata": {},
   "outputs": [
    {
     "name": "stdout",
     "output_type": "stream",
     "text": [
      "Neighborhood vs. Land Contour - Median Sale Price:\n",
      "Land Contour                  Banked  Depression  Hillside     Level\n",
      "Neighborhood                                                        \n",
      "Bloomington Heights              0.0         0.0       0.0  191000.0\n",
      "Bluestem                         0.0         0.0       0.0  137500.0\n",
      "Briardale                        0.0         0.0       0.0  106000.0\n",
      "Brookside                   207000.0     39300.0   82500.0  128000.0\n",
      "Clear Creek                 220250.0    215000.0  186500.0  192000.0\n",
      "College Creek               124900.0    147000.0  124000.0  200000.0\n",
      "Crawford                    184250.0    224000.0  204350.0  219500.0\n",
      "Edwards                     159500.0     72950.0   94750.0  123500.0\n",
      "Gilbert                     154500.0         0.0  239950.0  181000.0\n",
      "Iowa DOT and Rail Road      118400.0     94500.0  102776.0  102000.0\n",
      "Meadow Village                   0.0         0.0       0.0  106000.0\n",
      "Mitchell                    134000.0    143000.0  122625.0  158950.0\n",
      "North Ames                  140000.0         0.0  188500.0  141000.0\n",
      "Northpark Villa                  0.0         0.0       0.0  146000.0\n",
      "Northridge                       0.0    260000.0       0.0  301750.0\n",
      "Northridge Heights               0.0         0.0  374000.0  314906.5\n",
      "Northwest Ames                   0.0         0.0       0.0  182900.0\n",
      "Old Town                    115000.0         0.0  130000.0  119450.0\n",
      "Sawyer                      168000.0         0.0       0.0  135000.0\n",
      "Sawyer West                 118964.0    276000.0       0.0  179900.0\n",
      "Somerset                         0.0         0.0       0.0  225500.0\n",
      "South & West of Iowa State  135900.0         0.0       0.0  145000.0\n",
      "Stone Brook                      0.0    267500.0  384713.0  278000.0\n",
      "Timberland                  160000.0    375000.0  257400.0  217450.0\n",
      "Veenker                          0.0    385000.0       0.0  206000.0\n"
     ]
    }
   ],
   "source": [
    "# Create pivot table\n",
    "df_re_pivot = df_realestate.pivot_table(\n",
    "    index='Neighborhood',\n",
    "    columns='Land Contour',\n",
    "    values='Sale Price',  \n",
    "    aggfunc='median',    \n",
    "    fill_value=0         # Replace NaN with 0 for cleaner output \n",
    ")\n",
    "\n",
    "# Display the pivot table\n",
    "print(\"Neighborhood vs. Land Contour - Median Sale Price:\")\n",
    "print(df_re_pivot)"
   ]
  },
  {
   "cell_type": "markdown",
   "id": "99ceb04c",
   "metadata": {},
   "source": [
    "\n",
    "Reason why used fill_value=0 is because if there are no sales in a neighborhood for a specific land contour, the pivot table will show NaN. instead of NaN, we want to show 0, which indicates that there were no sales in that neighborhood for that land contour. But problem with this is that it can be misleading stating price is 0 when it is not the case. Assuming that the precived audience is aware of this, we can use fill_value=0."
   ]
  }
 ],
 "metadata": {
  "kernelspec": {
   "display_name": "Python 3",
   "language": "python",
   "name": "python3"
  },
  "language_info": {
   "codemirror_mode": {
    "name": "ipython",
    "version": 3
   },
   "file_extension": ".py",
   "mimetype": "text/x-python",
   "name": "python",
   "nbconvert_exporter": "python",
   "pygments_lexer": "ipython3",
   "version": "3.12.0"
  }
 },
 "nbformat": 4,
 "nbformat_minor": 5
}
