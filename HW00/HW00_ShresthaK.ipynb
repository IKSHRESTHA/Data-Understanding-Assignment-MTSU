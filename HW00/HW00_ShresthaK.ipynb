{
 "cells": [
  {
   "cell_type": "markdown",
   "id": "170413a4",
   "metadata": {},
   "source": [
    "# HW00- Getting Started with Jupyter Notebooks\n",
    "### By Krishna Kumar Shrestha\n",
    "## Import Libraries\n",
    "## Import Data\n",
    "## View Data"
   ]
  },
  {
   "cell_type": "markdown",
   "id": "0de5d6b3",
   "metadata": {},
   "source": [
    "**Import Libraries**"
   ]
  },
  {
   "cell_type": "code",
   "execution_count": 2,
   "id": "10285229",
   "metadata": {},
   "outputs": [],
   "source": [
    "import numpy as np # used for numerical operations and array manipulations\n",
    "import pandas as pd # used for reading and writing data, manipulating data and more"
   ]
  },
  {
   "cell_type": "markdown",
   "id": "cb7990f6",
   "metadata": {},
   "source": [
    "**Import Data**"
   ]
  },
  {
   "cell_type": "code",
   "execution_count": null,
   "id": "64cda3e0",
   "metadata": {},
   "outputs": [],
   "source": [
    "df_weather = pd.read_csv('data/weather.csv', # specify the path to  CSV file\n",
    "                         index_col=None, # Not to use any column as the index\n",
    "                         header=0) #use the first row as the header\n",
    "\n",
    "# Comment: Importing the data from data folder called weather.csv which is a csv file "
   ]
  },
  {
   "cell_type": "markdown",
   "id": "e979d43d",
   "metadata": {},
   "source": [
    "**View Data**"
   ]
  },
  {
   "cell_type": "code",
   "execution_count": 4,
   "id": "bc3b1dde",
   "metadata": {},
   "outputs": [
    {
     "data": {
      "application/vnd.microsoft.datawrangler.viewer.v0+json": {
       "columns": [
        {
         "name": "index",
         "rawType": "int64",
         "type": "integer"
        },
        {
         "name": "Date",
         "rawType": "object",
         "type": "string"
        },
        {
         "name": "MaxTemp",
         "rawType": "float64",
         "type": "float"
        },
        {
         "name": "MaxTime",
         "rawType": "object",
         "type": "string"
        },
        {
         "name": "MinTemp",
         "rawType": "float64",
         "type": "float"
        },
        {
         "name": "MinTime",
         "rawType": "object",
         "type": "string"
        },
        {
         "name": "cloudCover",
         "rawType": "float64",
         "type": "float"
        },
        {
         "name": "precipProbability",
         "rawType": "float64",
         "type": "float"
        },
        {
         "name": "precipAmount",
         "rawType": "float64",
         "type": "float"
        },
        {
         "name": "sunriseTime",
         "rawType": "object",
         "type": "string"
        },
        {
         "name": "sunsetTime",
         "rawType": "object",
         "type": "string"
        },
        {
         "name": "windSpeed",
         "rawType": "float64",
         "type": "float"
        }
       ],
       "conversionMethod": "pd.DataFrame",
       "ref": "d7fb8f24-705b-429d-ab9a-1500db603957",
       "rows": [
        [
         "0",
         "3/1/17",
         "68.48",
         "3/1/17 5:00",
         "51.69",
         "2/28/17 9:18",
         "0.96",
         "0.91",
         "0.0184",
         "2/28/17 12:25",
         "2/28/17 23:46",
         "6.2"
        ],
        [
         "1",
         "3/2/17",
         "69.75",
         "3/1/17 10:30",
         "36.0",
         "3/2/17 5:00",
         "0.53",
         "1.0",
         "0.2422",
         "3/1/17 12:24",
         "3/1/17 23:47",
         "9.69"
        ],
        [
         "2",
         "3/3/17",
         "51.93",
         "3/2/17 21:49",
         "30.87",
         "3/2/17 11:39",
         "0.18",
         "0.36",
         "0.0028",
         "3/2/17 12:23",
         "3/2/17 23:48",
         "4.63"
        ],
        [
         "3",
         "3/4/17",
         "44.03",
         "3/3/17 21:51",
         "26.49",
         "3/3/17 14:06",
         "0.14",
         "0.7",
         "0.0017",
         "3/3/17 12:21",
         "3/3/17 23:49",
         "2.26"
        ],
        [
         "4",
         "3/5/17",
         "65.98",
         "3/4/17 21:24",
         "27.4",
         "3/4/17 10:06",
         "0.03",
         "0.0",
         "0.0",
         "3/4/17 12:20",
         "3/4/17 23:50",
         "4.69"
        ]
       ],
       "shape": {
        "columns": 11,
        "rows": 5
       }
      },
      "text/html": [
       "<div>\n",
       "<style scoped>\n",
       "    .dataframe tbody tr th:only-of-type {\n",
       "        vertical-align: middle;\n",
       "    }\n",
       "\n",
       "    .dataframe tbody tr th {\n",
       "        vertical-align: top;\n",
       "    }\n",
       "\n",
       "    .dataframe thead th {\n",
       "        text-align: right;\n",
       "    }\n",
       "</style>\n",
       "<table border=\"1\" class=\"dataframe\">\n",
       "  <thead>\n",
       "    <tr style=\"text-align: right;\">\n",
       "      <th></th>\n",
       "      <th>Date</th>\n",
       "      <th>MaxTemp</th>\n",
       "      <th>MaxTime</th>\n",
       "      <th>MinTemp</th>\n",
       "      <th>MinTime</th>\n",
       "      <th>cloudCover</th>\n",
       "      <th>precipProbability</th>\n",
       "      <th>precipAmount</th>\n",
       "      <th>sunriseTime</th>\n",
       "      <th>sunsetTime</th>\n",
       "      <th>windSpeed</th>\n",
       "    </tr>\n",
       "  </thead>\n",
       "  <tbody>\n",
       "    <tr>\n",
       "      <th>0</th>\n",
       "      <td>3/1/17</td>\n",
       "      <td>68.48</td>\n",
       "      <td>3/1/17 5:00</td>\n",
       "      <td>51.69</td>\n",
       "      <td>2/28/17 9:18</td>\n",
       "      <td>0.96</td>\n",
       "      <td>0.91</td>\n",
       "      <td>0.0184</td>\n",
       "      <td>2/28/17 12:25</td>\n",
       "      <td>2/28/17 23:46</td>\n",
       "      <td>6.20</td>\n",
       "    </tr>\n",
       "    <tr>\n",
       "      <th>1</th>\n",
       "      <td>3/2/17</td>\n",
       "      <td>69.75</td>\n",
       "      <td>3/1/17 10:30</td>\n",
       "      <td>36.00</td>\n",
       "      <td>3/2/17 5:00</td>\n",
       "      <td>0.53</td>\n",
       "      <td>1.00</td>\n",
       "      <td>0.2422</td>\n",
       "      <td>3/1/17 12:24</td>\n",
       "      <td>3/1/17 23:47</td>\n",
       "      <td>9.69</td>\n",
       "    </tr>\n",
       "    <tr>\n",
       "      <th>2</th>\n",
       "      <td>3/3/17</td>\n",
       "      <td>51.93</td>\n",
       "      <td>3/2/17 21:49</td>\n",
       "      <td>30.87</td>\n",
       "      <td>3/2/17 11:39</td>\n",
       "      <td>0.18</td>\n",
       "      <td>0.36</td>\n",
       "      <td>0.0028</td>\n",
       "      <td>3/2/17 12:23</td>\n",
       "      <td>3/2/17 23:48</td>\n",
       "      <td>4.63</td>\n",
       "    </tr>\n",
       "    <tr>\n",
       "      <th>3</th>\n",
       "      <td>3/4/17</td>\n",
       "      <td>44.03</td>\n",
       "      <td>3/3/17 21:51</td>\n",
       "      <td>26.49</td>\n",
       "      <td>3/3/17 14:06</td>\n",
       "      <td>0.14</td>\n",
       "      <td>0.70</td>\n",
       "      <td>0.0017</td>\n",
       "      <td>3/3/17 12:21</td>\n",
       "      <td>3/3/17 23:49</td>\n",
       "      <td>2.26</td>\n",
       "    </tr>\n",
       "    <tr>\n",
       "      <th>4</th>\n",
       "      <td>3/5/17</td>\n",
       "      <td>65.98</td>\n",
       "      <td>3/4/17 21:24</td>\n",
       "      <td>27.40</td>\n",
       "      <td>3/4/17 10:06</td>\n",
       "      <td>0.03</td>\n",
       "      <td>0.00</td>\n",
       "      <td>0.0000</td>\n",
       "      <td>3/4/17 12:20</td>\n",
       "      <td>3/4/17 23:50</td>\n",
       "      <td>4.69</td>\n",
       "    </tr>\n",
       "  </tbody>\n",
       "</table>\n",
       "</div>"
      ],
      "text/plain": [
       "     Date  MaxTemp       MaxTime  MinTemp       MinTime  cloudCover  \\\n",
       "0  3/1/17    68.48   3/1/17 5:00    51.69  2/28/17 9:18        0.96   \n",
       "1  3/2/17    69.75  3/1/17 10:30    36.00   3/2/17 5:00        0.53   \n",
       "2  3/3/17    51.93  3/2/17 21:49    30.87  3/2/17 11:39        0.18   \n",
       "3  3/4/17    44.03  3/3/17 21:51    26.49  3/3/17 14:06        0.14   \n",
       "4  3/5/17    65.98  3/4/17 21:24    27.40  3/4/17 10:06        0.03   \n",
       "\n",
       "   precipProbability  precipAmount    sunriseTime     sunsetTime  windSpeed  \n",
       "0               0.91        0.0184  2/28/17 12:25  2/28/17 23:46       6.20  \n",
       "1               1.00        0.2422   3/1/17 12:24   3/1/17 23:47       9.69  \n",
       "2               0.36        0.0028   3/2/17 12:23   3/2/17 23:48       4.63  \n",
       "3               0.70        0.0017   3/3/17 12:21   3/3/17 23:49       2.26  \n",
       "4               0.00        0.0000   3/4/17 12:20   3/4/17 23:50       4.69  "
      ]
     },
     "execution_count": 4,
     "metadata": {},
     "output_type": "execute_result"
    }
   ],
   "source": [
    " # Display the first 5 rows of the DataFrame\n",
    "# By default N is 5 but we can specify it\n",
    "# to display more or less rows\n",
    "df_weather.head(n=5)"
   ]
  }
 ],
 "metadata": {
  "kernelspec": {
   "display_name": "Python 3",
   "language": "python",
   "name": "python3"
  },
  "language_info": {
   "codemirror_mode": {
    "name": "ipython",
    "version": 3
   },
   "file_extension": ".py",
   "mimetype": "text/x-python",
   "name": "python",
   "nbconvert_exporter": "python",
   "pygments_lexer": "ipython3",
   "version": "3.12.0"
  }
 },
 "nbformat": 4,
 "nbformat_minor": 5
}
